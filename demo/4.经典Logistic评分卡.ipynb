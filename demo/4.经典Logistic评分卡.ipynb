{
 "cells": [
  {
   "cell_type": "code",
   "execution_count": 1,
   "metadata": {},
   "outputs": [],
   "source": [
    "import pandas as pd\n",
    "import numpy as np\n",
    "import BDMLtools as bm"
   ]
  },
  {
   "cell_type": "code",
   "execution_count": 2,
   "metadata": {},
   "outputs": [
    {
     "name": "stdout",
     "output_type": "stream",
     "text": [
      "1.3.3\n",
      "1.20.3\n",
      "0.1.9\n"
     ]
    }
   ],
   "source": [
    "print(pd.__version__)\n",
    "print(np.__version__)\n",
    "print(bm.__version__)"
   ]
  },
  {
   "cell_type": "markdown",
   "metadata": {},
   "source": [
    "## 1 数据说明"
   ]
  },
  {
   "cell_type": "markdown",
   "metadata": {},
   "source": [
    "数据集位置:https://github.com/zk403/demodata/creditdata_small.csv\n",
    "\n",
    "+ 此数据为外国某消费金融公司的某个人消费类贷款产品数据,客群大多拥有信用记录,要求在贷款准入节点构建评分卡评估客群信用风险,为贷中审批,授信定价提供参考。\n",
    "\n",
    "+ 原始数据包括客户的申请信息,外部数据,征信信息,历史申请信息(若有),历史贷款表现(若有)五类信息,分散于不同的表中,这里已经进行了特征构建与宽表构建\n",
    "\n",
    "+ 原始数据共20万样本,5000多个特征,这里为简化选择原数据中的122个特征与随机3万的样本演示\n",
    "\n",
    "+ 特征含义见下:\n",
    "\n",
    "\n",
    "```\n",
    "1.申请及外部数据字段\n",
    " ID':订单编号\n",
    " TARGET:目标变量\n",
    " GENDER':性别(F,M)\n",
    " Age:年龄\n",
    " FLAG_OWN_CAR:是否有车\n",
    " OWN_CAR_AGE:拥有车时长\n",
    " HOUSING_TYPE:住房类型\n",
    " FLAG_OWN_REALTY:是否有房产\n",
    " NUM_CHILDREN':子女个数\n",
    " EDULEVEL:教育水平\n",
    " MARRIAGE':婚姻状况\n",
    " DAYS_EMPLOYED:工作时长天\n",
    " DAYS_LAST_PHONE_CHANGE':以往申请记录中联系方式变更距今时长天\n",
    " DAYS_ID_PUBLISH:以往申请记录中变更申请的身份材料时长天\n",
    " CITY_RATING:居住城市综合水平评级\n",
    " score1:外部信用评分1\n",
    " score2:外部信用评分2\n",
    " score3:外部信用评分3\n",
    "2.征信记录\n",
    " Bureau_Var102:近18月最大授信金额_在贷\n",
    " Bureau_Var1033:最大授信使用率_所有\n",
    " Bureau_Var1036:近24月最大授信使用率_所有\n",
    " Bureau_Var1044:近24月平均授信使用率_所有\n",
    " Bureau_Var1048:近24月平均授信使用率_在贷\n",
    " Bureau_Var1060:近24月平均授信使用率_所有_信用卡\n",
    " Bureau_Var1061:平均授信使用率_在贷_信用卡\n",
    " Bureau_Var1068:近24月最大授信使用率_所有_贷款\n",
    " Bureau_Var1069:最大授信使用率_在贷_贷款\n",
    " Bureau_Var1072:近24月最大授信使用率_在贷_贷款\n",
    " Bureau_Var1075:近12月平均授信使用率_所有_贷款\n",
    " Bureau_Var1089:平均授信使用率_所有_消费金融\n",
    " Bureau_Var109:近15月平均授信金额_所有\n",
    " Bureau_Var1096:近24月平均授信使用率_在贷_消费金融\n",
    " Bureau_Var1098:180天以内贷款笔数_所有\n",
    " Bureau_Var112:平均授信金额_所有\n",
    " Bureau_Var1120:征信到期日前360天贷款笔数_在贷_贷款\n",
    " Bureau_Var1123:征信到期日前270天贷款笔数_所有_消费金融\n",
    " Bureau_Var1129:已结清征信90天贷款笔数_所有\n",
    " Bureau_Var1132:已结清征信360天贷款笔数_所有\n",
    " Bureau_Var1149:已结清征信90天贷款笔数_在贷_贷款\n",
    " Bureau_Var1152:已结清征信360天贷款笔数_在贷_贷款\n",
    " Bureau_Var1153:已结清征信90天贷款笔数_所有_消费金融\n",
    " Bureau_Var1157:已结清征信90天贷款笔数_在贷_消费金融\n",
    " Bureau_Var1159:已结清征信270天贷款笔数_在贷_消费金融\n",
    " Bureau_Var116:近1年平均授信金额_在贷\n",
    " Bureau_Var1160:已结清征信360天贷款笔数_在贷_消费金融\n",
    " Bureau_Var117:近15月平均授信金额_在贷\n",
    " Bureau_Var120:平均授信金额_在贷\n",
    " Bureau_Var124:近1年授信金额标准差_所有\n",
    " Bureau_Var128:授信金额标准差_所有\n",
    " Bureau_Var136:平均授信金额标准差_在贷\n",
    " Bureau_Var140:近1年最大负债_所有\n",
    " Bureau_Var141:近15月最大负债_所有\n",
    " Bureau_Var142:近18月最大负债_所有\n",
    " Bureau_Var150:近18月最大负债_在贷\n",
    " Bureau_Var156:近1年总负债_所有\n",
    " Bureau_Var159:近2年总负债_所有\n",
    " Bureau_Var19:近6月客户贷款数_在贷\n",
    " Bureau_Var21:近15月客户贷款数_在贷\n",
    " Bureau_Var22:近18月客户贷款数_在贷\n",
    " Bureau_Var24:客户贷款数_在贷\n",
    " Bureau_Var248:最大历史逾期金额_所有_信用卡\n",
    " Bureau_Var272:贷款平均最大历史逾期金额_在贷_信用卡\n",
    " Bureau_Var304:最大授信金额_在贷_信用卡\n",
    " Bureau_Var311:近2年平均授信金额_所有_信用卡\n",
    " Bureau_Var312:平均授信金额_所有_信用卡\n",
    " Bureau_Var317:近15月平均授信金额_在贷_信用卡\n",
    " Bureau_Var320:平均授信金额_在贷_信用卡\n",
    " Bureau_Var328:授信金额标准差_所有_信用卡\n",
    " Bureau_Var342:近18月最大负债_所有_信用卡\n",
    " Bureau_Var343:近2年最大负债_所有_信用卡\n",
    " Bureau_Var359:近2年总负债_所有_信用卡\n",
    " Bureau_Var368:总负债_在贷_信用卡\n",
    " Bureau_Var416:客户贷款数_结清_贷款\n",
    " Bureau_Var448:最大历史逾期金额_所有_贷款\n",
    " Bureau_Var48:最大历史逾期金额_所有\n",
    " Bureau_Var492:近1年最大授信金额_所有_贷款\n",
    " Bureau_Var494:近18月最大授信金额_所有_贷款\n",
    " Bureau_Var496:最大授信金额_所有_贷款\n",
    " Bureau_Var499:近6月最大授信金额_在贷_贷款\n",
    " Bureau_Var5:近15月客户贷款数_所有\n",
    " Bureau_Var507:近6月平均授信金额_所有_贷款\n",
    " Bureau_Var515:近6月平均授信金额_在贷_贷款\n",
    " Bureau_Var516:近1年平均授信金额_在贷_贷款\n",
    " Bureau_Var526:近18月授信金额标准差_所有_贷款\n",
    " Bureau_Var536:平均授信金额标准差_在贷_贷款\n",
    " Bureau_Var558:近18月总负债_所有_贷款\n",
    " Bureau_Var56:贷款平均最大历史逾期金额_所有\n",
    " Bureau_Var560:总负债_所有_贷款\n",
    " Bureau_Var568:总负债_在贷_贷款\n",
    " Bureau_Var616:客户贷款数_结清_消费金融\n",
    " Bureau_Var664:最大历史逾期金额_在贷_消费金融\n",
    " Bureau_Var680:贷款展期总次数_在贷_消费金融\n",
    " Bureau_Var688:贷款展期总次数_所有_消费金融\n",
    " Bureau_Var694:近18月最大授信金额_所有_消费金融\n",
    " Bureau_Var700:近1年最大授信金额_在贷_消费金融\n",
    " Bureau_Var701:近15月最大授信金额_在贷_消费金融\n",
    " Bureau_Var704:最大授信金额_在贷_消费金融\n",
    " Bureau_Var707:近6月平均授信金额_所有_消费金融\n",
    " Bureau_Var708:近1年平均授信金额_所有_消费金融\n",
    " Bureau_Var709:近15月平均授信金额_所有_消费金融\n",
    " Bureau_Var716:近1年平均授信金额_在贷_消费金融\n",
    " Bureau_Var751:近2年最大负债_在贷_消费金融\n",
    " Bureau_Var755:近6月总负债_所有_消费金融\n",
    " Bureau_Var765:近15月总负债_在贷_消费金融\n",
    " Bureau_Var806:近15月最大信用卡额度_所有_信用卡\n",
    " Bureau_Var807:近18月最大信用卡额度_所有_信用卡\n",
    " Bureau_Var94:近18月最大授信金额_所有\n",
    " Bureau_Var96:最大授信金额_所有  \n",
    "3.以往的逾期/还款类字段\n",
    " IP_Var24:近24月贷款最大逾期天数\n",
    " IP_Var30:近24月逾期期数占所有期数比例\n",
    " IP_Var31:提前还款期数占所有期数比例\n",
    " IP_Var36:近24月提前还款期数占所有期数比例\n",
    "4.以往的申请记录\n",
    " Previous_Var22:近24月贷款申请次数\n",
    " Previous_Var289:贷款申请平均金额_通过_CashLoan\n",
    " Previous_Var49:贷款申请平均金额_通过\n",
    " Previous_Var53:近12月贷款申请平均金额_通过\n",
    " Previous_Var536:近24月贷款申请平均金额_通过_ConsumerLoan\n",
    " Previous_Var545:贷款申请总金额_通过_ConsumerLoan\n",
    " Previous_Var56:近24月贷款申请平均金额_通过\n",
    " Previous_Var63:近18月贷款申请最大金额_通过\n",
    " Previous_Var64:近24月贷款申请最大金额_通过\n",
    "```"
   ]
  },
  {
   "cell_type": "markdown",
   "metadata": {},
   "source": [
    "## 2 数据清洗"
   ]
  },
  {
   "cell_type": "code",
   "execution_count": 3,
   "metadata": {},
   "outputs": [],
   "source": [
    "dat=pd.read_csv('creditdata_small.csv')"
   ]
  },
  {
   "cell_type": "code",
   "execution_count": 4,
   "metadata": {},
   "outputs": [
    {
     "data": {
      "text/html": [
       "<div>\n",
       "<style scoped>\n",
       "    .dataframe tbody tr th:only-of-type {\n",
       "        vertical-align: middle;\n",
       "    }\n",
       "\n",
       "    .dataframe tbody tr th {\n",
       "        vertical-align: top;\n",
       "    }\n",
       "\n",
       "    .dataframe thead th {\n",
       "        text-align: right;\n",
       "    }\n",
       "</style>\n",
       "<table border=\"1\" class=\"dataframe\">\n",
       "  <thead>\n",
       "    <tr style=\"text-align: right;\">\n",
       "      <th></th>\n",
       "      <th>ID</th>\n",
       "      <th>Bureau_Var704</th>\n",
       "      <th>Bureau_Var96</th>\n",
       "      <th>Bureau_Var272</th>\n",
       "      <th>Bureau_Var1089</th>\n",
       "      <th>Bureau_Var312</th>\n",
       "      <th>Bureau_Var807</th>\n",
       "      <th>Bureau_Var616</th>\n",
       "      <th>Bureau_Var1048</th>\n",
       "      <th>Bureau_Var751</th>\n",
       "      <th>...</th>\n",
       "      <th>Bureau_Var5</th>\n",
       "      <th>Bureau_Var1033</th>\n",
       "      <th>Score2</th>\n",
       "      <th>Score3</th>\n",
       "      <th>GENDER</th>\n",
       "      <th>FLAG_OWN_CAR</th>\n",
       "      <th>HOUSING_TYPE</th>\n",
       "      <th>FLAG_OWN_REALTY</th>\n",
       "      <th>EDULEVEL</th>\n",
       "      <th>MARRIAGE</th>\n",
       "    </tr>\n",
       "  </thead>\n",
       "  <tbody>\n",
       "    <tr>\n",
       "      <th>0</th>\n",
       "      <td>207650</td>\n",
       "      <td>1256400.0</td>\n",
       "      <td>1256400.0</td>\n",
       "      <td>NaN</td>\n",
       "      <td>0.826</td>\n",
       "      <td>NaN</td>\n",
       "      <td>NaN</td>\n",
       "      <td>NaN</td>\n",
       "      <td>0.826</td>\n",
       "      <td>1037164.5</td>\n",
       "      <td>...</td>\n",
       "      <td>1.0</td>\n",
       "      <td>0.826</td>\n",
       "      <td>0.763</td>\n",
       "      <td>0.328</td>\n",
       "      <td>F</td>\n",
       "      <td>N</td>\n",
       "      <td>House / apartment</td>\n",
       "      <td>Y</td>\n",
       "      <td>Higher education</td>\n",
       "      <td>Married</td>\n",
       "    </tr>\n",
       "    <tr>\n",
       "      <th>1</th>\n",
       "      <td>275128</td>\n",
       "      <td>661500.0</td>\n",
       "      <td>661500.0</td>\n",
       "      <td>NaN</td>\n",
       "      <td>0.377</td>\n",
       "      <td>291000.0</td>\n",
       "      <td>NaN</td>\n",
       "      <td>3.0</td>\n",
       "      <td>0.878</td>\n",
       "      <td>580963.5</td>\n",
       "      <td>...</td>\n",
       "      <td>1.0</td>\n",
       "      <td>1.005</td>\n",
       "      <td>0.042</td>\n",
       "      <td>0.578</td>\n",
       "      <td>M</td>\n",
       "      <td>N</td>\n",
       "      <td>House / apartment</td>\n",
       "      <td>Y</td>\n",
       "      <td>Higher education</td>\n",
       "      <td>Married</td>\n",
       "    </tr>\n",
       "    <tr>\n",
       "      <th>2</th>\n",
       "      <td>322610</td>\n",
       "      <td>NaN</td>\n",
       "      <td>0.0</td>\n",
       "      <td>0.0</td>\n",
       "      <td>NaN</td>\n",
       "      <td>0.0</td>\n",
       "      <td>NaN</td>\n",
       "      <td>NaN</td>\n",
       "      <td>NaN</td>\n",
       "      <td>NaN</td>\n",
       "      <td>...</td>\n",
       "      <td>NaN</td>\n",
       "      <td>NaN</td>\n",
       "      <td>0.261</td>\n",
       "      <td>NaN</td>\n",
       "      <td>F</td>\n",
       "      <td>N</td>\n",
       "      <td>House / apartment</td>\n",
       "      <td>Y</td>\n",
       "      <td>Secondary / secondary special</td>\n",
       "      <td>Separated</td>\n",
       "    </tr>\n",
       "    <tr>\n",
       "      <th>3</th>\n",
       "      <td>356778</td>\n",
       "      <td>NaN</td>\n",
       "      <td>112500.0</td>\n",
       "      <td>0.0</td>\n",
       "      <td>0.000</td>\n",
       "      <td>112500.0</td>\n",
       "      <td>1022.085</td>\n",
       "      <td>1.0</td>\n",
       "      <td>0.991</td>\n",
       "      <td>NaN</td>\n",
       "      <td>...</td>\n",
       "      <td>1.0</td>\n",
       "      <td>0.991</td>\n",
       "      <td>0.068</td>\n",
       "      <td>0.524</td>\n",
       "      <td>F</td>\n",
       "      <td>N</td>\n",
       "      <td>House / apartment</td>\n",
       "      <td>Y</td>\n",
       "      <td>Secondary / secondary special</td>\n",
       "      <td>Married</td>\n",
       "    </tr>\n",
       "    <tr>\n",
       "      <th>4</th>\n",
       "      <td>222035</td>\n",
       "      <td>NaN</td>\n",
       "      <td>7650000.0</td>\n",
       "      <td>NaN</td>\n",
       "      <td>0.000</td>\n",
       "      <td>NaN</td>\n",
       "      <td>NaN</td>\n",
       "      <td>1.0</td>\n",
       "      <td>NaN</td>\n",
       "      <td>NaN</td>\n",
       "      <td>...</td>\n",
       "      <td>NaN</td>\n",
       "      <td>0.974</td>\n",
       "      <td>0.464</td>\n",
       "      <td>0.796</td>\n",
       "      <td>M</td>\n",
       "      <td>Y</td>\n",
       "      <td>House / apartment</td>\n",
       "      <td>Y</td>\n",
       "      <td>Higher education</td>\n",
       "      <td>Single / not married</td>\n",
       "    </tr>\n",
       "  </tbody>\n",
       "</table>\n",
       "<p>5 rows × 121 columns</p>\n",
       "</div>"
      ],
      "text/plain": [
       "       ID  Bureau_Var704  Bureau_Var96  Bureau_Var272  Bureau_Var1089  \\\n",
       "0  207650      1256400.0     1256400.0            NaN           0.826   \n",
       "1  275128       661500.0      661500.0            NaN           0.377   \n",
       "2  322610            NaN           0.0            0.0             NaN   \n",
       "3  356778            NaN      112500.0            0.0           0.000   \n",
       "4  222035            NaN     7650000.0            NaN           0.000   \n",
       "\n",
       "   Bureau_Var312  Bureau_Var807  Bureau_Var616  Bureau_Var1048  Bureau_Var751  \\\n",
       "0            NaN            NaN            NaN           0.826      1037164.5   \n",
       "1       291000.0            NaN            3.0           0.878       580963.5   \n",
       "2            0.0            NaN            NaN             NaN            NaN   \n",
       "3       112500.0       1022.085            1.0           0.991            NaN   \n",
       "4            NaN            NaN            1.0             NaN            NaN   \n",
       "\n",
       "   ...  Bureau_Var5  Bureau_Var1033  Score2  Score3  GENDER  FLAG_OWN_CAR  \\\n",
       "0  ...          1.0           0.826   0.763   0.328       F             N   \n",
       "1  ...          1.0           1.005   0.042   0.578       M             N   \n",
       "2  ...          NaN             NaN   0.261     NaN       F             N   \n",
       "3  ...          1.0           0.991   0.068   0.524       F             N   \n",
       "4  ...          NaN           0.974   0.464   0.796       M             Y   \n",
       "\n",
       "        HOUSING_TYPE  FLAG_OWN_REALTY                       EDULEVEL  \\\n",
       "0  House / apartment                Y               Higher education   \n",
       "1  House / apartment                Y               Higher education   \n",
       "2  House / apartment                Y  Secondary / secondary special   \n",
       "3  House / apartment                Y  Secondary / secondary special   \n",
       "4  House / apartment                Y               Higher education   \n",
       "\n",
       "               MARRIAGE  \n",
       "0               Married  \n",
       "1               Married  \n",
       "2             Separated  \n",
       "3               Married  \n",
       "4  Single / not married  \n",
       "\n",
       "[5 rows x 121 columns]"
      ]
     },
     "execution_count": 4,
     "metadata": {},
     "output_type": "execute_result"
    }
   ],
   "source": [
    "dat.head()"
   ]
  },
  {
   "cell_type": "markdown",
   "metadata": {},
   "source": [
    "### 2.1 实体一致性"
   ]
  },
  {
   "cell_type": "markdown",
   "metadata": {},
   "source": [
    "bm.dtStandardization模块主要用于检查并消除原始数据的实体重复问题:\n",
    "    \n",
    "+ 数据的row_index重复:即标识行的索引有重复\n",
    "\n",
    "    + 通过参数drop_dup=True可对行去重并保留第一个index出现的行\n",
    "\n",
    "    + 一般默认情况下pandas.DataFrame的自建索引不会出现重复，而当某些情况需要设定一个index列去标识行，此时可以通过参数id_col进行指定，此时若drop_dup=True时，bm.dtStandardization将根据这个id_col进行去重，若set_index=True则该列将被设定为行索引\n",
    "    \n",
    "+ 数据的col_index重复:即标识列的索引有重复(列名)\n",
    "\n",
    "    + 此时通过参数drop_dup=True可进行行去重并保留第一个index出现的列\n",
    "    \n",
    "    + 一般数据的列名不会重复，但在一些情况下会产生重复的列名，例如使用pandas.concat,pandas.DataFrame.rename，或者从数据库取数时对join多表的公共字段没有进行重命名。重复的列名会导致后续进行处理时产生不可预知的错误，可设定drop_dup=True进行去重\n",
    "    \n",
    "+ bm.dtStandardization假定行或列标识重复时相应行或列的数据也是重复的,若行列标示下存在相同标示但数据不同的情况时请慎用drop_dup功能"
   ]
  },
  {
   "cell_type": "code",
   "execution_count": 5,
   "metadata": {},
   "outputs": [],
   "source": [
    "dat=bm.dtStandardization(id_col=['ID'],drop_dup=True).transform(dat)"
   ]
  },
  {
   "cell_type": "code",
   "execution_count": 6,
   "metadata": {},
   "outputs": [
    {
     "name": "stdout",
     "output_type": "stream",
     "text": [
      "数据dat行是否唯一:True \n",
      "数据dat列是否唯一:True\n"
     ]
    }
   ],
   "source": [
    "print(\"数据dat行是否唯一:{} \\n数据dat列是否唯一:{}\".format(dat.index.is_unique,dat.columns.is_unique))"
   ]
  },
  {
   "cell_type": "markdown",
   "metadata": {},
   "source": [
    "### 2.2 列类型分配"
   ]
  },
  {
   "cell_type": "markdown",
   "metadata": {},
   "source": [
    "python的pandas数据框的列类型是基于numpy的dtype并进行了更多的拓展与封装，在进行分析任务前，应确保数据的列的类型不能出现问题。\n",
    "\n",
    "笔者将适合进行数据分析的列类型分为**三大类**:\n",
    "  \n",
    "+ **数值型**:pandas类型为float,int,bool,timedelta,category(ordered)等列,经过直接转换可进行数值计算\n",
    "+ **分类型**:pandas类型为string,object,category(unordered)等列,不能直接进行数值计算\n",
    "+ **日期型**:pandas类型为datetime,datetimetz等列,经过间接的特征变换可进行数值计算,例如时间差\n",
    "    \n",
    "这里需说明category(ordered)为有序分类特征,为方便计算归类为数值型\n",
    "\n",
    "bm.dtypeAllocator模块主要用于对不同的列类型进行分配并转换为上述三大类型\n",
    "\n",
    "+ **dtypes_dict={'num':colname_list,'str':colname_list,'date':colname_list,'tdiff':colname_list}**用于指定列类型\n",
    "\n",
    "    + dtypes_dict['num']中的所有列将转换为float类型,dtypes_dict['str']中的所有列将转换为object类型,\n",
    "    + dtypes_dict['date']列将转换为datetime类型,dtypes_dict['tdiff']列将转换为float类型，参数t_unit控制时间差单位       \n",
    "    + colname_list是列名列表,可以为[],代表无此类特征,注意各个类的列名列表不能出现交集与重复,否则将报错终止\n",
    "    \n",
    "+ **dtypes_dict={}**时将自动处理输入数据并最终转换为object、number、date三种类型\n",
    "    + number类型:\n",
    "        数值类型数据(float,int,bool)将被全部转换为float类型数据\n",
    "        有序分类类型数据(category-ordered)将顺序被全部转换为float类型数据,其与原始数据的对应关系将被保存在self.order_info中\n",
    "        时间差类型数据(timedelta)将被转换为float,时间单位通过参数t_unit进行指定,且作用于全部的timedelta类型  \n",
    "    + object类型:\n",
    "        无序分类类型数据(category-unordered)将被全部转换为object类型数据\n",
    "        字符类型数据(str)将被全部转换为object类型数据\n",
    "    + 日期类型:\n",
    "        时间类型数据(datetime,datetimetz)将保持默认,可通过参数选择是否剔除掉日期型数据   \n",
    "        \n",
    "其他详情请见bm.dtypeAllocator帮助文档"
   ]
  },
  {
   "cell_type": "code",
   "execution_count": 7,
   "metadata": {},
   "outputs": [],
   "source": [
    "dat=bm.dtypeAllocator(dtypes_dict={}).transform(dat)"
   ]
  },
  {
   "cell_type": "markdown",
   "metadata": {},
   "source": [
    "### 2.3 数据质量报告"
   ]
  },
  {
   "cell_type": "markdown",
   "metadata": {},
   "source": [
    "bm.EDAReport用于产生连续特征与分类特征的数据质量报告,可用于探查数据的分布、异常情况、错误情况\n",
    "+ 参数categorical_col用于指定哪些列是连续数据,最终仅会产生这些列的数据质量报告,为None将自动寻找数据中的object类型列\n",
    "+ 参数numeric_col用于指定哪些列是连续数据,最终仅会计算这些列的数据质量报告,为None将自动寻找数据中的numeric类型列\n",
    "+ 参数out_path可以指定目录将数据质量报告输出为excel,为None时表示不输出"
   ]
  },
  {
   "cell_type": "code",
   "execution_count": 8,
   "metadata": {},
   "outputs": [],
   "source": [
    "eda=bm.EDAReport(categorical_col=None,\n",
    "                 numeric_col=None,\n",
    "                 out_path=None).fit(dat)"
   ]
  },
  {
   "cell_type": "markdown",
   "metadata": {},
   "source": [
    "#### 2.3.1 数值报告"
   ]
  },
  {
   "cell_type": "code",
   "execution_count": 9,
   "metadata": {},
   "outputs": [
    {
     "data": {
      "text/html": [
       "<div>\n",
       "<style scoped>\n",
       "    .dataframe tbody tr th:only-of-type {\n",
       "        vertical-align: middle;\n",
       "    }\n",
       "\n",
       "    .dataframe tbody tr th {\n",
       "        vertical-align: top;\n",
       "    }\n",
       "\n",
       "    .dataframe thead th {\n",
       "        text-align: right;\n",
       "    }\n",
       "</style>\n",
       "<table border=\"1\" class=\"dataframe\">\n",
       "  <thead>\n",
       "    <tr style=\"text-align: right;\">\n",
       "      <th></th>\n",
       "      <th>VarName</th>\n",
       "      <th>count</th>\n",
       "      <th>mean</th>\n",
       "      <th>std</th>\n",
       "      <th>min</th>\n",
       "      <th>10%</th>\n",
       "      <th>20%</th>\n",
       "      <th>30%</th>\n",
       "      <th>40%</th>\n",
       "      <th>50%</th>\n",
       "      <th>60%</th>\n",
       "      <th>70%</th>\n",
       "      <th>80%</th>\n",
       "      <th>90%</th>\n",
       "      <th>max</th>\n",
       "      <th>MissingRate</th>\n",
       "    </tr>\n",
       "  </thead>\n",
       "  <tbody>\n",
       "    <tr>\n",
       "      <th>0</th>\n",
       "      <td>Bureau_Var704</td>\n",
       "      <td>15831.0</td>\n",
       "      <td>737497.369858</td>\n",
       "      <td>9.002800e+05</td>\n",
       "      <td>0.0</td>\n",
       "      <td>82633.5</td>\n",
       "      <td>142995.015</td>\n",
       "      <td>225000.0</td>\n",
       "      <td>333193.5</td>\n",
       "      <td>465120.000</td>\n",
       "      <td>657000.000</td>\n",
       "      <td>877500.000</td>\n",
       "      <td>1128150.000</td>\n",
       "      <td>1.660500e+06</td>\n",
       "      <td>1.814400e+07</td>\n",
       "      <td>0.472300</td>\n",
       "    </tr>\n",
       "    <tr>\n",
       "      <th>1</th>\n",
       "      <td>Bureau_Var96</td>\n",
       "      <td>25705.0</td>\n",
       "      <td>959450.711966</td>\n",
       "      <td>1.669671e+06</td>\n",
       "      <td>0.0</td>\n",
       "      <td>84507.3</td>\n",
       "      <td>140028.696</td>\n",
       "      <td>225000.0</td>\n",
       "      <td>310500.0</td>\n",
       "      <td>450000.000</td>\n",
       "      <td>621000.000</td>\n",
       "      <td>900000.000</td>\n",
       "      <td>1350000.000</td>\n",
       "      <td>2.241900e+06</td>\n",
       "      <td>3.658950e+07</td>\n",
       "      <td>0.143167</td>\n",
       "    </tr>\n",
       "    <tr>\n",
       "      <th>2</th>\n",
       "      <td>Bureau_Var272</td>\n",
       "      <td>6435.0</td>\n",
       "      <td>1587.828753</td>\n",
       "      <td>6.059856e+03</td>\n",
       "      <td>0.0</td>\n",
       "      <td>0.0</td>\n",
       "      <td>0.000</td>\n",
       "      <td>0.0</td>\n",
       "      <td>0.0</td>\n",
       "      <td>0.000</td>\n",
       "      <td>0.000</td>\n",
       "      <td>0.000</td>\n",
       "      <td>468.744</td>\n",
       "      <td>4.849812e+03</td>\n",
       "      <td>2.157705e+05</td>\n",
       "      <td>0.785500</td>\n",
       "    </tr>\n",
       "    <tr>\n",
       "      <th>3</th>\n",
       "      <td>Bureau_Var1089</td>\n",
       "      <td>23077.0</td>\n",
       "      <td>0.188931</td>\n",
       "      <td>2.425433e-01</td>\n",
       "      <td>0.0</td>\n",
       "      <td>0.0</td>\n",
       "      <td>0.000</td>\n",
       "      <td>0.0</td>\n",
       "      <td>0.0</td>\n",
       "      <td>0.108</td>\n",
       "      <td>0.174</td>\n",
       "      <td>0.246</td>\n",
       "      <td>0.340</td>\n",
       "      <td>5.040000e-01</td>\n",
       "      <td>1.662000e+00</td>\n",
       "      <td>0.230767</td>\n",
       "    </tr>\n",
       "    <tr>\n",
       "      <th>4</th>\n",
       "      <td>Bureau_Var312</td>\n",
       "      <td>16801.0</td>\n",
       "      <td>172653.201508</td>\n",
       "      <td>1.667097e+05</td>\n",
       "      <td>0.0</td>\n",
       "      <td>22500.0</td>\n",
       "      <td>56675.250</td>\n",
       "      <td>84375.0</td>\n",
       "      <td>108000.0</td>\n",
       "      <td>135000.000</td>\n",
       "      <td>166500.000</td>\n",
       "      <td>202500.000</td>\n",
       "      <td>256500.000</td>\n",
       "      <td>3.600000e+05</td>\n",
       "      <td>3.825000e+06</td>\n",
       "      <td>0.439967</td>\n",
       "    </tr>\n",
       "  </tbody>\n",
       "</table>\n",
       "</div>"
      ],
      "text/plain": [
       "          VarName    count           mean           std  min      10%  \\\n",
       "0   Bureau_Var704  15831.0  737497.369858  9.002800e+05  0.0  82633.5   \n",
       "1    Bureau_Var96  25705.0  959450.711966  1.669671e+06  0.0  84507.3   \n",
       "2   Bureau_Var272   6435.0    1587.828753  6.059856e+03  0.0      0.0   \n",
       "3  Bureau_Var1089  23077.0       0.188931  2.425433e-01  0.0      0.0   \n",
       "4   Bureau_Var312  16801.0  172653.201508  1.667097e+05  0.0  22500.0   \n",
       "\n",
       "          20%       30%       40%         50%         60%         70%  \\\n",
       "0  142995.015  225000.0  333193.5  465120.000  657000.000  877500.000   \n",
       "1  140028.696  225000.0  310500.0  450000.000  621000.000  900000.000   \n",
       "2       0.000       0.0       0.0       0.000       0.000       0.000   \n",
       "3       0.000       0.0       0.0       0.108       0.174       0.246   \n",
       "4   56675.250   84375.0  108000.0  135000.000  166500.000  202500.000   \n",
       "\n",
       "           80%           90%           max  MissingRate  \n",
       "0  1128150.000  1.660500e+06  1.814400e+07     0.472300  \n",
       "1  1350000.000  2.241900e+06  3.658950e+07     0.143167  \n",
       "2      468.744  4.849812e+03  2.157705e+05     0.785500  \n",
       "3        0.340  5.040000e-01  1.662000e+00     0.230767  \n",
       "4   256500.000  3.600000e+05  3.825000e+06     0.439967  "
      ]
     },
     "execution_count": 9,
     "metadata": {},
     "output_type": "execute_result"
    }
   ],
   "source": [
    "eda.num_report.head() #数值特征报告，展示非空计数、均值、标准差、分位数、缺失率"
   ]
  },
  {
   "cell_type": "markdown",
   "metadata": {},
   "source": [
    "#### 2.3.1 分类报告"
   ]
  },
  {
   "cell_type": "code",
   "execution_count": 10,
   "metadata": {},
   "outputs": [
    {
     "data": {
      "text/html": [
       "<div>\n",
       "<style scoped>\n",
       "    .dataframe tbody tr th:only-of-type {\n",
       "        vertical-align: middle;\n",
       "    }\n",
       "\n",
       "    .dataframe tbody tr th {\n",
       "        vertical-align: top;\n",
       "    }\n",
       "\n",
       "    .dataframe thead th {\n",
       "        text-align: right;\n",
       "    }\n",
       "</style>\n",
       "<table border=\"1\" class=\"dataframe\">\n",
       "  <thead>\n",
       "    <tr style=\"text-align: right;\">\n",
       "      <th></th>\n",
       "      <th>Name</th>\n",
       "      <th>Levels</th>\n",
       "      <th>Freq</th>\n",
       "      <th>Percent</th>\n",
       "      <th>CumFreq</th>\n",
       "      <th>CumPercent</th>\n",
       "    </tr>\n",
       "  </thead>\n",
       "  <tbody>\n",
       "    <tr>\n",
       "      <th>0</th>\n",
       "      <td>GENDER</td>\n",
       "      <td>F</td>\n",
       "      <td>19752</td>\n",
       "      <td>0.658400</td>\n",
       "      <td>19752</td>\n",
       "      <td>0.658400</td>\n",
       "    </tr>\n",
       "    <tr>\n",
       "      <th>1</th>\n",
       "      <td>GENDER</td>\n",
       "      <td>M</td>\n",
       "      <td>10248</td>\n",
       "      <td>0.341600</td>\n",
       "      <td>30000</td>\n",
       "      <td>1.000000</td>\n",
       "    </tr>\n",
       "    <tr>\n",
       "      <th>2</th>\n",
       "      <td>FLAG_OWN_CAR</td>\n",
       "      <td>N</td>\n",
       "      <td>19760</td>\n",
       "      <td>0.658667</td>\n",
       "      <td>19760</td>\n",
       "      <td>0.658667</td>\n",
       "    </tr>\n",
       "    <tr>\n",
       "      <th>3</th>\n",
       "      <td>FLAG_OWN_CAR</td>\n",
       "      <td>Y</td>\n",
       "      <td>10240</td>\n",
       "      <td>0.341333</td>\n",
       "      <td>30000</td>\n",
       "      <td>1.000000</td>\n",
       "    </tr>\n",
       "    <tr>\n",
       "      <th>4</th>\n",
       "      <td>HOUSING_TYPE</td>\n",
       "      <td>Co-op apartment</td>\n",
       "      <td>127</td>\n",
       "      <td>0.004233</td>\n",
       "      <td>127</td>\n",
       "      <td>0.004233</td>\n",
       "    </tr>\n",
       "  </tbody>\n",
       "</table>\n",
       "</div>"
      ],
      "text/plain": [
       "           Name           Levels   Freq   Percent  CumFreq  CumPercent\n",
       "0        GENDER                F  19752  0.658400    19752    0.658400\n",
       "1        GENDER                M  10248  0.341600    30000    1.000000\n",
       "2  FLAG_OWN_CAR                N  19760  0.658667    19760    0.658667\n",
       "3  FLAG_OWN_CAR                Y  10240  0.341333    30000    1.000000\n",
       "4  HOUSING_TYPE  Co-op apartment    127  0.004233      127    0.004233"
      ]
     },
     "execution_count": 10,
     "metadata": {},
     "output_type": "execute_result"
    }
   ],
   "source": [
    "eda.char_report.head() #分类特征报告,展示各个水平的频数与占比、累积频数与累积占比(水平有顺序时才有意义)"
   ]
  },
  {
   "cell_type": "markdown",
   "metadata": {},
   "source": [
    "#### 2.3.1 缺失值报告"
   ]
  },
  {
   "cell_type": "code",
   "execution_count": 11,
   "metadata": {},
   "outputs": [
    {
     "data": {
      "text/html": [
       "<div>\n",
       "<style scoped>\n",
       "    .dataframe tbody tr th:only-of-type {\n",
       "        vertical-align: middle;\n",
       "    }\n",
       "\n",
       "    .dataframe tbody tr th {\n",
       "        vertical-align: top;\n",
       "    }\n",
       "\n",
       "    .dataframe thead th {\n",
       "        text-align: right;\n",
       "    }\n",
       "</style>\n",
       "<table border=\"1\" class=\"dataframe\">\n",
       "  <thead>\n",
       "    <tr style=\"text-align: right;\">\n",
       "      <th></th>\n",
       "      <th>VarName</th>\n",
       "      <th>N</th>\n",
       "      <th>Missings</th>\n",
       "      <th>MissingRate</th>\n",
       "      <th>dtype</th>\n",
       "    </tr>\n",
       "  </thead>\n",
       "  <tbody>\n",
       "    <tr>\n",
       "      <th>0</th>\n",
       "      <td>Bureau_Var516</td>\n",
       "      <td>30000</td>\n",
       "      <td>19164</td>\n",
       "      <td>0.638800</td>\n",
       "      <td>float64</td>\n",
       "    </tr>\n",
       "    <tr>\n",
       "      <th>1</th>\n",
       "      <td>Bureau_Var716</td>\n",
       "      <td>30000</td>\n",
       "      <td>19666</td>\n",
       "      <td>0.655533</td>\n",
       "      <td>float64</td>\n",
       "    </tr>\n",
       "    <tr>\n",
       "      <th>2</th>\n",
       "      <td>Bureau_Var701</td>\n",
       "      <td>30000</td>\n",
       "      <td>18457</td>\n",
       "      <td>0.615233</td>\n",
       "      <td>float64</td>\n",
       "    </tr>\n",
       "    <tr>\n",
       "      <th>3</th>\n",
       "      <td>Bureau_Var688</td>\n",
       "      <td>30000</td>\n",
       "      <td>13845</td>\n",
       "      <td>0.461500</td>\n",
       "      <td>float64</td>\n",
       "    </tr>\n",
       "    <tr>\n",
       "      <th>4</th>\n",
       "      <td>IP_Var24</td>\n",
       "      <td>30000</td>\n",
       "      <td>9547</td>\n",
       "      <td>0.318233</td>\n",
       "      <td>float64</td>\n",
       "    </tr>\n",
       "  </tbody>\n",
       "</table>\n",
       "</div>"
      ],
      "text/plain": [
       "         VarName      N  Missings  MissingRate    dtype\n",
       "0  Bureau_Var516  30000     19164     0.638800  float64\n",
       "1  Bureau_Var716  30000     19666     0.655533  float64\n",
       "2  Bureau_Var701  30000     18457     0.615233  float64\n",
       "3  Bureau_Var688  30000     13845     0.461500  float64\n",
       "4       IP_Var24  30000      9547     0.318233  float64"
      ]
     },
     "execution_count": 11,
     "metadata": {},
     "output_type": "execute_result"
    }
   ],
   "source": [
    "eda.na_report.head() #缺失率(全部特征)报告，展示总样本计数、缺失样本计数、缺失率、列类型"
   ]
  },
  {
   "cell_type": "markdown",
   "metadata": {},
   "source": [
    "### 2.4 异常数据处理"
   ]
  },
  {
   "cell_type": "markdown",
   "metadata": {},
   "source": [
    "#### 2.4.1 错误值"
   ]
  },
  {
   "cell_type": "markdown",
   "metadata": {},
   "source": [
    "从数据质量报告中可以看到申请者的工作时长变量中出现了负数,占比在10%-20%之间"
   ]
  },
  {
   "cell_type": "code",
   "execution_count": 12,
   "metadata": {},
   "outputs": [
    {
     "data": {
      "text/html": [
       "<div>\n",
       "<style scoped>\n",
       "    .dataframe tbody tr th:only-of-type {\n",
       "        vertical-align: middle;\n",
       "    }\n",
       "\n",
       "    .dataframe tbody tr th {\n",
       "        vertical-align: top;\n",
       "    }\n",
       "\n",
       "    .dataframe thead th {\n",
       "        text-align: right;\n",
       "    }\n",
       "</style>\n",
       "<table border=\"1\" class=\"dataframe\">\n",
       "  <thead>\n",
       "    <tr style=\"text-align: right;\">\n",
       "      <th></th>\n",
       "      <th>VarName</th>\n",
       "      <th>count</th>\n",
       "      <th>mean</th>\n",
       "      <th>std</th>\n",
       "      <th>min</th>\n",
       "      <th>10%</th>\n",
       "      <th>20%</th>\n",
       "      <th>30%</th>\n",
       "      <th>40%</th>\n",
       "      <th>50%</th>\n",
       "      <th>60%</th>\n",
       "      <th>70%</th>\n",
       "      <th>80%</th>\n",
       "      <th>90%</th>\n",
       "      <th>max</th>\n",
       "      <th>MissingRate</th>\n",
       "    </tr>\n",
       "  </thead>\n",
       "  <tbody>\n",
       "    <tr>\n",
       "      <th>103</th>\n",
       "      <td>DAYS_EMPLOYED</td>\n",
       "      <td>30000.0</td>\n",
       "      <td>-62601.530233</td>\n",
       "      <td>140272.942901</td>\n",
       "      <td>-365243.0</td>\n",
       "      <td>-365243.0</td>\n",
       "      <td>149.0</td>\n",
       "      <td>472.0</td>\n",
       "      <td>840.0</td>\n",
       "      <td>1238.5</td>\n",
       "      <td>1721.4</td>\n",
       "      <td>2395.0</td>\n",
       "      <td>3240.0</td>\n",
       "      <td>4923.1</td>\n",
       "      <td>16836.0</td>\n",
       "      <td>0.0</td>\n",
       "    </tr>\n",
       "  </tbody>\n",
       "</table>\n",
       "</div>"
      ],
      "text/plain": [
       "           VarName    count          mean            std       min       10%  \\\n",
       "103  DAYS_EMPLOYED  30000.0 -62601.530233  140272.942901 -365243.0 -365243.0   \n",
       "\n",
       "       20%    30%    40%     50%     60%     70%     80%     90%      max  \\\n",
       "103  149.0  472.0  840.0  1238.5  1721.4  2395.0  3240.0  4923.1  16836.0   \n",
       "\n",
       "     MissingRate  \n",
       "103          0.0  "
      ]
     },
     "execution_count": 12,
     "metadata": {},
     "output_type": "execute_result"
    }
   ],
   "source": [
    "eda.num_report.query(\"VarName=='DAYS_EMPLOYED'\")"
   ]
  },
  {
   "cell_type": "code",
   "execution_count": 13,
   "metadata": {},
   "outputs": [],
   "source": [
    "dat['DAYS_EMPLOYED']=dat['DAYS_EMPLOYED'].map(lambda x:np.nan if x<0 else x) #错误结果转换为nan"
   ]
  },
  {
   "cell_type": "markdown",
   "metadata": {},
   "source": [
    "其他变量以此类推进行检查与处理"
   ]
  },
  {
   "cell_type": "markdown",
   "metadata": {},
   "source": [
    "#### 缺失值"
   ]
  },
  {
   "cell_type": "markdown",
   "metadata": {},
   "source": [
    "bm.nanTransformer可用于进行数据清洗与缺失值处理:\n",
    "+ 缺失值的识别:\n",
    "    + 缺失值指代被识别为缺失值(参数missing_values用于指代缺失值),详见帮助文档\n",
    "    \n",
    "+ 对连续特征('number dtype'):\n",
    "    + \"constant\":以某个特定值进行填补\n",
    "    + \"mean\" or 'median' or \"most_frequent\":以其中心水平填补(均值、中位数、众数)\n",
    "    + \"knn\":使用算法KNN(sklearn.impute.KNNImputer)进行缺失值填补\n",
    "+ 对分类特征('object dtype'):    \n",
    "    + \"constant\":以某个特定值进行填补\n",
    "    + \"most_frequent\":以其中心水平填补(众数)\n",
    "    \n",
    "+ 当使用constant填补时，使用参数fill_value=(数值列填充值，字符列填充值)定义填充值\n",
    "\n",
    "默认情况将进行constant填补，其中任意列出现[np.nan,np.inf,-np.inf,'nan','','special','missing']情形的值均会被替换为np.nan或'missing'(连续特征、分类特征)\n",
    "\n",
    "+ 参数indicator可以指定是否生成缺失值指示变量，默认False即不生成"
   ]
  },
  {
   "cell_type": "code",
   "execution_count": 14,
   "metadata": {},
   "outputs": [],
   "source": [
    "dat=bm.nanTransformer(method=('constant','constant'),\n",
    "                  missing_values=[np.nan,np.inf,-np.inf,'nan','','special','missing'],\n",
    "                  fill_value=(np.nan,'missing'),\n",
    "                  indicator=False).fit_transform(dat)"
   ]
  },
  {
   "cell_type": "markdown",
   "metadata": {},
   "source": [
    "#### 异常值"
   ]
  },
  {
   "cell_type": "markdown",
   "metadata": {},
   "source": [
    "bm.outliersTransformer将在列维度进行异常值处理,仅对数值类列有效\n",
    "\n",
    "+ 数值数据中IQR=75%分位数-25%分位数:\n",
    "    + 若IQR为0(数据分布非常集中)，异常值被定义为1%分位数与99%分为数区间以外的数据\n",
    "        + <1%分位数的异常值被填补为1%分位数(method='fill')或nan(method='nan')\n",
    "        + \\>99%分位数的异常值被填补为99%分位数(method='fill')或nan(method='nan')\n",
    "    + 若IQR有值，异常值被定义为25%与75%分位数以外的上下三倍IQR以外的数据\n",
    "        + 25%分位数-3倍IQR以下的异常值将被填补为25%分位数-3倍IQR(method='fill')或nan(method='nan')\n",
    "        + 75%分位数+3倍IQR以下的异常值将被填补为75%分位数+3倍IQR(method='fill')或nan(method='nan')\n",
    "        \n",
    "其他功能请见其帮助文档"
   ]
  },
  {
   "cell_type": "code",
   "execution_count": 15,
   "metadata": {},
   "outputs": [],
   "source": [
    "dat=bm.outliersTransformer(method='fill').fit_transform(dat)"
   ]
  },
  {
   "cell_type": "markdown",
   "metadata": {},
   "source": [
    "#### 数据分区"
   ]
  },
  {
   "cell_type": "markdown",
   "metadata": {},
   "source": [
    "本案例只考虑in-sample分区"
   ]
  },
  {
   "cell_type": "code",
   "execution_count": 16,
   "metadata": {},
   "outputs": [],
   "source": [
    "from sklearn.model_selection import train_test_split"
   ]
  },
  {
   "cell_type": "code",
   "execution_count": 17,
   "metadata": {},
   "outputs": [],
   "source": [
    "X_train, X_test, y_train, y_test=train_test_split(dat.drop('TARGET',axis=1),\n",
    "                                                  dat['TARGET'],\n",
    "                                                  test_size=0.33, \n",
    "                                                  random_state=1223,stratify=dat['TARGET'])"
   ]
  },
  {
   "cell_type": "markdown",
   "metadata": {},
   "source": [
    "## 3 预拟合模型"
   ]
  },
  {
   "cell_type": "markdown",
   "metadata": {},
   "source": [
    "bm.prefitModel为预拟合模型，提供了在不进行任何特征筛选的前提下使用全量数据建模以预估模型效果的功能\n",
    "\n",
    "若后续特征筛选过程合理则模型表现不会差距过多，甚至会比预拟合模型好\n",
    "\n",
    "+ 此步骤并非必须\n",
    "+ 默认使用lightgbm作为训练算法\n",
    "+ 更多详请请见帮助文档"
   ]
  },
  {
   "cell_type": "code",
   "execution_count": 18,
   "metadata": {},
   "outputs": [],
   "source": [
    "p_model=bm.prefitModel().fit(X_train,y_train)"
   ]
  },
  {
   "cell_type": "markdown",
   "metadata": {},
   "source": [
    "+ 模型表现"
   ]
  },
  {
   "cell_type": "code",
   "execution_count": 19,
   "metadata": {},
   "outputs": [
    {
     "data": {
      "image/png": "[encoded data removed]",
      "text/plain": [
       "<Figure size 600x603.896 with 1 Axes>"
      ]
     },
     "metadata": {},
     "output_type": "display_data"
    },
    {
     "data": {
      "image/png": "[encoded data removed]",
      "text/plain": [
       "<Figure size 600x603.896 with 1 Axes>"
      ]
     },
     "metadata": {},
     "output_type": "display_data"
    },
    {
     "data": {
      "text/plain": [
       "{'ks': <ggplot: (8783446438909)>, 'roc': <ggplot: (8783447628454)>}"
      ]
     },
     "execution_count": 19,
     "metadata": {},
     "output_type": "execute_result"
    }
   ],
   "source": [
    "y=pd.concat([\n",
    "    y_train,\n",
    "    y_test]\n",
    ")\n",
    "\n",
    "pred=pd.concat([\n",
    "    pd.Series(p_model.predict_proba(X_train),index=X_train.index),\n",
    "    pd.Series(p_model.predict_proba(X_test),index=X_test.index)]\n",
    ")\n",
    "\n",
    "group=pd.concat([\n",
    "    pd.Series('train',index=X_train.index),\n",
    "    pd.Series('test',index=X_test.index)]\n",
    ")\n",
    "\n",
    "bm.perfEval().plot(pred,y,group,figure_size=(6,6)) #可以看到test数据上ks与auc的情况,此结果可作为模型结果的参考值"
   ]
  },
  {
   "cell_type": "markdown",
   "metadata": {},
   "source": [
    "## 4 特征加工"
   ]
  },
  {
   "cell_type": "markdown",
   "metadata": {},
   "source": [
    "### 4.1 预筛"
   ]
  },
  {
   "cell_type": "markdown",
   "metadata": {},
   "source": [
    "预筛:当特征数量过多时，快速筛选掉无用特征"
   ]
  },
  {
   "cell_type": "markdown",
   "metadata": {},
   "source": [
    "bm.preSelector提供了类似的功能,能够快速过滤掉那些**非常不重要的特征**\n",
    "\n",
    "    Step 1.缺失值(所有):缺失率高于用户定义值的列将被筛除(参数na_pct控制)\n",
    "    Step 2.唯一值(所有):唯一值占比高于用户定义值列将被筛除(参数unique_pct控制)\n",
    "    Step 3.方差(数值特征):方差低于用户定义值列的列将被筛除(参数variance控制)\n",
    "    Step 4.卡方独立性检验p值(字符)/方差分析p值(数值):p值大于用户定义值的列将被剔除(参数chif_pvalue控制)\n",
    "    Step 5.乱序筛选(所有):原始顺序与随机顺序后使用模型预测的auc差异小于用户定义值的列将被剔除(参数auc_limit、s_times控制)\n",
    "    Step 6.Lightgbm筛选(所有):split重要性低于用户定义值的列将被剔除(参数tree_imps、tree_size控制)\n",
    "    Step 7.Iv值筛选(所有):等频30箱后iv值低于用户定义值的列将被剔除(参数iv_limit控制)\n",
    "    \n",
    "详见帮助文档"
   ]
  },
  {
   "cell_type": "code",
   "execution_count": 20,
   "metadata": {},
   "outputs": [
    {
     "name": "stdout",
     "output_type": "stream",
     "text": [
      "0.start__________________________________complete\n",
      "1.filterbyNA_____________________________complete\n",
      "2.filterbyUniquepct______________________complete\n",
      "3.filterbyVariance_______________________complete\n",
      "4.filterbyChi2Oneway_____________________complete\n",
      "5.filterbyShuffle________________________complete\n",
      "6.filterbyTrees__________________________complete\n",
      "7.filterbyIV_____________________________complete\n",
      "_____________________________________________Done\n",
      "步骤0.orgin,保留的特征数:113\n",
      "步骤1.filterbyNA,保留的特征数:108\n",
      "步骤2.filterbyUnique,保留的特征数:108\n",
      "步骤3.filterbyVariance,保留的特征数:108\n",
      "步骤4.filterbyChi2Oneway,保留的特征数:107\n",
      "步骤5.filterbyShuffle,保留的特征数:105\n",
      "步骤6.filterbyTrees,保留的特征数:103\n",
      "步骤7.filterbyIV,保留的特征数:98\n"
     ]
    }
   ],
   "source": [
    "pre=bm.preSelector(\n",
    "    na_pct=0.95, #缺失率高于na_pct的列将被筛除\n",
    "    unique_pct=0.95,#唯一值占比高于unique_pct的列将被筛除\n",
    "    variance=0,#方差低于variance的列(连续)将被筛除\n",
    "    chif_pvalue=0.05,#大于chif_pvalue的列将被剔除\n",
    "    auc_limit=0,#小于等于auc_val的特征将被踢出\n",
    "    s_times=10,\n",
    "    tree_imps=1,#split_gain小于等于tree_imps的列将被剔除\n",
    "    tree_size=100,\n",
    "    iv_limit=0.02 #iv小于等于iv_limit的特征将被踢出\n",
    ").fit(X_train,y_train)"
   ]
  },
  {
   "cell_type": "code",
   "execution_count": 21,
   "metadata": {},
   "outputs": [],
   "source": [
    "X_train_1=pre.transform(X_train) #数据经transform后过滤掉了无用特征\n",
    "X_test_1=pre.transform(X_test)"
   ]
  },
  {
   "cell_type": "markdown",
   "metadata": {},
   "source": [
    "案例数据中的特征的预测能力都比较强，预筛选过程中有少量特征被筛选掉"
   ]
  },
  {
   "cell_type": "markdown",
   "metadata": {},
   "source": [
    "### 4.2 分箱"
   ]
  },
  {
   "cell_type": "markdown",
   "metadata": {},
   "source": [
    "#### 4.2.1 最优分箱"
   ]
  },
  {
   "cell_type": "markdown",
   "metadata": {},
   "source": [
    "bm.binSelector提供了分箱算法的集成与特征筛选，详情请见帮助文档\n",
    "\n",
    "这里使用决策树最优分箱，设定至少5箱、强制单调、并剔除此分箱条件下iv_limit低于0.02的特征"
   ]
  },
  {
   "cell_type": "code",
   "execution_count": 22,
   "metadata": {},
   "outputs": [],
   "source": [
    "bins=bm.binSelector(method='tree',\n",
    "                    coerce_monotonic=True,\n",
    "                    iv_limit=0.02,n_jobs=-1,\n",
    "                    bin_num_limit=5).fit(X_train_1,y_train)"
   ]
  },
  {
   "cell_type": "markdown",
   "metadata": {},
   "source": [
    "bins的属性bins为dict结构，存储了分箱结果"
   ]
  },
  {
   "cell_type": "code",
   "execution_count": 23,
   "metadata": {},
   "outputs": [
    {
     "data": {
      "text/html": [
       "<div>\n",
       "<style scoped>\n",
       "    .dataframe tbody tr th:only-of-type {\n",
       "        vertical-align: middle;\n",
       "    }\n",
       "\n",
       "    .dataframe tbody tr th {\n",
       "        vertical-align: top;\n",
       "    }\n",
       "\n",
       "    .dataframe thead th {\n",
       "        text-align: right;\n",
       "    }\n",
       "</style>\n",
       "<table border=\"1\" class=\"dataframe\">\n",
       "  <thead>\n",
       "    <tr style=\"text-align: right;\">\n",
       "      <th></th>\n",
       "      <th>variable</th>\n",
       "      <th>count</th>\n",
       "      <th>count_distr</th>\n",
       "      <th>good</th>\n",
       "      <th>bad</th>\n",
       "      <th>badprob</th>\n",
       "      <th>woe</th>\n",
       "      <th>bin_iv</th>\n",
       "      <th>total_iv</th>\n",
       "      <th>ks</th>\n",
       "      <th>ks_max</th>\n",
       "      <th>breaks</th>\n",
       "    </tr>\n",
       "    <tr>\n",
       "      <th>bin</th>\n",
       "      <th></th>\n",
       "      <th></th>\n",
       "      <th></th>\n",
       "      <th></th>\n",
       "      <th></th>\n",
       "      <th></th>\n",
       "      <th></th>\n",
       "      <th></th>\n",
       "      <th></th>\n",
       "      <th></th>\n",
       "      <th></th>\n",
       "      <th></th>\n",
       "    </tr>\n",
       "  </thead>\n",
       "  <tbody>\n",
       "    <tr>\n",
       "      <th>[-inf, 0.5)</th>\n",
       "      <td>Bureau_Var1033</td>\n",
       "      <td>6294</td>\n",
       "      <td>0.313134</td>\n",
       "      <td>5977.0</td>\n",
       "      <td>317.0</td>\n",
       "      <td>0.050365</td>\n",
       "      <td>-0.481512</td>\n",
       "      <td>0.059415</td>\n",
       "      <td>0.14631</td>\n",
       "      <td>0.123393</td>\n",
       "      <td>0.170292</td>\n",
       "      <td>0.5</td>\n",
       "    </tr>\n",
       "    <tr>\n",
       "      <th>[0.5, 0.8)</th>\n",
       "      <td>Bureau_Var1033</td>\n",
       "      <td>2535</td>\n",
       "      <td>0.126119</td>\n",
       "      <td>2384.0</td>\n",
       "      <td>151.0</td>\n",
       "      <td>0.059566</td>\n",
       "      <td>-0.303995</td>\n",
       "      <td>0.010263</td>\n",
       "      <td>0.14631</td>\n",
       "      <td>0.157153</td>\n",
       "      <td>0.170292</td>\n",
       "      <td>0.8</td>\n",
       "    </tr>\n",
       "    <tr>\n",
       "      <th>[0.8, 0.9)</th>\n",
       "      <td>Bureau_Var1033</td>\n",
       "      <td>1875</td>\n",
       "      <td>0.093284</td>\n",
       "      <td>1746.0</td>\n",
       "      <td>129.0</td>\n",
       "      <td>0.068800</td>\n",
       "      <td>-0.150010</td>\n",
       "      <td>0.001971</td>\n",
       "      <td>0.14631</td>\n",
       "      <td>0.170292</td>\n",
       "      <td>0.170292</td>\n",
       "      <td>0.9</td>\n",
       "    </tr>\n",
       "    <tr>\n",
       "      <th>[0.9, 1.0)</th>\n",
       "      <td>Bureau_Var1033</td>\n",
       "      <td>3952</td>\n",
       "      <td>0.196617</td>\n",
       "      <td>3554.0</td>\n",
       "      <td>398.0</td>\n",
       "      <td>0.100709</td>\n",
       "      <td>0.265883</td>\n",
       "      <td>0.015548</td>\n",
       "      <td>0.14631</td>\n",
       "      <td>0.111814</td>\n",
       "      <td>0.170292</td>\n",
       "      <td>1.0</td>\n",
       "    </tr>\n",
       "    <tr>\n",
       "      <th>[1.0, inf)</th>\n",
       "      <td>Bureau_Var1033</td>\n",
       "      <td>2006</td>\n",
       "      <td>0.099801</td>\n",
       "      <td>1723.0</td>\n",
       "      <td>283.0</td>\n",
       "      <td>0.141077</td>\n",
       "      <td>0.648885</td>\n",
       "      <td>0.055168</td>\n",
       "      <td>0.14631</td>\n",
       "      <td>0.026794</td>\n",
       "      <td>0.170292</td>\n",
       "      <td>inf</td>\n",
       "    </tr>\n",
       "    <tr>\n",
       "      <th>special</th>\n",
       "      <td>Bureau_Var1033</td>\n",
       "      <td>0</td>\n",
       "      <td>0.000000</td>\n",
       "      <td>0.0</td>\n",
       "      <td>0.0</td>\n",
       "      <td>NaN</td>\n",
       "      <td>0.000000</td>\n",
       "      <td>0.000000</td>\n",
       "      <td>0.14631</td>\n",
       "      <td>0.026794</td>\n",
       "      <td>0.170292</td>\n",
       "      <td>special</td>\n",
       "    </tr>\n",
       "    <tr>\n",
       "      <th>missing</th>\n",
       "      <td>Bureau_Var1033</td>\n",
       "      <td>3438</td>\n",
       "      <td>0.171045</td>\n",
       "      <td>3127.0</td>\n",
       "      <td>311.0</td>\n",
       "      <td>0.090460</td>\n",
       "      <td>0.147224</td>\n",
       "      <td>0.003945</td>\n",
       "      <td>0.14631</td>\n",
       "      <td>0.000000</td>\n",
       "      <td>0.170292</td>\n",
       "      <td>missing</td>\n",
       "    </tr>\n",
       "  </tbody>\n",
       "</table>\n",
       "</div>"
      ],
      "text/plain": [
       "                   variable  count  count_distr    good    bad   badprob  \\\n",
       "bin                                                                        \n",
       "[-inf, 0.5)  Bureau_Var1033   6294     0.313134  5977.0  317.0  0.050365   \n",
       "[0.5, 0.8)   Bureau_Var1033   2535     0.126119  2384.0  151.0  0.059566   \n",
       "[0.8, 0.9)   Bureau_Var1033   1875     0.093284  1746.0  129.0  0.068800   \n",
       "[0.9, 1.0)   Bureau_Var1033   3952     0.196617  3554.0  398.0  0.100709   \n",
       "[1.0, inf)   Bureau_Var1033   2006     0.099801  1723.0  283.0  0.141077   \n",
       "special      Bureau_Var1033      0     0.000000     0.0    0.0       NaN   \n",
       "missing      Bureau_Var1033   3438     0.171045  3127.0  311.0  0.090460   \n",
       "\n",
       "                  woe    bin_iv  total_iv        ks    ks_max   breaks  \n",
       "bin                                                                     \n",
       "[-inf, 0.5) -0.481512  0.059415   0.14631  0.123393  0.170292      0.5  \n",
       "[0.5, 0.8)  -0.303995  0.010263   0.14631  0.157153  0.170292      0.8  \n",
       "[0.8, 0.9)  -0.150010  0.001971   0.14631  0.170292  0.170292      0.9  \n",
       "[0.9, 1.0)   0.265883  0.015548   0.14631  0.111814  0.170292      1.0  \n",
       "[1.0, inf)   0.648885  0.055168   0.14631  0.026794  0.170292      inf  \n",
       "special      0.000000  0.000000   0.14631  0.026794  0.170292  special  \n",
       "missing      0.147224  0.003945   0.14631  0.000000  0.170292  missing  "
      ]
     },
     "execution_count": 23,
     "metadata": {},
     "output_type": "execute_result"
    }
   ],
   "source": [
    "bins.bins['Bureau_Var1033']"
   ]
  },
  {
   "cell_type": "markdown",
   "metadata": {},
   "source": [
    "对分箱结果进行展示,bins.breaks_list作为bm.varReport的入参可以将分箱结果输出并绘制报告,方法woe_plot在于输出特征分析图"
   ]
  },
  {
   "cell_type": "code",
   "execution_count": 24,
   "metadata": {},
   "outputs": [],
   "source": [
    "f_figs=bm.varReport(bins.breaks_list).fit(X_train_1,y_train).woe_plot()"
   ]
  },
  {
   "cell_type": "code",
   "execution_count": 25,
   "metadata": {},
   "outputs": [
    {
     "data": {
      "image/png": "[encoded data removed]",
      "text/plain": [
       "<Figure size 640x480 with 2 Axes>"
      ]
     },
     "execution_count": 25,
     "metadata": {},
     "output_type": "execute_result"
    }
   ],
   "source": [
    "f_figs['Bureau_Var1033'] #以Bureau_Var1033为例，显示授信使用率越大客户违约风险越大"
   ]
  },
  {
   "cell_type": "markdown",
   "metadata": {},
   "source": [
    "#### 4.2.2 交互分箱调整"
   ]
  },
  {
   "cell_type": "markdown",
   "metadata": {},
   "source": [
    "分箱应尽可能保证稳定性、可解释性与足够的信息含量，而无论何种算法的分箱结果往往都只是参考，进行交互分箱可以以专家经验调整分箱结果至合理区间\n",
    "bm.binAdjuster提供了交互分箱的功能"
   ]
  },
  {
   "cell_type": "code",
   "execution_count": 26,
   "metadata": {},
   "outputs": [],
   "source": [
    "X=pd.concat(\n",
    "    [\n",
    "        X_train_1.assign(split='train'), #增加组特征train\n",
    "        X_test_1.assign(split='test') #增加组特征test\n",
    "    ],axis=0\n",
    ")\n",
    "\n",
    "y=pd.concat(\n",
    "    [\n",
    "        y_train,\n",
    "        y_test\n",
    "    ],axis=0\n",
    ")"
   ]
  },
  {
   "cell_type": "markdown",
   "metadata": {},
   "source": [
    "交互分箱中的5个选项:\n",
    "\n",
    "```\n",
    "1: next:当前特征分箱完毕,跳转到下个特征\n",
    "2: yes:调整当前特征分箱:\n",
    "    输入需调整的分箱:\n",
    "        + 连续:输入[数值1,数值2,...]调整分段继续，\n",
    "            - 分段中不用写最大/最小值\n",
    "            - 若输入空白则会在全数据上进行最优分箱\n",
    "        + 分类:输入[字符1,字符2,...]调整分段继续，\n",
    "            - 其中若合并分类特征写成“字符3%,%字符4”\n",
    "            - 其中字符必须涵盖该分类特征的所有水平,若有遗漏则将被转换为missing            \n",
    "3: back :返回前一个特征并进行调整\n",
    "4: remove :当前特征分箱无法调整至合理水平,在调整最终结果中剔除该特征信息\n",
    "        + 只要某特征被选择为remove,那么该特征无论调整了多少次分箱都会被最终从结果中剔除\n",
    "0: exit:终止分箱程序\n",
    "    + 输入\"y\"终止,其他则继续\n",
    "```\n",
    "\n",
    "最终分箱结果将被保存在类属性breaks_list_adj中,使用bin_adj.breaks_list_adj进行调用"
   ]
  },
  {
   "cell_type": "code",
   "execution_count": 27,
   "metadata": {},
   "outputs": [
    {
     "name": "stdout",
     "output_type": "stream",
     "text": [
      "----Adjusting Age...----\n",
      "Current breaks: [32.0, 37.0, 54.0, 58.0]...\n",
      "PSI at current breaks:[('train', 0.0), ('test', 0.0011)]\n"
     ]
    },
    {
     "data": {
      "image/png": "[encoded data removed]",
      "text/plain": [
       "<Figure size 2000x500 with 3 Axes>"
      ]
     },
     "metadata": {},
     "output_type": "display_data"
    },
    {
     "name": "stdout",
     "output_type": "stream",
     "text": [
      ">>> Adjust breaks for (1/78) Age?\n",
      "1: next \n",
      "2: yes \n",
      "3: back \n",
      "4: remove \n",
      "0: exit\n",
      "Selection: 0\n",
      "Adjustion has not been completed yet,are you sure?\n",
      "Input 'y' to exit or other to continue :y\n",
      "Stop adjusting...,result store in global variables \"breaks_list_adj\" and \"vtabs_dict_adj\"\n"
     ]
    }
   ],
   "source": [
    "bin_adj=bm.binAdjuster(bins.breaks_list,\n",
    "                       column='split',\n",
    "                       sort_column=['train','test'],\n",
    "                       psi_base='split==\"train\"',figure_size=(20,5)).fit(X,y)"
   ]
  },
  {
   "cell_type": "markdown",
   "metadata": {},
   "source": [
    "这里因篇幅所限不做过多展示，读者可自行研究"
   ]
  },
  {
   "cell_type": "markdown",
   "metadata": {},
   "source": [
    "## 5 WOE编码"
   ]
  },
  {
   "cell_type": "markdown",
   "metadata": {},
   "source": [
    "bm.woeTransformer提供了woe编码功能,其主要入参为bins.bins即特征分析报告字典结构\n",
    "\n",
    "+ 参数woe_missing用于当比例低于distr_limit时missing的WOE编码结果,这是因为当missing箱样本量极少时，woe值可能不具备代表性，此时可调整varbin中的woe替换值至合理水平，例如设定为0,其被保存在woe.varbin中待用\n",
    "\n",
    "+ 其他参数请见帮助文档"
   ]
  },
  {
   "cell_type": "code",
   "execution_count": 28,
   "metadata": {},
   "outputs": [],
   "source": [
    "woe=bm.woeTransformer(bins.bins,woe_missing=0,distr_limit=0.05).fit(X_train,y_train)\n",
    "X_train_woe=woe.transform(X_train)\n",
    "X_test_woe=woe.transform(X_test)"
   ]
  },
  {
   "cell_type": "markdown",
   "metadata": {},
   "source": [
    "## 6 相关性筛选"
   ]
  },
  {
   "cell_type": "markdown",
   "metadata": {},
   "source": [
    "经过编码后的数据会作为最终的模型输入,一般在经典评分卡中,需进行相关性筛选以避免多重共线性"
   ]
  },
  {
   "cell_type": "markdown",
   "metadata": {},
   "source": [
    "### 6.1 相关性"
   ]
  },
  {
   "cell_type": "markdown",
   "metadata": {},
   "source": [
    "bm.corrSelector提供了进行相关性筛选的功能,参数corr_limit表示将剔除掉想关系高于corr_limi的特征对并保留IV最高的那个变量"
   ]
  },
  {
   "cell_type": "code",
   "execution_count": 29,
   "metadata": {},
   "outputs": [],
   "source": [
    "corr=bm.corrSelector(corr_limit=0.7).fit(X_train_woe,y_train)"
   ]
  },
  {
   "cell_type": "code",
   "execution_count": 30,
   "metadata": {},
   "outputs": [],
   "source": [
    "X_train_woe_corr=corr.transform(X_train_woe)\n",
    "X_test_woe_corr=corr.transform(X_test_woe) "
   ]
  },
  {
   "cell_type": "code",
   "execution_count": 31,
   "metadata": {},
   "outputs": [
    {
     "name": "stdout",
     "output_type": "stream",
     "text": [
      "78\n",
      "36\n"
     ]
    }
   ],
   "source": [
    "print(X_train_woe.columns.size)\n",
    "print(X_train_woe_corr.columns.size)"
   ]
  },
  {
   "cell_type": "markdown",
   "metadata": {},
   "source": [
    "### 6.2 特征聚类"
   ]
  },
  {
   "cell_type": "markdown",
   "metadata": {},
   "source": [
    "此步骤并非必须"
   ]
  },
  {
   "cell_type": "markdown",
   "metadata": {},
   "source": [
    "相关性筛选往往简单粗暴,而特征聚类可以提供相关性较强的特征组信息,进而能够让建模者对各个特征在各个组里的情况一目了然。\n",
    "\n",
    "+ bm.faSelector提供了基于sklearn层次聚类的列聚类算法集成并用于高相关特征组的变量筛选,\n",
    "    + 此算法适合在在特征数量不多的情况下筛选高相关特征\n",
    "    + 此算法非SAS的变量聚类,但比较类似\n",
    "    + 参数n_clusters用于指定聚类个数,为\"auto\"时结合参数corr_limit将自动确定聚类数量:\n",
    "       + 先使用bm.corrSelector进行筛选,指定相关性阈值下留存的列个数将作为变量聚类的聚类数量\n",
    "       + 经验上corr_limit=0.6左右下的分群列特征值最大的前两个主成分累积解释占比在0.6-0.7以上,\n",
    "           + corr_limit越大前两个主成分累积解释占比越大\n",
    "    + 参数distance_metrics用于指定列距离度量方式,默认将使用pearson距离(pearson相关系数绝对值的相反数)\n",
    "    + 参数by用于指定筛选方式,\n",
    "       + 默认'r2-ratio',类似于SAS的变量聚类,将筛选每一类特征集中r2-ratio最小的特征输出\n",
    "       + 可指定任意权重用于筛选变量,例如iv,ks等"
   ]
  },
  {
   "cell_type": "code",
   "execution_count": 32,
   "metadata": {},
   "outputs": [
    {
     "name": "stdout",
     "output_type": "stream",
     "text": [
      "n_clusters set to 36\n"
     ]
    }
   ],
   "source": [
    "fa=bm.faSelector(n_clusters='auto',corr_limit=0.7,by='r2-ratio').fit(X_train_woe,y_train)"
   ]
  },
  {
   "cell_type": "markdown",
   "metadata": {},
   "source": [
    "属性components_infos记录了:\n",
    "\n",
    "   + 每一个特征类的类信息(cluster)\n",
    "   + 类变量个数(n_vars)\n",
    "   + 前两大特征值(eigval1,eigval2)\n",
    "   + 前两大特征值累积解释比例(explained_ratio)\n",
    "   \n",
    "一般认为explained_ratio最少需大于0.7的类的聚类效果较好"
   ]
  },
  {
   "cell_type": "code",
   "execution_count": 33,
   "metadata": {},
   "outputs": [
    {
     "data": {
      "text/html": [
       "<div>\n",
       "<style scoped>\n",
       "    .dataframe tbody tr th:only-of-type {\n",
       "        vertical-align: middle;\n",
       "    }\n",
       "\n",
       "    .dataframe tbody tr th {\n",
       "        vertical-align: top;\n",
       "    }\n",
       "\n",
       "    .dataframe thead th {\n",
       "        text-align: right;\n",
       "    }\n",
       "</style>\n",
       "<table border=\"1\" class=\"dataframe\">\n",
       "  <thead>\n",
       "    <tr style=\"text-align: right;\">\n",
       "      <th></th>\n",
       "      <th>cluster</th>\n",
       "      <th>n_vars</th>\n",
       "      <th>eigval1</th>\n",
       "      <th>eigval2</th>\n",
       "      <th>explained_ratio</th>\n",
       "    </tr>\n",
       "  </thead>\n",
       "  <tbody>\n",
       "    <tr>\n",
       "      <th>0</th>\n",
       "      <td>0</td>\n",
       "      <td>3</td>\n",
       "      <td>0.259781</td>\n",
       "      <td>0.036511</td>\n",
       "      <td>0.811221</td>\n",
       "    </tr>\n",
       "    <tr>\n",
       "      <th>27</th>\n",
       "      <td>27</td>\n",
       "      <td>3</td>\n",
       "      <td>0.162830</td>\n",
       "      <td>0.029393</td>\n",
       "      <td>0.816573</td>\n",
       "    </tr>\n",
       "    <tr>\n",
       "      <th>11</th>\n",
       "      <td>11</td>\n",
       "      <td>3</td>\n",
       "      <td>0.198536</td>\n",
       "      <td>0.021825</td>\n",
       "      <td>0.859994</td>\n",
       "    </tr>\n",
       "    <tr>\n",
       "      <th>1</th>\n",
       "      <td>1</td>\n",
       "      <td>7</td>\n",
       "      <td>0.180251</td>\n",
       "      <td>0.017136</td>\n",
       "      <td>0.862639</td>\n",
       "    </tr>\n",
       "    <tr>\n",
       "      <th>13</th>\n",
       "      <td>13</td>\n",
       "      <td>6</td>\n",
       "      <td>0.157171</td>\n",
       "      <td>0.015050</td>\n",
       "      <td>0.865042</td>\n",
       "    </tr>\n",
       "  </tbody>\n",
       "</table>\n",
       "</div>"
      ],
      "text/plain": [
       "    cluster  n_vars   eigval1   eigval2  explained_ratio\n",
       "0         0       3  0.259781  0.036511         0.811221\n",
       "27       27       3  0.162830  0.029393         0.816573\n",
       "11       11       3  0.198536  0.021825         0.859994\n",
       "1         1       7  0.180251  0.017136         0.862639\n",
       "13       13       6  0.157171  0.015050         0.865042"
      ]
     },
     "execution_count": 33,
     "metadata": {},
     "output_type": "execute_result"
    }
   ],
   "source": [
    "fa.components_infos.sort_values('explained_ratio').head() "
   ]
  },
  {
   "cell_type": "markdown",
   "metadata": {},
   "source": [
    "属性rsquare_infos记录了:\n",
    "\n",
    "   + 每一个特征类的类信息(Cluster)\n",
    "   + 特征的类内R方(R2_Featrues),特征与其类最大主成分的R2指标\n",
    "   + 特征的类间R方(R2_Neigbor),特征与最邻近类的主成分的R2指标\n",
    "   + 1-R2Ratio:(1-R2_Featrues)/(1-R2_Neigbor) \n",
    "       + 分子指该特征在组内的异质度，值越小说明特征与该组的信息重叠较多\n",
    "       + 分母指该特征在最临近组的异质度，值越小说明特征与最临近组的信息重叠较多\n",
    "       + 1-R2Ratio值越小则说明变量越能够代表该类\n",
    "       \n",
    "可以选择每一组的1-R2Ratio越小的变量作为最终的筛选标准,也可以通过用户定义的权重作为最终的筛选标准"
   ]
  },
  {
   "cell_type": "code",
   "execution_count": 34,
   "metadata": {},
   "outputs": [
    {
     "data": {
      "text/html": [
       "<div>\n",
       "<style scoped>\n",
       "    .dataframe tbody tr th:only-of-type {\n",
       "        vertical-align: middle;\n",
       "    }\n",
       "\n",
       "    .dataframe tbody tr th {\n",
       "        vertical-align: top;\n",
       "    }\n",
       "\n",
       "    .dataframe thead th {\n",
       "        text-align: right;\n",
       "    }\n",
       "</style>\n",
       "<table border=\"1\" class=\"dataframe\">\n",
       "  <thead>\n",
       "    <tr style=\"text-align: right;\">\n",
       "      <th></th>\n",
       "      <th>Cluster</th>\n",
       "      <th>R2_Featrues</th>\n",
       "      <th>R2_Neigbor</th>\n",
       "      <th>1-R2Ratio</th>\n",
       "    </tr>\n",
       "  </thead>\n",
       "  <tbody>\n",
       "    <tr>\n",
       "      <th>Age</th>\n",
       "      <td>32</td>\n",
       "      <td>1.000000</td>\n",
       "      <td>0.271839</td>\n",
       "      <td>0.000000</td>\n",
       "    </tr>\n",
       "    <tr>\n",
       "      <th>Bureau_Var102</th>\n",
       "      <td>33</td>\n",
       "      <td>1.000000</td>\n",
       "      <td>0.556499</td>\n",
       "      <td>0.000000</td>\n",
       "    </tr>\n",
       "    <tr>\n",
       "      <th>Bureau_Var1033</th>\n",
       "      <td>21</td>\n",
       "      <td>1.000000</td>\n",
       "      <td>0.472803</td>\n",
       "      <td>0.000000</td>\n",
       "    </tr>\n",
       "    <tr>\n",
       "      <th>Bureau_Var1036</th>\n",
       "      <td>0</td>\n",
       "      <td>0.824238</td>\n",
       "      <td>0.560379</td>\n",
       "      <td>0.399804</td>\n",
       "    </tr>\n",
       "    <tr>\n",
       "      <th>Bureau_Var1044</th>\n",
       "      <td>0</td>\n",
       "      <td>0.775506</td>\n",
       "      <td>0.346850</td>\n",
       "      <td>0.343709</td>\n",
       "    </tr>\n",
       "    <tr>\n",
       "      <th>...</th>\n",
       "      <td>...</td>\n",
       "      <td>...</td>\n",
       "      <td>...</td>\n",
       "      <td>...</td>\n",
       "    </tr>\n",
       "    <tr>\n",
       "      <th>Previous_Var22</th>\n",
       "      <td>26</td>\n",
       "      <td>1.000000</td>\n",
       "      <td>0.029827</td>\n",
       "      <td>0.000000</td>\n",
       "    </tr>\n",
       "    <tr>\n",
       "      <th>Previous_Var545</th>\n",
       "      <td>30</td>\n",
       "      <td>1.000000</td>\n",
       "      <td>0.029827</td>\n",
       "      <td>0.000000</td>\n",
       "    </tr>\n",
       "    <tr>\n",
       "      <th>Score1</th>\n",
       "      <td>15</td>\n",
       "      <td>1.000000</td>\n",
       "      <td>0.038155</td>\n",
       "      <td>0.000000</td>\n",
       "    </tr>\n",
       "    <tr>\n",
       "      <th>Score2</th>\n",
       "      <td>7</td>\n",
       "      <td>1.000000</td>\n",
       "      <td>0.092383</td>\n",
       "      <td>0.000000</td>\n",
       "    </tr>\n",
       "    <tr>\n",
       "      <th>Score3</th>\n",
       "      <td>17</td>\n",
       "      <td>1.000000</td>\n",
       "      <td>0.139496</td>\n",
       "      <td>0.000000</td>\n",
       "    </tr>\n",
       "  </tbody>\n",
       "</table>\n",
       "<p>78 rows × 4 columns</p>\n",
       "</div>"
      ],
      "text/plain": [
       "                 Cluster  R2_Featrues  R2_Neigbor  1-R2Ratio\n",
       "Age                   32     1.000000    0.271839   0.000000\n",
       "Bureau_Var102         33     1.000000    0.556499   0.000000\n",
       "Bureau_Var1033        21     1.000000    0.472803   0.000000\n",
       "Bureau_Var1036         0     0.824238    0.560379   0.399804\n",
       "Bureau_Var1044         0     0.775506    0.346850   0.343709\n",
       "...                  ...          ...         ...        ...\n",
       "Previous_Var22        26     1.000000    0.029827   0.000000\n",
       "Previous_Var545       30     1.000000    0.029827   0.000000\n",
       "Score1                15     1.000000    0.038155   0.000000\n",
       "Score2                 7     1.000000    0.092383   0.000000\n",
       "Score3                17     1.000000    0.139496   0.000000\n",
       "\n",
       "[78 rows x 4 columns]"
      ]
     },
     "execution_count": 34,
     "metadata": {},
     "output_type": "execute_result"
    }
   ],
   "source": [
    "fa.rsquare_infos"
   ]
  },
  {
   "cell_type": "code",
   "execution_count": 35,
   "metadata": {},
   "outputs": [],
   "source": [
    "X_train_woe_fa=fa.transform(X_train_woe)\n",
    "X_test_woe_fa=fa.transform(X_test_woe)"
   ]
  },
  {
   "cell_type": "markdown",
   "metadata": {},
   "source": [
    "## 7.Logistic建模"
   ]
  },
  {
   "cell_type": "markdown",
   "metadata": {},
   "source": [
    "### 7.1 逐步回归"
   ]
  },
  {
   "cell_type": "markdown",
   "metadata": {},
   "source": [
    "bm.stepLogit提供了基于经典统计回归的逐步回归实现\n",
    "\n",
    "逐步回归过程:\n",
    "\n",
    "    +首先尝试加入:\n",
    "        + 从潜在特征集合remaining中尝试所有特征并选择出使指标(aic,bic)优化的特征逐次加入selected集合中\n",
    "        + 将remaining的相应特征剔除\n",
    "\n",
    "    + 再进行剔除:\n",
    "        + 在selected集合模型中的若p值过高(大于p_value_enter),那么新加入selected集合的特征将被剔除\n",
    "\n",
    "    循环上述过程直到:\n",
    "    + remaining不存在任何特征\n",
    "    + remaining不存在任何特征可使指标(aic,bic)优化\n",
    "    + 达到最大迭代次数"
   ]
  },
  {
   "cell_type": "markdown",
   "metadata": {},
   "source": [
    "参数criterion可为aic或bic,实际效果上bic会比aic筛选掉更多的特征\n",
    "\n",
    "参数custom_columns用于指定需进行逐步回归的列"
   ]
  },
  {
   "cell_type": "code",
   "execution_count": 36,
   "metadata": {},
   "outputs": [],
   "source": [
    "custom_columns=X_train_woe_fa.columns.tolist()\n",
    "custom_columns.remove('Bureau_Var117') #改变量的回归系数符号有问题,这里先剔除掉"
   ]
  },
  {
   "cell_type": "code",
   "execution_count": 37,
   "metadata": {},
   "outputs": [],
   "source": [
    "model=bm.stepLogit(custom_columns,show_step=False,criterion='aic',p_value_enter=0.01).fit(X_train_woe_fa,y_train)"
   ]
  },
  {
   "cell_type": "code",
   "execution_count": 38,
   "metadata": {},
   "outputs": [
    {
     "data": {
      "text/html": [
       "<table class=\"simpletable\">\n",
       "<caption>Generalized Linear Model Regression Results</caption>\n",
       "<tr>\n",
       "  <th>Dep. Variable:</th>        <td>TARGET</td>      <th>  No. Observations:  </th>  <td> 20100</td> \n",
       "</tr>\n",
       "<tr>\n",
       "  <th>Model:</th>                  <td>GLM</td>       <th>  Df Residuals:      </th>  <td> 20085</td> \n",
       "</tr>\n",
       "<tr>\n",
       "  <th>Model Family:</th>        <td>Binomial</td>     <th>  Df Model:          </th>  <td>    14</td> \n",
       "</tr>\n",
       "<tr>\n",
       "  <th>Link Function:</th>         <td>Logit</td>      <th>  Scale:             </th> <td>  1.0000</td>\n",
       "</tr>\n",
       "<tr>\n",
       "  <th>Method:</th>                <td>IRLS</td>       <th>  Log-Likelihood:    </th> <td> -4878.7</td>\n",
       "</tr>\n",
       "<tr>\n",
       "  <th>Date:</th>            <td>Mon, 28 Feb 2022</td> <th>  Deviance:          </th> <td>  9757.3</td>\n",
       "</tr>\n",
       "<tr>\n",
       "  <th>Time:</th>                <td>18:06:09</td>     <th>  Pearson chi2:      </th> <td>1.96e+04</td>\n",
       "</tr>\n",
       "<tr>\n",
       "  <th>No. Iterations:</th>          <td>6</td>        <th>  Pseudo R-squ. (CS):</th>  <td>0.06524</td>\n",
       "</tr>\n",
       "<tr>\n",
       "  <th>Covariance Type:</th>     <td>nonrobust</td>    <th>                     </th>     <td> </td>   \n",
       "</tr>\n",
       "</table>\n",
       "<table class=\"simpletable\">\n",
       "<tr>\n",
       "         <td></td>            <th>coef</th>     <th>std err</th>      <th>z</th>      <th>P>|z|</th>  <th>[0.025</th>    <th>0.975]</th>  \n",
       "</tr>\n",
       "<tr>\n",
       "  <th>Intercept</th>       <td>   -2.4558</td> <td>    0.029</td> <td>  -84.160</td> <td> 0.000</td> <td>   -2.513</td> <td>   -2.399</td>\n",
       "</tr>\n",
       "<tr>\n",
       "  <th>Score2</th>          <td>    0.7900</td> <td>    0.048</td> <td>   16.561</td> <td> 0.000</td> <td>    0.696</td> <td>    0.883</td>\n",
       "</tr>\n",
       "<tr>\n",
       "  <th>Score3</th>          <td>    0.5856</td> <td>    0.053</td> <td>   10.973</td> <td> 0.000</td> <td>    0.481</td> <td>    0.690</td>\n",
       "</tr>\n",
       "<tr>\n",
       "  <th>Score1</th>          <td>    0.6286</td> <td>    0.070</td> <td>    9.034</td> <td> 0.000</td> <td>    0.492</td> <td>    0.765</td>\n",
       "</tr>\n",
       "<tr>\n",
       "  <th>Bureau_Var1048</th>  <td>    0.6466</td> <td>    0.087</td> <td>    7.421</td> <td> 0.000</td> <td>    0.476</td> <td>    0.817</td>\n",
       "</tr>\n",
       "<tr>\n",
       "  <th>IP_Var30</th>        <td>    0.5886</td> <td>    0.105</td> <td>    5.588</td> <td> 0.000</td> <td>    0.382</td> <td>    0.795</td>\n",
       "</tr>\n",
       "<tr>\n",
       "  <th>DAYS_EMPLOYED</th>   <td>    0.5622</td> <td>    0.092</td> <td>    6.135</td> <td> 0.000</td> <td>    0.383</td> <td>    0.742</td>\n",
       "</tr>\n",
       "<tr>\n",
       "  <th>Bureau_Var24</th>    <td>    0.6378</td> <td>    0.141</td> <td>    4.536</td> <td> 0.000</td> <td>    0.362</td> <td>    0.913</td>\n",
       "</tr>\n",
       "<tr>\n",
       "  <th>Previous_Var545</th> <td>    0.7804</td> <td>    0.148</td> <td>    5.280</td> <td> 0.000</td> <td>    0.491</td> <td>    1.070</td>\n",
       "</tr>\n",
       "<tr>\n",
       "  <th>Bureau_Var1153</th>  <td>    0.9745</td> <td>    0.165</td> <td>    5.890</td> <td> 0.000</td> <td>    0.650</td> <td>    1.299</td>\n",
       "</tr>\n",
       "<tr>\n",
       "  <th>OWN_CAR_AGE</th>     <td>    0.6620</td> <td>    0.180</td> <td>    3.687</td> <td> 0.000</td> <td>    0.310</td> <td>    1.014</td>\n",
       "</tr>\n",
       "<tr>\n",
       "  <th>Previous_Var22</th>  <td>    0.4545</td> <td>    0.153</td> <td>    2.975</td> <td> 0.003</td> <td>    0.155</td> <td>    0.754</td>\n",
       "</tr>\n",
       "<tr>\n",
       "  <th>IP_Var31</th>        <td>    0.4450</td> <td>    0.139</td> <td>    3.196</td> <td> 0.001</td> <td>    0.172</td> <td>    0.718</td>\n",
       "</tr>\n",
       "<tr>\n",
       "  <th>CITY_RATING</th>     <td>    0.3569</td> <td>    0.119</td> <td>    3.006</td> <td> 0.003</td> <td>    0.124</td> <td>    0.590</td>\n",
       "</tr>\n",
       "<tr>\n",
       "  <th>Bureau_Var21</th>    <td>    0.2693</td> <td>    0.102</td> <td>    2.639</td> <td> 0.008</td> <td>    0.069</td> <td>    0.469</td>\n",
       "</tr>\n",
       "</table>"
      ],
      "text/plain": [
       "<class 'statsmodels.iolib.summary.Summary'>\n",
       "\"\"\"\n",
       "                 Generalized Linear Model Regression Results                  \n",
       "==============================================================================\n",
       "Dep. Variable:                 TARGET   No. Observations:                20100\n",
       "Model:                            GLM   Df Residuals:                    20085\n",
       "Model Family:                Binomial   Df Model:                           14\n",
       "Link Function:                  Logit   Scale:                          1.0000\n",
       "Method:                          IRLS   Log-Likelihood:                -4878.7\n",
       "Date:                Mon, 28 Feb 2022   Deviance:                       9757.3\n",
       "Time:                        18:06:09   Pearson chi2:                 1.96e+04\n",
       "No. Iterations:                     6   Pseudo R-squ. (CS):            0.06524\n",
       "Covariance Type:            nonrobust                                         \n",
       "===================================================================================\n",
       "                      coef    std err          z      P>|z|      [0.025      0.975]\n",
       "-----------------------------------------------------------------------------------\n",
       "Intercept          -2.4558      0.029    -84.160      0.000      -2.513      -2.399\n",
       "Score2              0.7900      0.048     16.561      0.000       0.696       0.883\n",
       "Score3              0.5856      0.053     10.973      0.000       0.481       0.690\n",
       "Score1              0.6286      0.070      9.034      0.000       0.492       0.765\n",
       "Bureau_Var1048      0.6466      0.087      7.421      0.000       0.476       0.817\n",
       "IP_Var30            0.5886      0.105      5.588      0.000       0.382       0.795\n",
       "DAYS_EMPLOYED       0.5622      0.092      6.135      0.000       0.383       0.742\n",
       "Bureau_Var24        0.6378      0.141      4.536      0.000       0.362       0.913\n",
       "Previous_Var545     0.7804      0.148      5.280      0.000       0.491       1.070\n",
       "Bureau_Var1153      0.9745      0.165      5.890      0.000       0.650       1.299\n",
       "OWN_CAR_AGE         0.6620      0.180      3.687      0.000       0.310       1.014\n",
       "Previous_Var22      0.4545      0.153      2.975      0.003       0.155       0.754\n",
       "IP_Var31            0.4450      0.139      3.196      0.001       0.172       0.718\n",
       "CITY_RATING         0.3569      0.119      3.006      0.003       0.124       0.590\n",
       "Bureau_Var21        0.2693      0.102      2.639      0.008       0.069       0.469\n",
       "===================================================================================\n",
       "\"\"\""
      ]
     },
     "execution_count": 38,
     "metadata": {},
     "output_type": "execute_result"
    }
   ],
   "source": [
    "model.model_info #打印回归信息"
   ]
  },
  {
   "cell_type": "markdown",
   "metadata": {},
   "source": [
    "### 7.2 vif信息"
   ]
  },
  {
   "cell_type": "code",
   "execution_count": 39,
   "metadata": {},
   "outputs": [
    {
     "data": {
      "text/html": [
       "<div>\n",
       "<style scoped>\n",
       "    .dataframe tbody tr th:only-of-type {\n",
       "        vertical-align: middle;\n",
       "    }\n",
       "\n",
       "    .dataframe tbody tr th {\n",
       "        vertical-align: top;\n",
       "    }\n",
       "\n",
       "    .dataframe thead th {\n",
       "        text-align: right;\n",
       "    }\n",
       "</style>\n",
       "<table border=\"1\" class=\"dataframe\">\n",
       "  <thead>\n",
       "    <tr style=\"text-align: right;\">\n",
       "      <th></th>\n",
       "      <th>VIF Factor</th>\n",
       "      <th>features</th>\n",
       "    </tr>\n",
       "  </thead>\n",
       "  <tbody>\n",
       "    <tr>\n",
       "      <th>0</th>\n",
       "      <td>1.187470</td>\n",
       "      <td>Score2</td>\n",
       "    </tr>\n",
       "    <tr>\n",
       "      <th>1</th>\n",
       "      <td>1.353488</td>\n",
       "      <td>Score3</td>\n",
       "    </tr>\n",
       "    <tr>\n",
       "      <th>2</th>\n",
       "      <td>1.073698</td>\n",
       "      <td>Score1</td>\n",
       "    </tr>\n",
       "    <tr>\n",
       "      <th>3</th>\n",
       "      <td>1.101121</td>\n",
       "      <td>Bureau_Var1048</td>\n",
       "    </tr>\n",
       "    <tr>\n",
       "      <th>4</th>\n",
       "      <td>1.216275</td>\n",
       "      <td>IP_Var30</td>\n",
       "    </tr>\n",
       "    <tr>\n",
       "      <th>5</th>\n",
       "      <td>1.074525</td>\n",
       "      <td>DAYS_EMPLOYED</td>\n",
       "    </tr>\n",
       "    <tr>\n",
       "      <th>6</th>\n",
       "      <td>1.437887</td>\n",
       "      <td>Bureau_Var24</td>\n",
       "    </tr>\n",
       "    <tr>\n",
       "      <th>7</th>\n",
       "      <td>1.051944</td>\n",
       "      <td>Previous_Var545</td>\n",
       "    </tr>\n",
       "    <tr>\n",
       "      <th>8</th>\n",
       "      <td>1.193671</td>\n",
       "      <td>Bureau_Var1153</td>\n",
       "    </tr>\n",
       "    <tr>\n",
       "      <th>9</th>\n",
       "      <td>1.022779</td>\n",
       "      <td>OWN_CAR_AGE</td>\n",
       "    </tr>\n",
       "    <tr>\n",
       "      <th>10</th>\n",
       "      <td>1.098153</td>\n",
       "      <td>Previous_Var22</td>\n",
       "    </tr>\n",
       "    <tr>\n",
       "      <th>11</th>\n",
       "      <td>1.187786</td>\n",
       "      <td>IP_Var31</td>\n",
       "    </tr>\n",
       "    <tr>\n",
       "      <th>12</th>\n",
       "      <td>1.128744</td>\n",
       "      <td>CITY_RATING</td>\n",
       "    </tr>\n",
       "    <tr>\n",
       "      <th>13</th>\n",
       "      <td>1.591053</td>\n",
       "      <td>Bureau_Var21</td>\n",
       "    </tr>\n",
       "  </tbody>\n",
       "</table>\n",
       "</div>"
      ],
      "text/plain": [
       "    VIF Factor         features\n",
       "0     1.187470           Score2\n",
       "1     1.353488           Score3\n",
       "2     1.073698           Score1\n",
       "3     1.101121   Bureau_Var1048\n",
       "4     1.216275         IP_Var30\n",
       "5     1.074525    DAYS_EMPLOYED\n",
       "6     1.437887     Bureau_Var24\n",
       "7     1.051944  Previous_Var545\n",
       "8     1.193671   Bureau_Var1153\n",
       "9     1.022779      OWN_CAR_AGE\n",
       "10    1.098153   Previous_Var22\n",
       "11    1.187786         IP_Var31\n",
       "12    1.128744      CITY_RATING\n",
       "13    1.591053     Bureau_Var21"
      ]
     },
     "execution_count": 39,
     "metadata": {},
     "output_type": "execute_result"
    }
   ],
   "source": [
    "model.vif_info"
   ]
  },
  {
   "cell_type": "markdown",
   "metadata": {},
   "source": [
    "### 7.3 模型评估"
   ]
  },
  {
   "cell_type": "markdown",
   "metadata": {},
   "source": [
    "+ bm.perfEval可用于模型评估"
   ]
  },
  {
   "cell_type": "code",
   "execution_count": 40,
   "metadata": {},
   "outputs": [
    {
     "data": {
      "image/png": "[encoded data removed]",
      "text/plain": [
       "<Figure size 600x603.896 with 1 Axes>"
      ]
     },
     "metadata": {},
     "output_type": "display_data"
    },
    {
     "data": {
      "image/png": "[encoded data removed]",
      "text/plain": [
       "<Figure size 600x603.896 with 1 Axes>"
      ]
     },
     "metadata": {},
     "output_type": "display_data"
    },
    {
     "data": {
      "text/plain": [
       "{'ks': <ggplot: (8783413232836)>, 'roc': <ggplot: (8783414002002)>}"
      ]
     },
     "execution_count": 40,
     "metadata": {},
     "output_type": "execute_result"
    }
   ],
   "source": [
    "y=pd.concat([\n",
    "    y_train,\n",
    "    y_test]\n",
    ")\n",
    "\n",
    "pred=pd.concat([\n",
    "    pd.Series(model.predict_proba(X_train_woe_fa),index=X_train.index),\n",
    "    pd.Series(model.predict_proba(X_test_woe_fa),index=X_test.index)]\n",
    ")\n",
    "\n",
    "group=pd.concat([\n",
    "    pd.Series('train',index=X_train.index),\n",
    "    pd.Series('test',index=X_test.index)]\n",
    ")\n",
    "\n",
    "bm.perfEval(show_plot=('ks','roc')).plot(pred,y,group,figure_size=(6,6)) "
   ]
  },
  {
   "cell_type": "markdown",
   "metadata": {},
   "source": [
    "## 8.制作评分卡"
   ]
  },
  {
   "cell_type": "markdown",
   "metadata": {},
   "source": [
    "### 8.1 产生评分卡"
   ]
  },
  {
   "cell_type": "markdown",
   "metadata": {},
   "source": [
    "bm.cardScorer提供了制作评分卡功能\n",
    "\n",
    "+ 注意演示中头两个参数\n",
    "    + model.logit_model回归模型对象,可支持statsmodel与sklearn的回归模型\n",
    "    + woe.varbin,进行woe编码时产生的特征分析报告字典\n",
    "+ odds,pdo,points0分别代表了制作评分卡刻度的三个参数,即发生比、评分翻倍的分数间隔、基础分\n",
    "+ 其他参数请见帮助文档"
   ]
  },
  {
   "cell_type": "code",
   "execution_count": 41,
   "metadata": {},
   "outputs": [],
   "source": [
    "card=bm.cardScorer(model.logit_model,woe.varbin,odds0=0.08,pdo=60,points0=600,digit=0).fit(X_train_woe_fa)"
   ]
  },
  {
   "cell_type": "markdown",
   "metadata": {},
   "source": [
    "经过fit后,产生属性scorecard即评分卡"
   ]
  },
  {
   "cell_type": "code",
   "execution_count": 51,
   "metadata": {
    "scrolled": false
   },
   "outputs": [
    {
     "data": {
      "text/html": [
       "<div>\n",
       "<style scoped>\n",
       "    .dataframe tbody tr th:only-of-type {\n",
       "        vertical-align: middle;\n",
       "    }\n",
       "\n",
       "    .dataframe tbody tr th {\n",
       "        vertical-align: top;\n",
       "    }\n",
       "\n",
       "    .dataframe thead th {\n",
       "        text-align: right;\n",
       "    }\n",
       "</style>\n",
       "<table border=\"1\" class=\"dataframe\">\n",
       "  <thead>\n",
       "    <tr style=\"text-align: right;\">\n",
       "      <th></th>\n",
       "      <th></th>\n",
       "      <th>variable</th>\n",
       "      <th>points</th>\n",
       "      <th>woe</th>\n",
       "      <th>breaks</th>\n",
       "    </tr>\n",
       "  </thead>\n",
       "  <tbody>\n",
       "    <tr>\n",
       "      <th>intercept</th>\n",
       "      <th>intercept</th>\n",
       "      <td>intercept</td>\n",
       "      <td>594.0</td>\n",
       "      <td>NaN</td>\n",
       "      <td>NaN</td>\n",
       "    </tr>\n",
       "    <tr>\n",
       "      <th rowspan=\"4\" valign=\"top\">Score2</th>\n",
       "      <th>[-inf, 0.18)</th>\n",
       "      <td>Score2</td>\n",
       "      <td>-74.0</td>\n",
       "      <td>1.087775</td>\n",
       "      <td>0.18</td>\n",
       "    </tr>\n",
       "    <tr>\n",
       "      <th>[0.18, 0.46)</th>\n",
       "      <td>Score2</td>\n",
       "      <td>-28.0</td>\n",
       "      <td>0.406076</td>\n",
       "      <td>0.46</td>\n",
       "    </tr>\n",
       "    <tr>\n",
       "      <th>[0.46, 0.64)</th>\n",
       "      <td>Score2</td>\n",
       "      <td>15.0</td>\n",
       "      <td>-0.220465</td>\n",
       "      <td>0.64</td>\n",
       "    </tr>\n",
       "    <tr>\n",
       "      <th>[0.64, 0.7)</th>\n",
       "      <td>Score2</td>\n",
       "      <td>44.0</td>\n",
       "      <td>-0.638849</td>\n",
       "      <td>0.7</td>\n",
       "    </tr>\n",
       "    <tr>\n",
       "      <th>...</th>\n",
       "      <th>...</th>\n",
       "      <td>...</td>\n",
       "      <td>...</td>\n",
       "      <td>...</td>\n",
       "      <td>...</td>\n",
       "    </tr>\n",
       "    <tr>\n",
       "      <th rowspan=\"5\" valign=\"top\">Bureau_Var21</th>\n",
       "      <th>[-inf, 2.0)</th>\n",
       "      <td>Bureau_Var21</td>\n",
       "      <td>1.0</td>\n",
       "      <td>-0.060086</td>\n",
       "      <td>2.0</td>\n",
       "    </tr>\n",
       "    <tr>\n",
       "      <th>[2.0, 3.0)</th>\n",
       "      <td>Bureau_Var21</td>\n",
       "      <td>-1.0</td>\n",
       "      <td>0.064227</td>\n",
       "      <td>3.0</td>\n",
       "    </tr>\n",
       "    <tr>\n",
       "      <th>[3.0, inf)</th>\n",
       "      <td>Bureau_Var21</td>\n",
       "      <td>-20.0</td>\n",
       "      <td>0.860991</td>\n",
       "      <td>inf</td>\n",
       "    </tr>\n",
       "    <tr>\n",
       "      <th>special</th>\n",
       "      <td>Bureau_Var21</td>\n",
       "      <td>-0.0</td>\n",
       "      <td>0.000000</td>\n",
       "      <td>special</td>\n",
       "    </tr>\n",
       "    <tr>\n",
       "      <th>missing</th>\n",
       "      <td>Bureau_Var21</td>\n",
       "      <td>5.0</td>\n",
       "      <td>-0.203787</td>\n",
       "      <td>missing</td>\n",
       "    </tr>\n",
       "  </tbody>\n",
       "</table>\n",
       "<p>89 rows × 4 columns</p>\n",
       "</div>"
      ],
      "text/plain": [
       "                               variable  points       woe   breaks\n",
       "intercept    intercept        intercept   594.0       NaN      NaN\n",
       "Score2       [-inf, 0.18)        Score2   -74.0  1.087775     0.18\n",
       "             [0.18, 0.46)        Score2   -28.0  0.406076     0.46\n",
       "             [0.46, 0.64)        Score2    15.0 -0.220465     0.64\n",
       "             [0.64, 0.7)         Score2    44.0 -0.638849      0.7\n",
       "...                                 ...     ...       ...      ...\n",
       "Bureau_Var21 [-inf, 2.0)   Bureau_Var21     1.0 -0.060086      2.0\n",
       "             [2.0, 3.0)    Bureau_Var21    -1.0  0.064227      3.0\n",
       "             [3.0, inf)    Bureau_Var21   -20.0  0.860991      inf\n",
       "             special       Bureau_Var21    -0.0  0.000000  special\n",
       "             missing       Bureau_Var21     5.0 -0.203787  missing\n",
       "\n",
       "[89 rows x 4 columns]"
      ]
     },
     "execution_count": 51,
     "metadata": {},
     "output_type": "execute_result"
    }
   ],
   "source": [
    "pd.concat(card.scorecard)"
   ]
  },
  {
   "cell_type": "markdown",
   "metadata": {},
   "source": [
    "### 8.2 产生评分"
   ]
  },
  {
   "cell_type": "markdown",
   "metadata": {},
   "source": [
    "方法transform可以用于产生评分,注意transform后接原始数据"
   ]
  },
  {
   "cell_type": "code",
   "execution_count": 43,
   "metadata": {},
   "outputs": [],
   "source": [
    "X_train_score=card.transform(X_train)\n",
    "X_test_score=card.transform(X_test)"
   ]
  },
  {
   "cell_type": "code",
   "execution_count": 44,
   "metadata": {},
   "outputs": [
    {
     "data": {
      "text/html": [
       "<div>\n",
       "<style scoped>\n",
       "    .dataframe tbody tr th:only-of-type {\n",
       "        vertical-align: middle;\n",
       "    }\n",
       "\n",
       "    .dataframe tbody tr th {\n",
       "        vertical-align: top;\n",
       "    }\n",
       "\n",
       "    .dataframe thead th {\n",
       "        text-align: right;\n",
       "    }\n",
       "</style>\n",
       "<table border=\"1\" class=\"dataframe\">\n",
       "  <thead>\n",
       "    <tr style=\"text-align: right;\">\n",
       "      <th></th>\n",
       "      <th>Score2</th>\n",
       "      <th>Score3</th>\n",
       "      <th>Score1</th>\n",
       "      <th>Bureau_Var1048</th>\n",
       "      <th>IP_Var30</th>\n",
       "      <th>DAYS_EMPLOYED</th>\n",
       "      <th>Bureau_Var24</th>\n",
       "      <th>Previous_Var545</th>\n",
       "      <th>Bureau_Var1153</th>\n",
       "      <th>OWN_CAR_AGE</th>\n",
       "      <th>Previous_Var22</th>\n",
       "      <th>IP_Var31</th>\n",
       "      <th>CITY_RATING</th>\n",
       "      <th>Bureau_Var21</th>\n",
       "      <th>score</th>\n",
       "    </tr>\n",
       "    <tr>\n",
       "      <th>ID</th>\n",
       "      <th></th>\n",
       "      <th></th>\n",
       "      <th></th>\n",
       "      <th></th>\n",
       "      <th></th>\n",
       "      <th></th>\n",
       "      <th></th>\n",
       "      <th></th>\n",
       "      <th></th>\n",
       "      <th></th>\n",
       "      <th></th>\n",
       "      <th></th>\n",
       "      <th></th>\n",
       "      <th></th>\n",
       "      <th></th>\n",
       "    </tr>\n",
       "  </thead>\n",
       "  <tbody>\n",
       "    <tr>\n",
       "      <th>454807</th>\n",
       "      <td>15.0</td>\n",
       "      <td>-3.0</td>\n",
       "      <td>-3.0</td>\n",
       "      <td>10.0</td>\n",
       "      <td>8.0</td>\n",
       "      <td>20.0</td>\n",
       "      <td>1.0</td>\n",
       "      <td>-10.0</td>\n",
       "      <td>-21.0</td>\n",
       "      <td>-2.0</td>\n",
       "      <td>5.0</td>\n",
       "      <td>8.0</td>\n",
       "      <td>1.0</td>\n",
       "      <td>5.0</td>\n",
       "      <td>628.0</td>\n",
       "    </tr>\n",
       "    <tr>\n",
       "      <th>267170</th>\n",
       "      <td>-28.0</td>\n",
       "      <td>47.0</td>\n",
       "      <td>40.0</td>\n",
       "      <td>-31.0</td>\n",
       "      <td>-32.0</td>\n",
       "      <td>20.0</td>\n",
       "      <td>12.0</td>\n",
       "      <td>22.0</td>\n",
       "      <td>10.0</td>\n",
       "      <td>-2.0</td>\n",
       "      <td>-4.0</td>\n",
       "      <td>-1.0</td>\n",
       "      <td>1.0</td>\n",
       "      <td>1.0</td>\n",
       "      <td>649.0</td>\n",
       "    </tr>\n",
       "    <tr>\n",
       "      <th>405274</th>\n",
       "      <td>-28.0</td>\n",
       "      <td>47.0</td>\n",
       "      <td>-3.0</td>\n",
       "      <td>10.0</td>\n",
       "      <td>8.0</td>\n",
       "      <td>-10.0</td>\n",
       "      <td>12.0</td>\n",
       "      <td>7.0</td>\n",
       "      <td>12.0</td>\n",
       "      <td>-2.0</td>\n",
       "      <td>4.0</td>\n",
       "      <td>8.0</td>\n",
       "      <td>1.0</td>\n",
       "      <td>5.0</td>\n",
       "      <td>665.0</td>\n",
       "    </tr>\n",
       "    <tr>\n",
       "      <th>210570</th>\n",
       "      <td>-28.0</td>\n",
       "      <td>-3.0</td>\n",
       "      <td>13.0</td>\n",
       "      <td>10.0</td>\n",
       "      <td>8.0</td>\n",
       "      <td>-10.0</td>\n",
       "      <td>1.0</td>\n",
       "      <td>-21.0</td>\n",
       "      <td>-21.0</td>\n",
       "      <td>-2.0</td>\n",
       "      <td>-4.0</td>\n",
       "      <td>-1.0</td>\n",
       "      <td>1.0</td>\n",
       "      <td>5.0</td>\n",
       "      <td>542.0</td>\n",
       "    </tr>\n",
       "    <tr>\n",
       "      <th>397070</th>\n",
       "      <td>67.0</td>\n",
       "      <td>29.0</td>\n",
       "      <td>-3.0</td>\n",
       "      <td>10.0</td>\n",
       "      <td>-16.0</td>\n",
       "      <td>12.0</td>\n",
       "      <td>-10.0</td>\n",
       "      <td>22.0</td>\n",
       "      <td>12.0</td>\n",
       "      <td>-2.0</td>\n",
       "      <td>1.0</td>\n",
       "      <td>-10.0</td>\n",
       "      <td>18.0</td>\n",
       "      <td>5.0</td>\n",
       "      <td>729.0</td>\n",
       "    </tr>\n",
       "  </tbody>\n",
       "</table>\n",
       "</div>"
      ],
      "text/plain": [
       "        Score2  Score3  Score1  Bureau_Var1048  IP_Var30  DAYS_EMPLOYED  \\\n",
       "ID                                                                        \n",
       "454807    15.0    -3.0    -3.0            10.0       8.0           20.0   \n",
       "267170   -28.0    47.0    40.0           -31.0     -32.0           20.0   \n",
       "405274   -28.0    47.0    -3.0            10.0       8.0          -10.0   \n",
       "210570   -28.0    -3.0    13.0            10.0       8.0          -10.0   \n",
       "397070    67.0    29.0    -3.0            10.0     -16.0           12.0   \n",
       "\n",
       "        Bureau_Var24  Previous_Var545  Bureau_Var1153  OWN_CAR_AGE  \\\n",
       "ID                                                                   \n",
       "454807           1.0            -10.0           -21.0         -2.0   \n",
       "267170          12.0             22.0            10.0         -2.0   \n",
       "405274          12.0              7.0            12.0         -2.0   \n",
       "210570           1.0            -21.0           -21.0         -2.0   \n",
       "397070         -10.0             22.0            12.0         -2.0   \n",
       "\n",
       "        Previous_Var22  IP_Var31  CITY_RATING  Bureau_Var21  score  \n",
       "ID                                                                  \n",
       "454807             5.0       8.0          1.0           5.0  628.0  \n",
       "267170            -4.0      -1.0          1.0           1.0  649.0  \n",
       "405274             4.0       8.0          1.0           5.0  665.0  \n",
       "210570            -4.0      -1.0          1.0           5.0  542.0  \n",
       "397070             1.0     -10.0         18.0           5.0  729.0  "
      ]
     },
     "execution_count": 44,
     "metadata": {},
     "output_type": "execute_result"
    }
   ],
   "source": [
    "X_train_score.head()"
   ]
  },
  {
   "cell_type": "markdown",
   "metadata": {},
   "source": [
    "### 8.3 评分表现"
   ]
  },
  {
   "cell_type": "markdown",
   "metadata": {},
   "source": [
    "bm.varGroupsReport可用于产生评分表现,其具体用法请参考帮助文档"
   ]
  },
  {
   "cell_type": "code",
   "execution_count": 45,
   "metadata": {},
   "outputs": [],
   "source": [
    "X_score=pd.concat(\n",
    "    [\n",
    "        X_train_score.join(y_train).assign(split='train'),\n",
    "        X_test_score.join(y_test).assign(split='test')\n",
    "    ]\n",
    ")"
   ]
  },
  {
   "cell_type": "code",
   "execution_count": 46,
   "metadata": {
    "scrolled": true
   },
   "outputs": [
    {
     "data": {
      "text/plain": [
       "{'score': [513.0, 556.0, 585.0, 610.0, 633.0, 654.0, 678.0, 704.0, 738.0]}"
      ]
     },
     "execution_count": 46,
     "metadata": {},
     "output_type": "execute_result"
    }
   ],
   "source": [
    "bm.binFreq(X_train_score[['score']],y_train,bin_num_limit=10)[0] #等频分箱结果"
   ]
  },
  {
   "cell_type": "code",
   "execution_count": 47,
   "metadata": {},
   "outputs": [],
   "source": [
    "scoreperf=bm.varGroupsReport(\n",
    "                   breaks_list_dict=bm.binFreq(X_train_score[['score']],y_train,bin_num_limit=10)[0],\n",
    "                   columns=['split'],\n",
    "                   sort_columns={'split':['train','test']},\n",
    "                   output_psi=True,\n",
    "                   psi_base='split==\"train\"',\n",
    "                   target='TARGET',n_jobs=1\n",
    "                  ).fit(X_score)"
   ]
  },
  {
   "cell_type": "markdown",
   "metadata": {},
   "source": [
    "+ 评分表现(简版)"
   ]
  },
  {
   "cell_type": "code",
   "execution_count": 48,
   "metadata": {},
   "outputs": [
    {
     "data": {
      "text/html": [
       "<div>\n",
       "<style scoped>\n",
       "    .dataframe tbody tr th:only-of-type {\n",
       "        vertical-align: middle;\n",
       "    }\n",
       "\n",
       "    .dataframe tbody tr th {\n",
       "        vertical-align: top;\n",
       "    }\n",
       "\n",
       "    .dataframe thead tr th {\n",
       "        text-align: left;\n",
       "    }\n",
       "</style>\n",
       "<table border=\"1\" class=\"dataframe\">\n",
       "  <thead>\n",
       "    <tr>\n",
       "      <th></th>\n",
       "      <th>variable</th>\n",
       "      <th>bin</th>\n",
       "      <th colspan=\"5\" halign=\"left\">train</th>\n",
       "      <th colspan=\"5\" halign=\"left\">test</th>\n",
       "    </tr>\n",
       "    <tr>\n",
       "      <th></th>\n",
       "      <th></th>\n",
       "      <th></th>\n",
       "      <th>count</th>\n",
       "      <th>badprob</th>\n",
       "      <th>woe</th>\n",
       "      <th>total_iv</th>\n",
       "      <th>ks_max</th>\n",
       "      <th>count</th>\n",
       "      <th>badprob</th>\n",
       "      <th>woe</th>\n",
       "      <th>total_iv</th>\n",
       "      <th>ks_max</th>\n",
       "    </tr>\n",
       "  </thead>\n",
       "  <tbody>\n",
       "    <tr>\n",
       "      <th>0</th>\n",
       "      <td>score</td>\n",
       "      <td>[-inf, 513.0)</td>\n",
       "      <td>1971</td>\n",
       "      <td>0.272958</td>\n",
       "      <td>1.475593</td>\n",
       "      <td>0.961678</td>\n",
       "      <td>0.373981</td>\n",
       "      <td>941</td>\n",
       "      <td>0.231668</td>\n",
       "      <td>1.255849</td>\n",
       "      <td>0.745437</td>\n",
       "      <td>0.365515</td>\n",
       "    </tr>\n",
       "    <tr>\n",
       "      <th>1</th>\n",
       "      <td>score</td>\n",
       "      <td>[513.0, 556.0)</td>\n",
       "      <td>2019</td>\n",
       "      <td>0.134720</td>\n",
       "      <td>0.595407</td>\n",
       "      <td>0.961678</td>\n",
       "      <td>0.373981</td>\n",
       "      <td>1030</td>\n",
       "      <td>0.156311</td>\n",
       "      <td>0.768825</td>\n",
       "      <td>0.745437</td>\n",
       "      <td>0.365515</td>\n",
       "    </tr>\n",
       "    <tr>\n",
       "      <th>2</th>\n",
       "      <td>score</td>\n",
       "      <td>[556.0, 585.0)</td>\n",
       "      <td>1980</td>\n",
       "      <td>0.097475</td>\n",
       "      <td>0.229657</td>\n",
       "      <td>0.961678</td>\n",
       "      <td>0.373981</td>\n",
       "      <td>1047</td>\n",
       "      <td>0.110793</td>\n",
       "      <td>0.372094</td>\n",
       "      <td>0.745437</td>\n",
       "      <td>0.365515</td>\n",
       "    </tr>\n",
       "    <tr>\n",
       "      <th>3</th>\n",
       "      <td>score</td>\n",
       "      <td>[585.0, 610.0)</td>\n",
       "      <td>1983</td>\n",
       "      <td>0.087242</td>\n",
       "      <td>0.107470</td>\n",
       "      <td>0.961678</td>\n",
       "      <td>0.373981</td>\n",
       "      <td>945</td>\n",
       "      <td>0.086772</td>\n",
       "      <td>0.101068</td>\n",
       "      <td>0.745437</td>\n",
       "      <td>0.365515</td>\n",
       "    </tr>\n",
       "    <tr>\n",
       "      <th>4</th>\n",
       "      <td>score</td>\n",
       "      <td>[610.0, 633.0)</td>\n",
       "      <td>2074</td>\n",
       "      <td>0.065092</td>\n",
       "      <td>-0.209393</td>\n",
       "      <td>0.961678</td>\n",
       "      <td>0.373981</td>\n",
       "      <td>1030</td>\n",
       "      <td>0.057282</td>\n",
       "      <td>-0.346026</td>\n",
       "      <td>0.745437</td>\n",
       "      <td>0.365515</td>\n",
       "    </tr>\n",
       "    <tr>\n",
       "      <th>5</th>\n",
       "      <td>score</td>\n",
       "      <td>[633.0, 654.0)</td>\n",
       "      <td>1950</td>\n",
       "      <td>0.043590</td>\n",
       "      <td>-0.633105</td>\n",
       "      <td>0.961678</td>\n",
       "      <td>0.373981</td>\n",
       "      <td>933</td>\n",
       "      <td>0.042872</td>\n",
       "      <td>-0.650944</td>\n",
       "      <td>0.745437</td>\n",
       "      <td>0.365515</td>\n",
       "    </tr>\n",
       "    <tr>\n",
       "      <th>6</th>\n",
       "      <td>score</td>\n",
       "      <td>[654.0, 678.0)</td>\n",
       "      <td>2078</td>\n",
       "      <td>0.041386</td>\n",
       "      <td>-0.687287</td>\n",
       "      <td>0.961678</td>\n",
       "      <td>0.373981</td>\n",
       "      <td>1048</td>\n",
       "      <td>0.035305</td>\n",
       "      <td>-0.853014</td>\n",
       "      <td>0.745437</td>\n",
       "      <td>0.365515</td>\n",
       "    </tr>\n",
       "    <tr>\n",
       "      <th>7</th>\n",
       "      <td>score</td>\n",
       "      <td>[678.0, 704.0)</td>\n",
       "      <td>2013</td>\n",
       "      <td>0.028316</td>\n",
       "      <td>-1.080345</td>\n",
       "      <td>0.961678</td>\n",
       "      <td>0.373981</td>\n",
       "      <td>1028</td>\n",
       "      <td>0.030156</td>\n",
       "      <td>-1.016000</td>\n",
       "      <td>0.745437</td>\n",
       "      <td>0.365515</td>\n",
       "    </tr>\n",
       "    <tr>\n",
       "      <th>8</th>\n",
       "      <td>score</td>\n",
       "      <td>[704.0, 738.0)</td>\n",
       "      <td>1969</td>\n",
       "      <td>0.017776</td>\n",
       "      <td>-1.556737</td>\n",
       "      <td>0.961678</td>\n",
       "      <td>0.373981</td>\n",
       "      <td>926</td>\n",
       "      <td>0.025918</td>\n",
       "      <td>-1.171797</td>\n",
       "      <td>0.745437</td>\n",
       "      <td>0.365515</td>\n",
       "    </tr>\n",
       "    <tr>\n",
       "      <th>9</th>\n",
       "      <td>score</td>\n",
       "      <td>[738.0, inf)</td>\n",
       "      <td>2063</td>\n",
       "      <td>0.007271</td>\n",
       "      <td>-2.461309</td>\n",
       "      <td>0.961678</td>\n",
       "      <td>0.373981</td>\n",
       "      <td>972</td>\n",
       "      <td>0.015432</td>\n",
       "      <td>-1.700990</td>\n",
       "      <td>0.745437</td>\n",
       "      <td>0.365515</td>\n",
       "    </tr>\n",
       "    <tr>\n",
       "      <th>10</th>\n",
       "      <td>score</td>\n",
       "      <td>special</td>\n",
       "      <td>0</td>\n",
       "      <td>NaN</td>\n",
       "      <td>0.000000</td>\n",
       "      <td>0.961678</td>\n",
       "      <td>0.373981</td>\n",
       "      <td>0</td>\n",
       "      <td>NaN</td>\n",
       "      <td>0.000000</td>\n",
       "      <td>0.745437</td>\n",
       "      <td>0.365515</td>\n",
       "    </tr>\n",
       "    <tr>\n",
       "      <th>11</th>\n",
       "      <td>score</td>\n",
       "      <td>missing</td>\n",
       "      <td>0</td>\n",
       "      <td>NaN</td>\n",
       "      <td>0.000000</td>\n",
       "      <td>0.961678</td>\n",
       "      <td>0.373981</td>\n",
       "      <td>0</td>\n",
       "      <td>NaN</td>\n",
       "      <td>0.000000</td>\n",
       "      <td>0.745437</td>\n",
       "      <td>0.365515</td>\n",
       "    </tr>\n",
       "  </tbody>\n",
       "</table>\n",
       "</div>"
      ],
      "text/plain": [
       "   variable             bin train                                          \\\n",
       "                            count   badprob       woe  total_iv    ks_max   \n",
       "0     score   [-inf, 513.0)  1971  0.272958  1.475593  0.961678  0.373981   \n",
       "1     score  [513.0, 556.0)  2019  0.134720  0.595407  0.961678  0.373981   \n",
       "2     score  [556.0, 585.0)  1980  0.097475  0.229657  0.961678  0.373981   \n",
       "3     score  [585.0, 610.0)  1983  0.087242  0.107470  0.961678  0.373981   \n",
       "4     score  [610.0, 633.0)  2074  0.065092 -0.209393  0.961678  0.373981   \n",
       "5     score  [633.0, 654.0)  1950  0.043590 -0.633105  0.961678  0.373981   \n",
       "6     score  [654.0, 678.0)  2078  0.041386 -0.687287  0.961678  0.373981   \n",
       "7     score  [678.0, 704.0)  2013  0.028316 -1.080345  0.961678  0.373981   \n",
       "8     score  [704.0, 738.0)  1969  0.017776 -1.556737  0.961678  0.373981   \n",
       "9     score    [738.0, inf)  2063  0.007271 -2.461309  0.961678  0.373981   \n",
       "10    score         special     0       NaN  0.000000  0.961678  0.373981   \n",
       "11    score         missing     0       NaN  0.000000  0.961678  0.373981   \n",
       "\n",
       "    test                                          \n",
       "   count   badprob       woe  total_iv    ks_max  \n",
       "0    941  0.231668  1.255849  0.745437  0.365515  \n",
       "1   1030  0.156311  0.768825  0.745437  0.365515  \n",
       "2   1047  0.110793  0.372094  0.745437  0.365515  \n",
       "3    945  0.086772  0.101068  0.745437  0.365515  \n",
       "4   1030  0.057282 -0.346026  0.745437  0.365515  \n",
       "5    933  0.042872 -0.650944  0.745437  0.365515  \n",
       "6   1048  0.035305 -0.853014  0.745437  0.365515  \n",
       "7   1028  0.030156 -1.016000  0.745437  0.365515  \n",
       "8    926  0.025918 -1.171797  0.745437  0.365515  \n",
       "9    972  0.015432 -1.700990  0.745437  0.365515  \n",
       "10     0       NaN  0.000000  0.745437  0.365515  \n",
       "11     0       NaN  0.000000  0.745437  0.365515  "
      ]
     },
     "execution_count": 48,
     "metadata": {},
     "output_type": "execute_result"
    }
   ],
   "source": [
    "scoreperf.report_dict['report_brief']"
   ]
  },
  {
   "cell_type": "markdown",
   "metadata": {},
   "source": [
    "+ 评分表现(PSI)"
   ]
  },
  {
   "cell_type": "code",
   "execution_count": 49,
   "metadata": {},
   "outputs": [
    {
     "data": {
      "text/html": [
       "<div>\n",
       "<style scoped>\n",
       "    .dataframe tbody tr th:only-of-type {\n",
       "        vertical-align: middle;\n",
       "    }\n",
       "\n",
       "    .dataframe tbody tr th {\n",
       "        vertical-align: top;\n",
       "    }\n",
       "\n",
       "    .dataframe thead tr th {\n",
       "        text-align: left;\n",
       "    }\n",
       "</style>\n",
       "<table border=\"1\" class=\"dataframe\">\n",
       "  <thead>\n",
       "    <tr>\n",
       "      <th></th>\n",
       "      <th>variable</th>\n",
       "      <th>bin</th>\n",
       "      <th>train</th>\n",
       "      <th>test</th>\n",
       "    </tr>\n",
       "    <tr>\n",
       "      <th></th>\n",
       "      <th></th>\n",
       "      <th></th>\n",
       "      <th>count_distr</th>\n",
       "      <th>count_distr</th>\n",
       "    </tr>\n",
       "  </thead>\n",
       "  <tbody>\n",
       "    <tr>\n",
       "      <th>0</th>\n",
       "      <td>score</td>\n",
       "      <td>[-inf, 513.0)</td>\n",
       "      <td>0.098060</td>\n",
       "      <td>0.095051</td>\n",
       "    </tr>\n",
       "    <tr>\n",
       "      <th>1</th>\n",
       "      <td>score</td>\n",
       "      <td>[513.0, 556.0)</td>\n",
       "      <td>0.100448</td>\n",
       "      <td>0.104040</td>\n",
       "    </tr>\n",
       "    <tr>\n",
       "      <th>2</th>\n",
       "      <td>score</td>\n",
       "      <td>[556.0, 585.0)</td>\n",
       "      <td>0.098507</td>\n",
       "      <td>0.105758</td>\n",
       "    </tr>\n",
       "    <tr>\n",
       "      <th>3</th>\n",
       "      <td>score</td>\n",
       "      <td>[585.0, 610.0)</td>\n",
       "      <td>0.098657</td>\n",
       "      <td>0.095455</td>\n",
       "    </tr>\n",
       "    <tr>\n",
       "      <th>4</th>\n",
       "      <td>score</td>\n",
       "      <td>[610.0, 633.0)</td>\n",
       "      <td>0.103184</td>\n",
       "      <td>0.104040</td>\n",
       "    </tr>\n",
       "    <tr>\n",
       "      <th>5</th>\n",
       "      <td>score</td>\n",
       "      <td>[633.0, 654.0)</td>\n",
       "      <td>0.097015</td>\n",
       "      <td>0.094242</td>\n",
       "    </tr>\n",
       "    <tr>\n",
       "      <th>6</th>\n",
       "      <td>score</td>\n",
       "      <td>[654.0, 678.0)</td>\n",
       "      <td>0.103383</td>\n",
       "      <td>0.105859</td>\n",
       "    </tr>\n",
       "    <tr>\n",
       "      <th>7</th>\n",
       "      <td>score</td>\n",
       "      <td>[678.0, 704.0)</td>\n",
       "      <td>0.100149</td>\n",
       "      <td>0.103838</td>\n",
       "    </tr>\n",
       "    <tr>\n",
       "      <th>8</th>\n",
       "      <td>score</td>\n",
       "      <td>[704.0, 738.0)</td>\n",
       "      <td>0.097960</td>\n",
       "      <td>0.093535</td>\n",
       "    </tr>\n",
       "    <tr>\n",
       "      <th>9</th>\n",
       "      <td>score</td>\n",
       "      <td>[738.0, inf)</td>\n",
       "      <td>0.102637</td>\n",
       "      <td>0.098182</td>\n",
       "    </tr>\n",
       "    <tr>\n",
       "      <th>10</th>\n",
       "      <td>score</td>\n",
       "      <td>missing</td>\n",
       "      <td>0.000000</td>\n",
       "      <td>0.000000</td>\n",
       "    </tr>\n",
       "    <tr>\n",
       "      <th>11</th>\n",
       "      <td>score</td>\n",
       "      <td>psi</td>\n",
       "      <td>0.000000</td>\n",
       "      <td>0.001522</td>\n",
       "    </tr>\n",
       "    <tr>\n",
       "      <th>12</th>\n",
       "      <td>score</td>\n",
       "      <td>special</td>\n",
       "      <td>0.000000</td>\n",
       "      <td>0.000000</td>\n",
       "    </tr>\n",
       "  </tbody>\n",
       "</table>\n",
       "</div>"
      ],
      "text/plain": [
       "   variable             bin       train        test\n",
       "                            count_distr count_distr\n",
       "0     score   [-inf, 513.0)    0.098060    0.095051\n",
       "1     score  [513.0, 556.0)    0.100448    0.104040\n",
       "2     score  [556.0, 585.0)    0.098507    0.105758\n",
       "3     score  [585.0, 610.0)    0.098657    0.095455\n",
       "4     score  [610.0, 633.0)    0.103184    0.104040\n",
       "5     score  [633.0, 654.0)    0.097015    0.094242\n",
       "6     score  [654.0, 678.0)    0.103383    0.105859\n",
       "7     score  [678.0, 704.0)    0.100149    0.103838\n",
       "8     score  [704.0, 738.0)    0.097960    0.093535\n",
       "9     score    [738.0, inf)    0.102637    0.098182\n",
       "10    score         missing    0.000000    0.000000\n",
       "11    score             psi    0.000000    0.001522\n",
       "12    score         special    0.000000    0.000000"
      ]
     },
     "execution_count": 49,
     "metadata": {},
     "output_type": "execute_result"
    }
   ],
   "source": [
    "scoreperf.report_dict['report_psi']"
   ]
  },
  {
   "cell_type": "markdown",
   "metadata": {},
   "source": [
    "+ 评分表现(绘图)"
   ]
  },
  {
   "cell_type": "markdown",
   "metadata": {},
   "source": [
    "bm.varGroupsPlot提供了组特征分析报告的绘图，在此可以绘制评分表现的图"
   ]
  },
  {
   "cell_type": "code",
   "execution_count": 50,
   "metadata": {},
   "outputs": [
    {
     "data": {
      "image/png": "[encoded data removed]",
      "text/plain": [
       "<Figure size 1500x600 with 3 Axes>"
      ]
     },
     "execution_count": 50,
     "metadata": {},
     "output_type": "execute_result"
    }
   ],
   "source": [
    "figs=bm.varGroupsPlot(breaks_list=bm.binFreq(X_train_score[['score']],y_train,bin_num_limit=5)[0],#10箱字太小,设定为5箱\n",
    "                  column='split',\n",
    "                  target='TARGET',\n",
    "                  sort_column=['train','test'],\n",
    "                  n_jobs=1\n",
    "                 ).plot(X_score,figure_size=(15,6))\n",
    "figs['score']"
   ]
  }
 ],
 "metadata": {
  "kernelspec": {
   "display_name": "Python 3 (ipykernel)",
   "language": "python",
   "name": "python3"
  },
  "language_info": {
   "codemirror_mode": {
    "name": "ipython",
    "version": 3
   },
   "file_extension": ".py",
   "mimetype": "text/x-python",
   "name": "python",
   "nbconvert_exporter": "python",
   "pygments_lexer": "ipython3",
   "version": "3.9.7"
  },
  "toc": {
   "base_numbering": 1,
   "nav_menu": {},
   "number_sections": true,
   "sideBar": true,
   "skip_h1_title": false,
   "title_cell": "Table of Contents",
   "title_sidebar": "Contents",
   "toc_cell": false,
   "toc_position": {
    "height": "calc(100% - 180px)",
    "left": "10px",
    "top": "150px",
    "width": "165px"
   },
   "toc_section_display": true,
   "toc_window_display": true
  }
 },
 "nbformat": 4,
 "nbformat_minor": 2
}
