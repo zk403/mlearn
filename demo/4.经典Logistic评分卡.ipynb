{
 "cells": [
  {
   "cell_type": "markdown",
   "metadata": {},
   "source": [
    "# BDMLtools制作经典回归评分卡  <font size=3 >by 曾珂</font>"
   ]
  },
  {
   "cell_type": "code",
   "execution_count": 1,
   "metadata": {},
   "outputs": [],
   "source": [
    "import pandas as pd\n",
    "import numpy as np\n",
    "import BDMLtools as bm"
   ]
  },
  {
   "cell_type": "code",
   "execution_count": 2,
   "metadata": {},
   "outputs": [
    {
     "name": "stdout",
     "output_type": "stream",
     "text": [
      "1.3.3\n",
      "1.20.3\n",
      "0.2.2\n"
     ]
    }
   ],
   "source": [
    "print(pd.__version__)\n",
    "print(np.__version__)\n",
    "print(bm.__version__)"
   ]
  },
  {
   "cell_type": "markdown",
   "metadata": {},
   "source": [
    "## 1 数据说明"
   ]
  },
  {
   "cell_type": "markdown",
   "metadata": {},
   "source": [
    "+ 此数据为外国某消费金融公司的某个人消费类贷款产品数据,客群大多拥有信用记录,要求在贷款准入节点构建评分卡评估客群信用风险,为贷中审批,授信定价提供参考。\n",
    "\n",
    "+ 原始数据包括客户的申请信息,外部数据,征信信息,历史申请信息(若有),历史贷款表现(若有)五类信息,分散于不同的表中,这里已经进行了特征构建与宽表构建\n",
    "\n",
    "+ 原始数据共20万样本,5000多个特征,这里为简化选择原数据中的122个特征与随机3万的样本演示\n",
    "\n",
    "+ 特征含义见下:\n",
    "\n",
    "\n",
    "```\n",
    "1.申请及外部数据字段\n",
    " ID':订单编号\n",
    " TARGET:目标变量\n",
    " GENDER':性别(F,M)\n",
    " Age:年龄\n",
    " FLAG_OWN_CAR:是否有车\n",
    " OWN_CAR_AGE:拥有车时长\n",
    " HOUSING_TYPE:住房类型\n",
    " FLAG_OWN_REALTY:是否有房产\n",
    " NUM_CHILDREN':子女个数\n",
    " EDULEVEL:教育水平\n",
    " MARRIAGE':婚姻状况\n",
    " DAYS_EMPLOYED:工作时长天\n",
    " DAYS_LAST_PHONE_CHANGE':以往申请记录中联系方式变更距今时长天\n",
    " DAYS_ID_PUBLISH:以往申请记录中变更申请的身份材料时长天\n",
    " CITY_RATING:居住城市综合水平评级\n",
    " score1:外部信用评分1\n",
    " score2:外部信用评分2\n",
    " score3:外部信用评分3\n",
    "2.征信记录\n",
    " Bureau_Var102:近18月最大授信金额_在贷\n",
    " Bureau_Var1033:最大授信使用率_所有\n",
    " Bureau_Var1036:近24月最大授信使用率_所有\n",
    " Bureau_Var1044:近24月平均授信使用率_所有\n",
    " Bureau_Var1048:近24月平均授信使用率_在贷\n",
    " Bureau_Var1060:近24月平均授信使用率_所有_信用卡\n",
    " Bureau_Var1061:平均授信使用率_在贷_信用卡\n",
    " Bureau_Var1068:近24月最大授信使用率_所有_贷款\n",
    " Bureau_Var1069:最大授信使用率_在贷_贷款\n",
    " Bureau_Var1072:近24月最大授信使用率_在贷_贷款\n",
    " Bureau_Var1075:近12月平均授信使用率_所有_贷款\n",
    " Bureau_Var1089:平均授信使用率_所有_消费金融\n",
    " Bureau_Var109:近15月平均授信金额_所有\n",
    " Bureau_Var1096:近24月平均授信使用率_在贷_消费金融\n",
    " Bureau_Var1098:180天以内贷款笔数_所有\n",
    " Bureau_Var112:平均授信金额_所有\n",
    " Bureau_Var1120:征信到期日前360天贷款笔数_在贷_贷款\n",
    " Bureau_Var1123:征信到期日前270天贷款笔数_所有_消费金融\n",
    " Bureau_Var1129:已结清征信90天贷款笔数_所有\n",
    " Bureau_Var1132:已结清征信360天贷款笔数_所有\n",
    " Bureau_Var1149:已结清征信90天贷款笔数_在贷_贷款\n",
    " Bureau_Var1152:已结清征信360天贷款笔数_在贷_贷款\n",
    " Bureau_Var1153:已结清征信90天贷款笔数_所有_消费金融\n",
    " Bureau_Var1157:已结清征信90天贷款笔数_在贷_消费金融\n",
    " Bureau_Var1159:已结清征信270天贷款笔数_在贷_消费金融\n",
    " Bureau_Var116:近1年平均授信金额_在贷\n",
    " Bureau_Var1160:已结清征信360天贷款笔数_在贷_消费金融\n",
    " Bureau_Var117:近15月平均授信金额_在贷\n",
    " Bureau_Var120:平均授信金额_在贷\n",
    " Bureau_Var124:近1年授信金额标准差_所有\n",
    " Bureau_Var128:授信金额标准差_所有\n",
    " Bureau_Var136:平均授信金额标准差_在贷\n",
    " Bureau_Var140:近1年最大负债_所有\n",
    " Bureau_Var141:近15月最大负债_所有\n",
    " Bureau_Var142:近18月最大负债_所有\n",
    " Bureau_Var150:近18月最大负债_在贷\n",
    " Bureau_Var156:近1年总负债_所有\n",
    " Bureau_Var159:近2年总负债_所有\n",
    " Bureau_Var19:近6月客户贷款数_在贷\n",
    " Bureau_Var21:近15月客户贷款数_在贷\n",
    " Bureau_Var22:近18月客户贷款数_在贷\n",
    " Bureau_Var24:客户贷款数_在贷\n",
    " Bureau_Var248:最大历史逾期金额_所有_信用卡\n",
    " Bureau_Var272:贷款平均最大历史逾期金额_在贷_信用卡\n",
    " Bureau_Var304:最大授信金额_在贷_信用卡\n",
    " Bureau_Var311:近2年平均授信金额_所有_信用卡\n",
    " Bureau_Var312:平均授信金额_所有_信用卡\n",
    " Bureau_Var317:近15月平均授信金额_在贷_信用卡\n",
    " Bureau_Var320:平均授信金额_在贷_信用卡\n",
    " Bureau_Var328:授信金额标准差_所有_信用卡\n",
    " Bureau_Var342:近18月最大负债_所有_信用卡\n",
    " Bureau_Var343:近2年最大负债_所有_信用卡\n",
    " Bureau_Var359:近2年总负债_所有_信用卡\n",
    " Bureau_Var368:总负债_在贷_信用卡\n",
    " Bureau_Var416:客户贷款数_结清_贷款\n",
    " Bureau_Var448:最大历史逾期金额_所有_贷款\n",
    " Bureau_Var48:最大历史逾期金额_所有\n",
    " Bureau_Var492:近1年最大授信金额_所有_贷款\n",
    " Bureau_Var494:近18月最大授信金额_所有_贷款\n",
    " Bureau_Var496:最大授信金额_所有_贷款\n",
    " Bureau_Var499:近6月最大授信金额_在贷_贷款\n",
    " Bureau_Var5:近15月客户贷款数_所有\n",
    " Bureau_Var507:近6月平均授信金额_所有_贷款\n",
    " Bureau_Var515:近6月平均授信金额_在贷_贷款\n",
    " Bureau_Var516:近1年平均授信金额_在贷_贷款\n",
    " Bureau_Var526:近18月授信金额标准差_所有_贷款\n",
    " Bureau_Var536:平均授信金额标准差_在贷_贷款\n",
    " Bureau_Var558:近18月总负债_所有_贷款\n",
    " Bureau_Var56:贷款平均最大历史逾期金额_所有\n",
    " Bureau_Var560:总负债_所有_贷款\n",
    " Bureau_Var568:总负债_在贷_贷款\n",
    " Bureau_Var616:客户贷款数_结清_消费金融\n",
    " Bureau_Var664:最大历史逾期金额_在贷_消费金融\n",
    " Bureau_Var680:贷款展期总次数_在贷_消费金融\n",
    " Bureau_Var688:贷款展期总次数_所有_消费金融\n",
    " Bureau_Var694:近18月最大授信金额_所有_消费金融\n",
    " Bureau_Var700:近1年最大授信金额_在贷_消费金融\n",
    " Bureau_Var701:近15月最大授信金额_在贷_消费金融\n",
    " Bureau_Var704:最大授信金额_在贷_消费金融\n",
    " Bureau_Var707:近6月平均授信金额_所有_消费金融\n",
    " Bureau_Var708:近1年平均授信金额_所有_消费金融\n",
    " Bureau_Var709:近15月平均授信金额_所有_消费金融\n",
    " Bureau_Var716:近1年平均授信金额_在贷_消费金融\n",
    " Bureau_Var751:近2年最大负债_在贷_消费金融\n",
    " Bureau_Var755:近6月总负债_所有_消费金融\n",
    " Bureau_Var765:近15月总负债_在贷_消费金融\n",
    " Bureau_Var806:近15月最大信用卡额度_所有_信用卡\n",
    " Bureau_Var807:近18月最大信用卡额度_所有_信用卡\n",
    " Bureau_Var94:近18月最大授信金额_所有\n",
    " Bureau_Var96:最大授信金额_所有  \n",
    "3.以往的逾期/还款类字段\n",
    " IP_Var24:近24月贷款最大逾期天数\n",
    " IP_Var30:近24月逾期期数占所有期数比例\n",
    " IP_Var31:提前还款期数占所有期数比例\n",
    " IP_Var36:近24月提前还款期数占所有期数比例\n",
    "4.以往的申请记录\n",
    " Previous_Var22:近24月贷款申请次数\n",
    " Previous_Var289:贷款申请平均金额_通过_CashLoan\n",
    " Previous_Var49:贷款申请平均金额_通过\n",
    " Previous_Var53:近12月贷款申请平均金额_通过\n",
    " Previous_Var536:近24月贷款申请平均金额_通过_ConsumerLoan\n",
    " Previous_Var545:贷款申请总金额_通过_ConsumerLoan\n",
    " Previous_Var56:近24月贷款申请平均金额_通过\n",
    " Previous_Var63:近18月贷款申请最大金额_通过\n",
    " Previous_Var64:近24月贷款申请最大金额_通过\n",
    "```"
   ]
  },
  {
   "cell_type": "markdown",
   "metadata": {},
   "source": [
    "## 2 数据清洗"
   ]
  },
  {
   "cell_type": "code",
   "execution_count": 3,
   "metadata": {},
   "outputs": [],
   "source": [
    "dat=pd.read_csv('Data/creditdata_small.csv')"
   ]
  },
  {
   "cell_type": "code",
   "execution_count": 4,
   "metadata": {},
   "outputs": [
    {
     "data": {
      "text/html": [
       "<div>\n",
       "<style scoped>\n",
       "    .dataframe tbody tr th:only-of-type {\n",
       "        vertical-align: middle;\n",
       "    }\n",
       "\n",
       "    .dataframe tbody tr th {\n",
       "        vertical-align: top;\n",
       "    }\n",
       "\n",
       "    .dataframe thead th {\n",
       "        text-align: right;\n",
       "    }\n",
       "</style>\n",
       "<table border=\"1\" class=\"dataframe\">\n",
       "  <thead>\n",
       "    <tr style=\"text-align: right;\">\n",
       "      <th></th>\n",
       "      <th>ID</th>\n",
       "      <th>Bureau_Var704</th>\n",
       "      <th>Bureau_Var96</th>\n",
       "      <th>Bureau_Var272</th>\n",
       "      <th>Bureau_Var1089</th>\n",
       "      <th>Bureau_Var312</th>\n",
       "      <th>Bureau_Var807</th>\n",
       "      <th>Bureau_Var616</th>\n",
       "      <th>Bureau_Var1048</th>\n",
       "      <th>Bureau_Var751</th>\n",
       "      <th>...</th>\n",
       "      <th>Bureau_Var5</th>\n",
       "      <th>Bureau_Var1033</th>\n",
       "      <th>Score2</th>\n",
       "      <th>Score3</th>\n",
       "      <th>GENDER</th>\n",
       "      <th>FLAG_OWN_CAR</th>\n",
       "      <th>HOUSING_TYPE</th>\n",
       "      <th>FLAG_OWN_REALTY</th>\n",
       "      <th>EDULEVEL</th>\n",
       "      <th>MARRIAGE</th>\n",
       "    </tr>\n",
       "  </thead>\n",
       "  <tbody>\n",
       "    <tr>\n",
       "      <th>0</th>\n",
       "      <td>207650</td>\n",
       "      <td>1256400.0</td>\n",
       "      <td>1256400.0</td>\n",
       "      <td>NaN</td>\n",
       "      <td>0.826</td>\n",
       "      <td>NaN</td>\n",
       "      <td>NaN</td>\n",
       "      <td>NaN</td>\n",
       "      <td>0.826</td>\n",
       "      <td>1037164.5</td>\n",
       "      <td>...</td>\n",
       "      <td>1.0</td>\n",
       "      <td>0.826</td>\n",
       "      <td>0.763</td>\n",
       "      <td>0.328</td>\n",
       "      <td>F</td>\n",
       "      <td>N</td>\n",
       "      <td>House / apartment</td>\n",
       "      <td>Y</td>\n",
       "      <td>Higher education</td>\n",
       "      <td>Married</td>\n",
       "    </tr>\n",
       "    <tr>\n",
       "      <th>1</th>\n",
       "      <td>275128</td>\n",
       "      <td>661500.0</td>\n",
       "      <td>661500.0</td>\n",
       "      <td>NaN</td>\n",
       "      <td>0.377</td>\n",
       "      <td>291000.0</td>\n",
       "      <td>NaN</td>\n",
       "      <td>3.0</td>\n",
       "      <td>0.878</td>\n",
       "      <td>580963.5</td>\n",
       "      <td>...</td>\n",
       "      <td>1.0</td>\n",
       "      <td>1.005</td>\n",
       "      <td>0.042</td>\n",
       "      <td>0.578</td>\n",
       "      <td>M</td>\n",
       "      <td>N</td>\n",
       "      <td>House / apartment</td>\n",
       "      <td>Y</td>\n",
       "      <td>Higher education</td>\n",
       "      <td>Married</td>\n",
       "    </tr>\n",
       "    <tr>\n",
       "      <th>2</th>\n",
       "      <td>322610</td>\n",
       "      <td>NaN</td>\n",
       "      <td>0.0</td>\n",
       "      <td>0.0</td>\n",
       "      <td>NaN</td>\n",
       "      <td>0.0</td>\n",
       "      <td>NaN</td>\n",
       "      <td>NaN</td>\n",
       "      <td>NaN</td>\n",
       "      <td>NaN</td>\n",
       "      <td>...</td>\n",
       "      <td>NaN</td>\n",
       "      <td>NaN</td>\n",
       "      <td>0.261</td>\n",
       "      <td>NaN</td>\n",
       "      <td>F</td>\n",
       "      <td>N</td>\n",
       "      <td>House / apartment</td>\n",
       "      <td>Y</td>\n",
       "      <td>Secondary / secondary special</td>\n",
       "      <td>Separated</td>\n",
       "    </tr>\n",
       "    <tr>\n",
       "      <th>3</th>\n",
       "      <td>356778</td>\n",
       "      <td>NaN</td>\n",
       "      <td>112500.0</td>\n",
       "      <td>0.0</td>\n",
       "      <td>0.000</td>\n",
       "      <td>112500.0</td>\n",
       "      <td>1022.085</td>\n",
       "      <td>1.0</td>\n",
       "      <td>0.991</td>\n",
       "      <td>NaN</td>\n",
       "      <td>...</td>\n",
       "      <td>1.0</td>\n",
       "      <td>0.991</td>\n",
       "      <td>0.068</td>\n",
       "      <td>0.524</td>\n",
       "      <td>F</td>\n",
       "      <td>N</td>\n",
       "      <td>House / apartment</td>\n",
       "      <td>Y</td>\n",
       "      <td>Secondary / secondary special</td>\n",
       "      <td>Married</td>\n",
       "    </tr>\n",
       "    <tr>\n",
       "      <th>4</th>\n",
       "      <td>222035</td>\n",
       "      <td>NaN</td>\n",
       "      <td>7650000.0</td>\n",
       "      <td>NaN</td>\n",
       "      <td>0.000</td>\n",
       "      <td>NaN</td>\n",
       "      <td>NaN</td>\n",
       "      <td>1.0</td>\n",
       "      <td>NaN</td>\n",
       "      <td>NaN</td>\n",
       "      <td>...</td>\n",
       "      <td>NaN</td>\n",
       "      <td>0.974</td>\n",
       "      <td>0.464</td>\n",
       "      <td>0.796</td>\n",
       "      <td>M</td>\n",
       "      <td>Y</td>\n",
       "      <td>House / apartment</td>\n",
       "      <td>Y</td>\n",
       "      <td>Higher education</td>\n",
       "      <td>Single / not married</td>\n",
       "    </tr>\n",
       "  </tbody>\n",
       "</table>\n",
       "<p>5 rows × 121 columns</p>\n",
       "</div>"
      ],
      "text/plain": [
       "       ID  Bureau_Var704  Bureau_Var96  Bureau_Var272  Bureau_Var1089  \\\n",
       "0  207650      1256400.0     1256400.0            NaN           0.826   \n",
       "1  275128       661500.0      661500.0            NaN           0.377   \n",
       "2  322610            NaN           0.0            0.0             NaN   \n",
       "3  356778            NaN      112500.0            0.0           0.000   \n",
       "4  222035            NaN     7650000.0            NaN           0.000   \n",
       "\n",
       "   Bureau_Var312  Bureau_Var807  Bureau_Var616  Bureau_Var1048  Bureau_Var751  \\\n",
       "0            NaN            NaN            NaN           0.826      1037164.5   \n",
       "1       291000.0            NaN            3.0           0.878       580963.5   \n",
       "2            0.0            NaN            NaN             NaN            NaN   \n",
       "3       112500.0       1022.085            1.0           0.991            NaN   \n",
       "4            NaN            NaN            1.0             NaN            NaN   \n",
       "\n",
       "   ...  Bureau_Var5  Bureau_Var1033  Score2  Score3  GENDER  FLAG_OWN_CAR  \\\n",
       "0  ...          1.0           0.826   0.763   0.328       F             N   \n",
       "1  ...          1.0           1.005   0.042   0.578       M             N   \n",
       "2  ...          NaN             NaN   0.261     NaN       F             N   \n",
       "3  ...          1.0           0.991   0.068   0.524       F             N   \n",
       "4  ...          NaN           0.974   0.464   0.796       M             Y   \n",
       "\n",
       "        HOUSING_TYPE  FLAG_OWN_REALTY                       EDULEVEL  \\\n",
       "0  House / apartment                Y               Higher education   \n",
       "1  House / apartment                Y               Higher education   \n",
       "2  House / apartment                Y  Secondary / secondary special   \n",
       "3  House / apartment                Y  Secondary / secondary special   \n",
       "4  House / apartment                Y               Higher education   \n",
       "\n",
       "               MARRIAGE  \n",
       "0               Married  \n",
       "1               Married  \n",
       "2             Separated  \n",
       "3               Married  \n",
       "4  Single / not married  \n",
       "\n",
       "[5 rows x 121 columns]"
      ]
     },
     "execution_count": 4,
     "metadata": {},
     "output_type": "execute_result"
    }
   ],
   "source": [
    "dat.head()"
   ]
  },
  {
   "cell_type": "markdown",
   "metadata": {},
   "source": [
    "### 2.1 实体一致性"
   ]
  },
  {
   "cell_type": "markdown",
   "metadata": {},
   "source": [
    "bm.dtStandardization模块主要用于检查并消除原始数据的实体重复问题:\n",
    "    \n",
    "+ 数据的row_index重复:即标识行的索引有重复\n",
    "\n",
    "    + 通过参数drop_dup=True可对行去重并保留第一个index出现的行\n",
    "\n",
    "    + 一般默认情况下pandas.DataFrame的自建索引不会出现重复，而当某些情况需要设定一个index列去标识行，此时可以通过参数id_col进行指定，此时若drop_dup=True时，bm.dtStandardization将根据这个id_col进行去重，若set_index=True则该列将被设定为行索引\n",
    "    \n",
    "+ 数据的col_index重复:即标识列的索引有重复(列名)\n",
    "\n",
    "    + 此时通过参数drop_dup=True可进行行去重并保留第一个index出现的列\n",
    "    \n",
    "    + 一般数据的列名不会重复，但在一些情况下会产生重复的列名，例如使用pandas.concat,pandas.DataFrame.rename，或者从数据库取数时对join多表的公共字段没有进行重命名。重复的列名会导致后续进行处理时产生不可预知的错误，可设定drop_dup=True进行去重\n",
    "    \n",
    "+ bm.dtStandardization假定行或列标识重复时相应行或列的数据也是重复的,若行列标示下存在相同标示但数据不同的情况时请慎用drop_dup功能"
   ]
  },
  {
   "cell_type": "code",
   "execution_count": 5,
   "metadata": {},
   "outputs": [],
   "source": [
    "dat=bm.dtStandardization(id_col=['ID'],drop_dup=True).transform(dat)"
   ]
  },
  {
   "cell_type": "code",
   "execution_count": 6,
   "metadata": {},
   "outputs": [
    {
     "name": "stdout",
     "output_type": "stream",
     "text": [
      "数据dat行是否唯一:True \n",
      "数据dat列是否唯一:True\n"
     ]
    }
   ],
   "source": [
    "print(\"数据dat行是否唯一:{} \\n数据dat列是否唯一:{}\".format(dat.index.is_unique,dat.columns.is_unique))"
   ]
  },
  {
   "cell_type": "markdown",
   "metadata": {},
   "source": [
    "### 2.2 列类型分配"
   ]
  },
  {
   "cell_type": "markdown",
   "metadata": {},
   "source": [
    "python的pandas数据框的列类型是基于numpy的dtype并进行了更多的拓展与封装，在进行分析任务前，应确保数据的列的类型不能出现问题。\n",
    "\n",
    "这里将适合进行数据分析的列类型分为**三大类**:\n",
    "  \n",
    "+ **数值型**:pandas类型为float,int,bool,timedelta,category(ordered)等列,经过直接转换可进行数值计算(转换为int或float)\n",
    "+ **分类型**:pandas类型为string,object,category(unordered)等列,不能直接进行数值计算\n",
    "+ **日期型**:pandas类型为datetime,datetimetz等列,经过间接的特征变换可进行数值计算,例如时间差\n",
    "    \n",
    "这里需说明category(ordered)为有序分类特征,为方便计算归类为数值型\n",
    "\n",
    "bm.dtypeAllocator模块主要用于对不同的列类型进行分配并转换为上述三大类型\n",
    "\n",
    "+ **dtypes_dict={'int':colname_list,'float':colname_list,'str':colname_list,'date':colname_list,'tdiff':colname_list}**用于指定列类型\n",
    "\n",
    "    + dtypes_dict['float']中的所有列将转换为float类型,dtypes_dict['int']中的所有列将转换为int类型,\n",
    "    + dtypes_dict['str']中的所有列将转换为object类型,\n",
    "    + dtypes_dict['date']列将转换为datetime类型,dtypes_dict['tdiff']列将转换为float类型，参数t_unit控制时间差单位       \n",
    "    + colname_list是列名列表,可以为[],代表无此类特征,注意各个类的列名列表不能出现交集与重复,否则将报错终止\n",
    "    \n",
    "+ **dtypes_dict={}**时将自动处理输入数据并最终转换为object、number(int,float)、date三种类型\n",
    "    + number类型:\n",
    "        数值类型数据(float,int,bool)将被全部转换为float类型数据\n",
    "        有序分类类型数据(category-ordered)将顺序被全部转换为float类型数据,其与原始数据的对应关系将被保存在self.order_info中\n",
    "        时间差类型数据(timedelta)将被转换为float,时间单位通过参数t_unit进行指定,且作用于全部的timedelta类型  \n",
    "    + object类型:\n",
    "        无序分类类型数据(category-unordered)将被全部转换为object类型数据\n",
    "        字符类型数据(str)将被全部转换为object类型数据\n",
    "    + 日期类型:\n",
    "        时间类型数据(datetime,datetimetz)将保持默认,可通过参数选择是否剔除掉日期型数据   \n",
    "        \n",
    "其他详情请见bm.dtypeAllocator帮助文档"
   ]
  },
  {
   "cell_type": "code",
   "execution_count": 7,
   "metadata": {},
   "outputs": [],
   "source": [
    "dat=bm.dtypeAllocator(dtypes_dict={}).transform(dat)"
   ]
  },
  {
   "cell_type": "markdown",
   "metadata": {},
   "source": [
    "### 2.3 数据质量报告"
   ]
  },
  {
   "cell_type": "markdown",
   "metadata": {},
   "source": [
    "bm.EDAReport用于产生连续特征与分类特征的数据质量报告,可用于探查数据的分布、异常情况、错误情况\n",
    "+ 参数categorical_col用于指定哪些列是连续数据,最终仅会产生这些列的数据质量报告,为None将自动寻找数据中的object类型列\n",
    "+ 参数numeric_col用于指定哪些列是连续数据,最终仅会计算这些列的数据质量报告,为None将自动寻找数据中的numeric类型列\n",
    "+ 参数out_path可以指定目录将数据质量报告输出为excel,为None时表示不输出"
   ]
  },
  {
   "cell_type": "code",
   "execution_count": 8,
   "metadata": {},
   "outputs": [],
   "source": [
    "eda=bm.EDAReport(categorical_col=None,\n",
    "                 numeric_col=None,\n",
    "                 out_path=None).fit(dat)"
   ]
  },
  {
   "cell_type": "markdown",
   "metadata": {},
   "source": [
    "#### 2.3.1 数值报告"
   ]
  },
  {
   "cell_type": "code",
   "execution_count": 9,
   "metadata": {},
   "outputs": [
    {
     "data": {
      "text/html": [
       "<div>\n",
       "<style scoped>\n",
       "    .dataframe tbody tr th:only-of-type {\n",
       "        vertical-align: middle;\n",
       "    }\n",
       "\n",
       "    .dataframe tbody tr th {\n",
       "        vertical-align: top;\n",
       "    }\n",
       "\n",
       "    .dataframe thead th {\n",
       "        text-align: right;\n",
       "    }\n",
       "</style>\n",
       "<table border=\"1\" class=\"dataframe\">\n",
       "  <thead>\n",
       "    <tr style=\"text-align: right;\">\n",
       "      <th></th>\n",
       "      <th>VarName</th>\n",
       "      <th>count</th>\n",
       "      <th>mean</th>\n",
       "      <th>std</th>\n",
       "      <th>min</th>\n",
       "      <th>10%</th>\n",
       "      <th>20%</th>\n",
       "      <th>30%</th>\n",
       "      <th>40%</th>\n",
       "      <th>50%</th>\n",
       "      <th>60%</th>\n",
       "      <th>70%</th>\n",
       "      <th>80%</th>\n",
       "      <th>90%</th>\n",
       "      <th>max</th>\n",
       "      <th>MissingRate</th>\n",
       "    </tr>\n",
       "  </thead>\n",
       "  <tbody>\n",
       "    <tr>\n",
       "      <th>0</th>\n",
       "      <td>Bureau_Var704</td>\n",
       "      <td>15831.0</td>\n",
       "      <td>737497.369858</td>\n",
       "      <td>9.002800e+05</td>\n",
       "      <td>0.0</td>\n",
       "      <td>82633.5</td>\n",
       "      <td>142995.015</td>\n",
       "      <td>225000.0</td>\n",
       "      <td>333193.5</td>\n",
       "      <td>465120.000</td>\n",
       "      <td>657000.000</td>\n",
       "      <td>877500.000</td>\n",
       "      <td>1128150.000</td>\n",
       "      <td>1.660500e+06</td>\n",
       "      <td>1.814400e+07</td>\n",
       "      <td>0.472300</td>\n",
       "    </tr>\n",
       "    <tr>\n",
       "      <th>1</th>\n",
       "      <td>Bureau_Var96</td>\n",
       "      <td>25705.0</td>\n",
       "      <td>959450.711966</td>\n",
       "      <td>1.669671e+06</td>\n",
       "      <td>0.0</td>\n",
       "      <td>84507.3</td>\n",
       "      <td>140028.696</td>\n",
       "      <td>225000.0</td>\n",
       "      <td>310500.0</td>\n",
       "      <td>450000.000</td>\n",
       "      <td>621000.000</td>\n",
       "      <td>900000.000</td>\n",
       "      <td>1350000.000</td>\n",
       "      <td>2.241900e+06</td>\n",
       "      <td>3.658950e+07</td>\n",
       "      <td>0.143167</td>\n",
       "    </tr>\n",
       "    <tr>\n",
       "      <th>2</th>\n",
       "      <td>Bureau_Var272</td>\n",
       "      <td>6435.0</td>\n",
       "      <td>1587.828753</td>\n",
       "      <td>6.059856e+03</td>\n",
       "      <td>0.0</td>\n",
       "      <td>0.0</td>\n",
       "      <td>0.000</td>\n",
       "      <td>0.0</td>\n",
       "      <td>0.0</td>\n",
       "      <td>0.000</td>\n",
       "      <td>0.000</td>\n",
       "      <td>0.000</td>\n",
       "      <td>468.744</td>\n",
       "      <td>4.849812e+03</td>\n",
       "      <td>2.157705e+05</td>\n",
       "      <td>0.785500</td>\n",
       "    </tr>\n",
       "    <tr>\n",
       "      <th>3</th>\n",
       "      <td>Bureau_Var1089</td>\n",
       "      <td>23077.0</td>\n",
       "      <td>0.188931</td>\n",
       "      <td>2.425433e-01</td>\n",
       "      <td>0.0</td>\n",
       "      <td>0.0</td>\n",
       "      <td>0.000</td>\n",
       "      <td>0.0</td>\n",
       "      <td>0.0</td>\n",
       "      <td>0.108</td>\n",
       "      <td>0.174</td>\n",
       "      <td>0.246</td>\n",
       "      <td>0.340</td>\n",
       "      <td>5.040000e-01</td>\n",
       "      <td>1.662000e+00</td>\n",
       "      <td>0.230767</td>\n",
       "    </tr>\n",
       "    <tr>\n",
       "      <th>4</th>\n",
       "      <td>Bureau_Var312</td>\n",
       "      <td>16801.0</td>\n",
       "      <td>172653.201508</td>\n",
       "      <td>1.667097e+05</td>\n",
       "      <td>0.0</td>\n",
       "      <td>22500.0</td>\n",
       "      <td>56675.250</td>\n",
       "      <td>84375.0</td>\n",
       "      <td>108000.0</td>\n",
       "      <td>135000.000</td>\n",
       "      <td>166500.000</td>\n",
       "      <td>202500.000</td>\n",
       "      <td>256500.000</td>\n",
       "      <td>3.600000e+05</td>\n",
       "      <td>3.825000e+06</td>\n",
       "      <td>0.439967</td>\n",
       "    </tr>\n",
       "  </tbody>\n",
       "</table>\n",
       "</div>"
      ],
      "text/plain": [
       "          VarName    count           mean           std  min      10%  \\\n",
       "0   Bureau_Var704  15831.0  737497.369858  9.002800e+05  0.0  82633.5   \n",
       "1    Bureau_Var96  25705.0  959450.711966  1.669671e+06  0.0  84507.3   \n",
       "2   Bureau_Var272   6435.0    1587.828753  6.059856e+03  0.0      0.0   \n",
       "3  Bureau_Var1089  23077.0       0.188931  2.425433e-01  0.0      0.0   \n",
       "4   Bureau_Var312  16801.0  172653.201508  1.667097e+05  0.0  22500.0   \n",
       "\n",
       "          20%       30%       40%         50%         60%         70%  \\\n",
       "0  142995.015  225000.0  333193.5  465120.000  657000.000  877500.000   \n",
       "1  140028.696  225000.0  310500.0  450000.000  621000.000  900000.000   \n",
       "2       0.000       0.0       0.0       0.000       0.000       0.000   \n",
       "3       0.000       0.0       0.0       0.108       0.174       0.246   \n",
       "4   56675.250   84375.0  108000.0  135000.000  166500.000  202500.000   \n",
       "\n",
       "           80%           90%           max  MissingRate  \n",
       "0  1128150.000  1.660500e+06  1.814400e+07     0.472300  \n",
       "1  1350000.000  2.241900e+06  3.658950e+07     0.143167  \n",
       "2      468.744  4.849812e+03  2.157705e+05     0.785500  \n",
       "3        0.340  5.040000e-01  1.662000e+00     0.230767  \n",
       "4   256500.000  3.600000e+05  3.825000e+06     0.439967  "
      ]
     },
     "execution_count": 9,
     "metadata": {},
     "output_type": "execute_result"
    }
   ],
   "source": [
    "eda.num_report.head() #数值特征报告，展示非空计数、均值、标准差、分位数、缺失率"
   ]
  },
  {
   "cell_type": "markdown",
   "metadata": {},
   "source": [
    "#### 2.3.1 分类报告"
   ]
  },
  {
   "cell_type": "code",
   "execution_count": 10,
   "metadata": {},
   "outputs": [
    {
     "data": {
      "text/html": [
       "<div>\n",
       "<style scoped>\n",
       "    .dataframe tbody tr th:only-of-type {\n",
       "        vertical-align: middle;\n",
       "    }\n",
       "\n",
       "    .dataframe tbody tr th {\n",
       "        vertical-align: top;\n",
       "    }\n",
       "\n",
       "    .dataframe thead th {\n",
       "        text-align: right;\n",
       "    }\n",
       "</style>\n",
       "<table border=\"1\" class=\"dataframe\">\n",
       "  <thead>\n",
       "    <tr style=\"text-align: right;\">\n",
       "      <th></th>\n",
       "      <th>Name</th>\n",
       "      <th>Levels</th>\n",
       "      <th>Freq</th>\n",
       "      <th>Percent</th>\n",
       "      <th>CumFreq</th>\n",
       "      <th>CumPercent</th>\n",
       "    </tr>\n",
       "  </thead>\n",
       "  <tbody>\n",
       "    <tr>\n",
       "      <th>0</th>\n",
       "      <td>GENDER</td>\n",
       "      <td>F</td>\n",
       "      <td>19752</td>\n",
       "      <td>0.658400</td>\n",
       "      <td>19752</td>\n",
       "      <td>0.658400</td>\n",
       "    </tr>\n",
       "    <tr>\n",
       "      <th>1</th>\n",
       "      <td>GENDER</td>\n",
       "      <td>M</td>\n",
       "      <td>10248</td>\n",
       "      <td>0.341600</td>\n",
       "      <td>30000</td>\n",
       "      <td>1.000000</td>\n",
       "    </tr>\n",
       "    <tr>\n",
       "      <th>2</th>\n",
       "      <td>FLAG_OWN_CAR</td>\n",
       "      <td>N</td>\n",
       "      <td>19760</td>\n",
       "      <td>0.658667</td>\n",
       "      <td>19760</td>\n",
       "      <td>0.658667</td>\n",
       "    </tr>\n",
       "    <tr>\n",
       "      <th>3</th>\n",
       "      <td>FLAG_OWN_CAR</td>\n",
       "      <td>Y</td>\n",
       "      <td>10240</td>\n",
       "      <td>0.341333</td>\n",
       "      <td>30000</td>\n",
       "      <td>1.000000</td>\n",
       "    </tr>\n",
       "    <tr>\n",
       "      <th>4</th>\n",
       "      <td>HOUSING_TYPE</td>\n",
       "      <td>Co-op apartment</td>\n",
       "      <td>127</td>\n",
       "      <td>0.004233</td>\n",
       "      <td>127</td>\n",
       "      <td>0.004233</td>\n",
       "    </tr>\n",
       "  </tbody>\n",
       "</table>\n",
       "</div>"
      ],
      "text/plain": [
       "           Name           Levels   Freq   Percent  CumFreq  CumPercent\n",
       "0        GENDER                F  19752  0.658400    19752    0.658400\n",
       "1        GENDER                M  10248  0.341600    30000    1.000000\n",
       "2  FLAG_OWN_CAR                N  19760  0.658667    19760    0.658667\n",
       "3  FLAG_OWN_CAR                Y  10240  0.341333    30000    1.000000\n",
       "4  HOUSING_TYPE  Co-op apartment    127  0.004233      127    0.004233"
      ]
     },
     "execution_count": 10,
     "metadata": {},
     "output_type": "execute_result"
    }
   ],
   "source": [
    "eda.char_report.head() #分类特征报告,展示各个水平的频数与占比、累积频数与累积占比(水平有顺序时才有意义)"
   ]
  },
  {
   "cell_type": "markdown",
   "metadata": {},
   "source": [
    "#### 2.3.1 缺失值报告"
   ]
  },
  {
   "cell_type": "code",
   "execution_count": 11,
   "metadata": {},
   "outputs": [
    {
     "data": {
      "text/html": [
       "<div>\n",
       "<style scoped>\n",
       "    .dataframe tbody tr th:only-of-type {\n",
       "        vertical-align: middle;\n",
       "    }\n",
       "\n",
       "    .dataframe tbody tr th {\n",
       "        vertical-align: top;\n",
       "    }\n",
       "\n",
       "    .dataframe thead th {\n",
       "        text-align: right;\n",
       "    }\n",
       "</style>\n",
       "<table border=\"1\" class=\"dataframe\">\n",
       "  <thead>\n",
       "    <tr style=\"text-align: right;\">\n",
       "      <th></th>\n",
       "      <th>VarName</th>\n",
       "      <th>N</th>\n",
       "      <th>Missings</th>\n",
       "      <th>MissingRate</th>\n",
       "      <th>dtype</th>\n",
       "    </tr>\n",
       "  </thead>\n",
       "  <tbody>\n",
       "    <tr>\n",
       "      <th>0</th>\n",
       "      <td>Bureau_Var1060</td>\n",
       "      <td>30000</td>\n",
       "      <td>21144</td>\n",
       "      <td>0.704800</td>\n",
       "      <td>float64</td>\n",
       "    </tr>\n",
       "    <tr>\n",
       "      <th>1</th>\n",
       "      <td>Bureau_Var328</td>\n",
       "      <td>30000</td>\n",
       "      <td>21616</td>\n",
       "      <td>0.720533</td>\n",
       "      <td>float64</td>\n",
       "    </tr>\n",
       "    <tr>\n",
       "      <th>2</th>\n",
       "      <td>Bureau_Var1159</td>\n",
       "      <td>30000</td>\n",
       "      <td>29953</td>\n",
       "      <td>0.998433</td>\n",
       "      <td>float64</td>\n",
       "    </tr>\n",
       "    <tr>\n",
       "      <th>3</th>\n",
       "      <td>Bureau_Var536</td>\n",
       "      <td>30000</td>\n",
       "      <td>22590</td>\n",
       "      <td>0.753000</td>\n",
       "      <td>float64</td>\n",
       "    </tr>\n",
       "    <tr>\n",
       "      <th>4</th>\n",
       "      <td>Bureau_Var499</td>\n",
       "      <td>30000</td>\n",
       "      <td>23890</td>\n",
       "      <td>0.796333</td>\n",
       "      <td>float64</td>\n",
       "    </tr>\n",
       "  </tbody>\n",
       "</table>\n",
       "</div>"
      ],
      "text/plain": [
       "          VarName      N  Missings  MissingRate    dtype\n",
       "0  Bureau_Var1060  30000     21144     0.704800  float64\n",
       "1   Bureau_Var328  30000     21616     0.720533  float64\n",
       "2  Bureau_Var1159  30000     29953     0.998433  float64\n",
       "3   Bureau_Var536  30000     22590     0.753000  float64\n",
       "4   Bureau_Var499  30000     23890     0.796333  float64"
      ]
     },
     "execution_count": 11,
     "metadata": {},
     "output_type": "execute_result"
    }
   ],
   "source": [
    "eda.na_report.head() #缺失率(全部特征)报告，展示总样本计数、缺失样本计数、缺失率、列类型"
   ]
  },
  {
   "cell_type": "markdown",
   "metadata": {},
   "source": [
    "### 2.4 异常数据处理"
   ]
  },
  {
   "cell_type": "markdown",
   "metadata": {},
   "source": [
    "#### 2.4.1 错误值"
   ]
  },
  {
   "cell_type": "markdown",
   "metadata": {},
   "source": [
    "从数据质量报告中可以看到申请者的工作时长变量中出现了负数,占比在10%-20%之间"
   ]
  },
  {
   "cell_type": "code",
   "execution_count": 12,
   "metadata": {},
   "outputs": [
    {
     "data": {
      "text/html": [
       "<div>\n",
       "<style scoped>\n",
       "    .dataframe tbody tr th:only-of-type {\n",
       "        vertical-align: middle;\n",
       "    }\n",
       "\n",
       "    .dataframe tbody tr th {\n",
       "        vertical-align: top;\n",
       "    }\n",
       "\n",
       "    .dataframe thead th {\n",
       "        text-align: right;\n",
       "    }\n",
       "</style>\n",
       "<table border=\"1\" class=\"dataframe\">\n",
       "  <thead>\n",
       "    <tr style=\"text-align: right;\">\n",
       "      <th></th>\n",
       "      <th>VarName</th>\n",
       "      <th>count</th>\n",
       "      <th>mean</th>\n",
       "      <th>std</th>\n",
       "      <th>min</th>\n",
       "      <th>10%</th>\n",
       "      <th>20%</th>\n",
       "      <th>30%</th>\n",
       "      <th>40%</th>\n",
       "      <th>50%</th>\n",
       "      <th>60%</th>\n",
       "      <th>70%</th>\n",
       "      <th>80%</th>\n",
       "      <th>90%</th>\n",
       "      <th>max</th>\n",
       "      <th>MissingRate</th>\n",
       "    </tr>\n",
       "  </thead>\n",
       "  <tbody>\n",
       "    <tr>\n",
       "      <th>103</th>\n",
       "      <td>DAYS_EMPLOYED</td>\n",
       "      <td>30000.0</td>\n",
       "      <td>-62601.530233</td>\n",
       "      <td>140272.942901</td>\n",
       "      <td>-365243.0</td>\n",
       "      <td>-365243.0</td>\n",
       "      <td>149.0</td>\n",
       "      <td>472.0</td>\n",
       "      <td>840.0</td>\n",
       "      <td>1238.5</td>\n",
       "      <td>1721.4</td>\n",
       "      <td>2395.0</td>\n",
       "      <td>3240.0</td>\n",
       "      <td>4923.1</td>\n",
       "      <td>16836.0</td>\n",
       "      <td>0.0</td>\n",
       "    </tr>\n",
       "  </tbody>\n",
       "</table>\n",
       "</div>"
      ],
      "text/plain": [
       "           VarName    count          mean            std       min       10%  \\\n",
       "103  DAYS_EMPLOYED  30000.0 -62601.530233  140272.942901 -365243.0 -365243.0   \n",
       "\n",
       "       20%    30%    40%     50%     60%     70%     80%     90%      max  \\\n",
       "103  149.0  472.0  840.0  1238.5  1721.4  2395.0  3240.0  4923.1  16836.0   \n",
       "\n",
       "     MissingRate  \n",
       "103          0.0  "
      ]
     },
     "execution_count": 12,
     "metadata": {},
     "output_type": "execute_result"
    }
   ],
   "source": [
    "eda.num_report.query(\"VarName=='DAYS_EMPLOYED'\")"
   ]
  },
  {
   "cell_type": "code",
   "execution_count": 13,
   "metadata": {},
   "outputs": [],
   "source": [
    "dat['DAYS_EMPLOYED']=dat['DAYS_EMPLOYED'].map(lambda x:np.nan if x<0 else x) #错误结果转换为nan"
   ]
  },
  {
   "cell_type": "markdown",
   "metadata": {},
   "source": [
    "其他变量以此类推进行检查与处理"
   ]
  },
  {
   "cell_type": "markdown",
   "metadata": {},
   "source": [
    "#### 2.4.2 缺失值"
   ]
  },
  {
   "cell_type": "markdown",
   "metadata": {},
   "source": [
    "bm.nanTransformer可用于进行数据清洗与缺失值处理:\n",
    "+ 缺失值的识别:\n",
    "    + 缺失值指代被识别为缺失值(参数missing_values用于指代缺失值),详见帮助文档\n",
    "    \n",
    "+ 对连续特征('number dtype'):\n",
    "    + \"constant\":以某个特定值进行填补\n",
    "    + \"mean\" or 'median' or \"most_frequent\":以其中心水平填补(均值、中位数、众数)\n",
    "    + \"knn\":使用算法KNN(sklearn.impute.KNNImputer)进行缺失值填补\n",
    "+ 对分类特征('object dtype'):    \n",
    "    + \"constant\":以某个特定值进行填补\n",
    "    + \"most_frequent\":以其中心水平填补(众数)\n",
    "    \n",
    "+ 当使用constant填补时，使用参数fill_value=(数值列填充值，字符列填充值)定义填充值\n",
    "\n",
    "默认情况将进行constant填补，其中任意列出现[np.nan,np.inf,-np.inf,'nan','','special','missing']情形的值均会被替换为np.nan或'missing'(连续特征、分类特征)\n",
    "\n",
    "+ 参数indicator可以指定是否生成缺失值指示变量，默认False即不生成"
   ]
  },
  {
   "cell_type": "code",
   "execution_count": 14,
   "metadata": {},
   "outputs": [],
   "source": [
    "dat=bm.nanTransformer(method=('constant','constant'),\n",
    "                  missing_values=[np.nan,np.inf,-np.inf,'nan','','special','missing'],\n",
    "                  fill_value=(np.nan,'missing'),\n",
    "                  indicator=False).fit_transform(dat)"
   ]
  },
  {
   "cell_type": "markdown",
   "metadata": {},
   "source": [
    "#### 2.4.3 异常值"
   ]
  },
  {
   "cell_type": "markdown",
   "metadata": {},
   "source": [
    "bm.outliersTransformer将在列维度进行异常值处理,仅对数值类列有效\n",
    "\n",
    "+ 数值数据中IQR=75%分位数-25%分位数:\n",
    "    + 若IQR为0(数据分布非常集中)，异常值被定义为1%分位数与99%分为数区间以外的数据\n",
    "        + <1%分位数的异常值被填补为1%分位数(method='fill')或nan(method='nan')\n",
    "        + \\>99%分位数的异常值被填补为99%分位数(method='fill')或nan(method='nan')\n",
    "    + 若IQR有值，异常值被定义为25%与75%分位数以外的上下三倍IQR以外的数据\n",
    "        + 25%分位数-3倍IQR以下的异常值将被填补为25%分位数-3倍IQR(method='fill')或nan(method='nan')\n",
    "        + 75%分位数+3倍IQR以下的异常值将被填补为75%分位数+3倍IQR(method='fill')或nan(method='nan')\n",
    "        \n",
    "其他功能请见其帮助文档"
   ]
  },
  {
   "cell_type": "code",
   "execution_count": 15,
   "metadata": {},
   "outputs": [],
   "source": [
    "dat=bm.outliersTransformer(method='fill').fit_transform(dat)"
   ]
  },
  {
   "cell_type": "markdown",
   "metadata": {},
   "source": [
    "#### 2.4.4 数据分区"
   ]
  },
  {
   "cell_type": "markdown",
   "metadata": {},
   "source": [
    "本案例只考虑in-sample分区"
   ]
  },
  {
   "cell_type": "code",
   "execution_count": 16,
   "metadata": {},
   "outputs": [],
   "source": [
    "from sklearn.model_selection import train_test_split"
   ]
  },
  {
   "cell_type": "code",
   "execution_count": 17,
   "metadata": {},
   "outputs": [],
   "source": [
    "X_train, X_test, y_train, y_test=train_test_split(dat.drop('TARGET',axis=1),\n",
    "                                                  dat['TARGET'],\n",
    "                                                  test_size=0.33, \n",
    "                                                  random_state=1223,stratify=dat['TARGET'])"
   ]
  },
  {
   "cell_type": "markdown",
   "metadata": {},
   "source": [
    "## 3 预拟合模型"
   ]
  },
  {
   "cell_type": "markdown",
   "metadata": {},
   "source": [
    "bm.prefitModel为预拟合模型，提供了在不进行任何特征筛选的前提下使用全量数据建模以预估模型效果的功能\n",
    "\n",
    "若后续特征筛选过程合理则模型表现不会差距过多，甚至会比预拟合模型好\n",
    "\n",
    "+ 此步骤并非必须\n",
    "+ 默认使用lightgbm作为训练算法\n",
    "+ 更多详请请见帮助文档"
   ]
  },
  {
   "cell_type": "code",
   "execution_count": 18,
   "metadata": {},
   "outputs": [],
   "source": [
    "p_model=bm.prefitModel().fit(X_train,y_train)"
   ]
  },
  {
   "cell_type": "markdown",
   "metadata": {},
   "source": [
    "+ 模型表现"
   ]
  },
  {
   "cell_type": "code",
   "execution_count": 19,
   "metadata": {},
   "outputs": [
    {
     "data": {
      "image/png": "[encoded data removed]",
      "text/plain": [
       "<Figure size 600x603.896 with 1 Axes>"
      ]
     },
     "metadata": {},
     "output_type": "display_data"
    },
    {
     "data": {
      "image/png": "[encoded data removed]",
      "text/plain": [
       "<Figure size 600x603.896 with 1 Axes>"
      ]
     },
     "metadata": {},
     "output_type": "display_data"
    },
    {
     "data": {
      "text/plain": [
       "{'ks': <ggplot: (8762197802749)>, 'roc': <ggplot: (8762180702621)>}"
      ]
     },
     "execution_count": 19,
     "metadata": {},
     "output_type": "execute_result"
    }
   ],
   "source": [
    "y=pd.concat([\n",
    "    y_train,\n",
    "    y_test]\n",
    ")\n",
    "\n",
    "pred=pd.concat([\n",
    "    pd.Series(p_model.predict_proba(X_train),index=X_train.index),\n",
    "    pd.Series(p_model.predict_proba(X_test),index=X_test.index)]\n",
    ")\n",
    "\n",
    "group=pd.concat([\n",
    "    pd.Series('train',index=X_train.index),\n",
    "    pd.Series('test',index=X_test.index)]\n",
    ")\n",
    "\n",
    "bm.perfEval().plot(pred,y,group,figure_size=(6,6)) #可以看到test数据上ks与auc的情况,此结果可作为模型结果的参考值"
   ]
  },
  {
   "cell_type": "markdown",
   "metadata": {},
   "source": [
    "## 4 特征筛选"
   ]
  },
  {
   "cell_type": "markdown",
   "metadata": {},
   "source": [
    "### 4.1 预筛"
   ]
  },
  {
   "cell_type": "markdown",
   "metadata": {},
   "source": [
    "预筛:当特征数量过多时，快速筛选掉无用特征"
   ]
  },
  {
   "cell_type": "markdown",
   "metadata": {},
   "source": [
    "bm.preSelector提供了类似的功能,能够快速过滤掉那些**非常不重要的特征**\n",
    "\n",
    "    Step 1.缺失值(所有):缺失率高于用户定义值的列将被筛除\n",
    "    Step 2.唯一值(所有):唯一值占比高于用户定义值列将被筛除\n",
    "    Step 3.方差(数值特征):方差低于用户定义值列的列将被筛除\n",
    "    Step 4.卡方独立性检验p值(字符)/方差分析p值(数值):p值大于用户定义值的列将被剔除(不支持样本权重)\n",
    "    Step 5.PI重要性筛选(所有):使用Permutation Importance进行特征筛选,具体上使用LightGBM为基模型,roc_auc为评估指标,shuffle10次,小于等于0代表特征不重要(该步骤计算量较大)\n",
    "    Step 6.LOFO重要性筛选(所有):根据Leave One Feature Out Importance筛选不重要特征，具体上使用LightGBM为基模型，roc_auc为评估指标，cv=5计算的特征重要性,小于0代表特征不重要。(该步骤计算量较大)\n",
    "    Step 7.Lightgbm筛选(所有):split重要性低于用户定义值的列将被剔除\n",
    "    Step 8.Iv值筛选(所有):等频30箱后iv值低于用户定义值的列将被剔除\n",
    "    \n",
    "详见帮助文档"
   ]
  },
  {
   "cell_type": "code",
   "execution_count": 20,
   "metadata": {},
   "outputs": [
    {
     "name": "stdout",
     "output_type": "stream",
     "text": [
      "0.start__________________________________complete\n",
      "1.filterbyNA_____________________________complete\n",
      "2.filterbyUniquepct______________________complete\n",
      "3.filterbyVariance_______________________complete\n",
      "4.filterbyChi2Oneway_____________________complete\n",
      "5.filterbyTrees__________________________complete\n",
      "6.filterbyIV_____________________________complete\n",
      "_____________________________________________Done\n",
      "步骤0.orgin,保留的特征数:119\n",
      "步骤1.filterbyNA,保留的特征数:114\n",
      "步骤2.filterbyUnique,保留的特征数:114\n",
      "步骤3.filterbyVariance,保留的特征数:114\n",
      "步骤4.filterbyChi2Oneway,保留的特征数:110\n",
      "步骤5.filterbyTrees,保留的特征数:108\n",
      "步骤6.filterbyIV,保留的特征数:103\n"
     ]
    }
   ],
   "source": [
    "pre=bm.preSelector(\n",
    "    na_pct=0.95, #缺失率高于na_pct的列将被筛除\n",
    "    unique_pct=0.95,#唯一值占比高于unique_pct的列将被筛除\n",
    "    variance=0,#方差低于variance的列(连续)将被筛除\n",
    "    chif_pvalue=0.05,#大于chif_pvalue的列将被剔除\n",
    "    pi_limit=None,#Permutation Importance小于等于pi_limit的列将被剔除，None代表跳过此步骤\n",
    "    lofoi_limit=None,#LOFO重要性小于等于lofoi_limit的列将被剔除，None代表跳过此步骤\n",
    "    tree_imps=1,#split_gain小于等于tree_imps的列将被剔除\n",
    "    tree_size=250,#LGBM树个数\n",
    "    iv_limit=0.02 #iv小于等于iv_limit的特征将被踢出\n",
    ").fit(X_train,y_train)"
   ]
  },
  {
   "cell_type": "code",
   "execution_count": 21,
   "metadata": {},
   "outputs": [],
   "source": [
    "X_train_1=pre.transform(X_train) #数据经transform后过滤掉了无用特征\n",
    "X_test_1=pre.transform(X_test)"
   ]
  },
  {
   "cell_type": "markdown",
   "metadata": {},
   "source": [
    "案例数据中的特征的预测能力都比较强，预筛选过程中有少量特征被筛选掉"
   ]
  },
  {
   "cell_type": "markdown",
   "metadata": {},
   "source": [
    "### 4.2 分箱"
   ]
  },
  {
   "cell_type": "markdown",
   "metadata": {},
   "source": [
    "#### 4.2.1 最优分箱"
   ]
  },
  {
   "cell_type": "markdown",
   "metadata": {},
   "source": [
    "bm.binSelector提供了分箱算法的集成与特征筛选，详情请见帮助文档\n",
    "\n",
    "这里使用决策树最优分箱，设定至少5箱、强制单调、并剔除此分箱条件下iv_limit低于0.02的特征"
   ]
  },
  {
   "cell_type": "code",
   "execution_count": 22,
   "metadata": {},
   "outputs": [],
   "source": [
    "bins=bm.binSelector(method='tree',\n",
    "                    coerce_monotonic=True,\n",
    "                    iv_limit=0.02,n_jobs=-1,\n",
    "                    bin_num_limit=5).fit(X_train_1,y_train)"
   ]
  },
  {
   "cell_type": "markdown",
   "metadata": {},
   "source": [
    "bins的属性bins为dict结构，存储了分箱结果"
   ]
  },
  {
   "cell_type": "code",
   "execution_count": 23,
   "metadata": {},
   "outputs": [
    {
     "data": {
      "text/html": [
       "<div>\n",
       "<style scoped>\n",
       "    .dataframe tbody tr th:only-of-type {\n",
       "        vertical-align: middle;\n",
       "    }\n",
       "\n",
       "    .dataframe tbody tr th {\n",
       "        vertical-align: top;\n",
       "    }\n",
       "\n",
       "    .dataframe thead th {\n",
       "        text-align: right;\n",
       "    }\n",
       "</style>\n",
       "<table border=\"1\" class=\"dataframe\">\n",
       "  <thead>\n",
       "    <tr style=\"text-align: right;\">\n",
       "      <th></th>\n",
       "      <th>variable</th>\n",
       "      <th>count</th>\n",
       "      <th>count_distr</th>\n",
       "      <th>good</th>\n",
       "      <th>bad</th>\n",
       "      <th>badprob</th>\n",
       "      <th>woe</th>\n",
       "      <th>bin_iv</th>\n",
       "      <th>total_iv</th>\n",
       "      <th>ks</th>\n",
       "      <th>ks_max</th>\n",
       "      <th>breaks</th>\n",
       "    </tr>\n",
       "    <tr>\n",
       "      <th>bin</th>\n",
       "      <th></th>\n",
       "      <th></th>\n",
       "      <th></th>\n",
       "      <th></th>\n",
       "      <th></th>\n",
       "      <th></th>\n",
       "      <th></th>\n",
       "      <th></th>\n",
       "      <th></th>\n",
       "      <th></th>\n",
       "      <th></th>\n",
       "      <th></th>\n",
       "    </tr>\n",
       "  </thead>\n",
       "  <tbody>\n",
       "    <tr>\n",
       "      <th>[-inf, 0.5)</th>\n",
       "      <td>Bureau_Var1033</td>\n",
       "      <td>6294</td>\n",
       "      <td>0.313134</td>\n",
       "      <td>5977.0</td>\n",
       "      <td>317.0</td>\n",
       "      <td>0.050365</td>\n",
       "      <td>-0.481512</td>\n",
       "      <td>0.059415</td>\n",
       "      <td>0.14631</td>\n",
       "      <td>0.123393</td>\n",
       "      <td>0.170292</td>\n",
       "      <td>0.5</td>\n",
       "    </tr>\n",
       "    <tr>\n",
       "      <th>[0.5, 0.8)</th>\n",
       "      <td>Bureau_Var1033</td>\n",
       "      <td>2535</td>\n",
       "      <td>0.126119</td>\n",
       "      <td>2384.0</td>\n",
       "      <td>151.0</td>\n",
       "      <td>0.059566</td>\n",
       "      <td>-0.303995</td>\n",
       "      <td>0.010263</td>\n",
       "      <td>0.14631</td>\n",
       "      <td>0.157153</td>\n",
       "      <td>0.170292</td>\n",
       "      <td>0.8</td>\n",
       "    </tr>\n",
       "    <tr>\n",
       "      <th>[0.8, 0.9)</th>\n",
       "      <td>Bureau_Var1033</td>\n",
       "      <td>1875</td>\n",
       "      <td>0.093284</td>\n",
       "      <td>1746.0</td>\n",
       "      <td>129.0</td>\n",
       "      <td>0.068800</td>\n",
       "      <td>-0.150010</td>\n",
       "      <td>0.001971</td>\n",
       "      <td>0.14631</td>\n",
       "      <td>0.170292</td>\n",
       "      <td>0.170292</td>\n",
       "      <td>0.9</td>\n",
       "    </tr>\n",
       "    <tr>\n",
       "      <th>[0.9, 1.0)</th>\n",
       "      <td>Bureau_Var1033</td>\n",
       "      <td>3952</td>\n",
       "      <td>0.196617</td>\n",
       "      <td>3554.0</td>\n",
       "      <td>398.0</td>\n",
       "      <td>0.100709</td>\n",
       "      <td>0.265883</td>\n",
       "      <td>0.015548</td>\n",
       "      <td>0.14631</td>\n",
       "      <td>0.111814</td>\n",
       "      <td>0.170292</td>\n",
       "      <td>1.0</td>\n",
       "    </tr>\n",
       "    <tr>\n",
       "      <th>[1.0, inf)</th>\n",
       "      <td>Bureau_Var1033</td>\n",
       "      <td>2006</td>\n",
       "      <td>0.099801</td>\n",
       "      <td>1723.0</td>\n",
       "      <td>283.0</td>\n",
       "      <td>0.141077</td>\n",
       "      <td>0.648885</td>\n",
       "      <td>0.055168</td>\n",
       "      <td>0.14631</td>\n",
       "      <td>0.026794</td>\n",
       "      <td>0.170292</td>\n",
       "      <td>inf</td>\n",
       "    </tr>\n",
       "    <tr>\n",
       "      <th>special</th>\n",
       "      <td>Bureau_Var1033</td>\n",
       "      <td>0</td>\n",
       "      <td>0.000000</td>\n",
       "      <td>0.0</td>\n",
       "      <td>0.0</td>\n",
       "      <td>NaN</td>\n",
       "      <td>0.000000</td>\n",
       "      <td>0.000000</td>\n",
       "      <td>0.14631</td>\n",
       "      <td>0.026794</td>\n",
       "      <td>0.170292</td>\n",
       "      <td>special</td>\n",
       "    </tr>\n",
       "    <tr>\n",
       "      <th>missing</th>\n",
       "      <td>Bureau_Var1033</td>\n",
       "      <td>3438</td>\n",
       "      <td>0.171045</td>\n",
       "      <td>3127.0</td>\n",
       "      <td>311.0</td>\n",
       "      <td>0.090460</td>\n",
       "      <td>0.147224</td>\n",
       "      <td>0.003945</td>\n",
       "      <td>0.14631</td>\n",
       "      <td>0.000000</td>\n",
       "      <td>0.170292</td>\n",
       "      <td>missing</td>\n",
       "    </tr>\n",
       "  </tbody>\n",
       "</table>\n",
       "</div>"
      ],
      "text/plain": [
       "                   variable  count  count_distr    good    bad   badprob  \\\n",
       "bin                                                                        \n",
       "[-inf, 0.5)  Bureau_Var1033   6294     0.313134  5977.0  317.0  0.050365   \n",
       "[0.5, 0.8)   Bureau_Var1033   2535     0.126119  2384.0  151.0  0.059566   \n",
       "[0.8, 0.9)   Bureau_Var1033   1875     0.093284  1746.0  129.0  0.068800   \n",
       "[0.9, 1.0)   Bureau_Var1033   3952     0.196617  3554.0  398.0  0.100709   \n",
       "[1.0, inf)   Bureau_Var1033   2006     0.099801  1723.0  283.0  0.141077   \n",
       "special      Bureau_Var1033      0     0.000000     0.0    0.0       NaN   \n",
       "missing      Bureau_Var1033   3438     0.171045  3127.0  311.0  0.090460   \n",
       "\n",
       "                  woe    bin_iv  total_iv        ks    ks_max   breaks  \n",
       "bin                                                                     \n",
       "[-inf, 0.5) -0.481512  0.059415   0.14631  0.123393  0.170292      0.5  \n",
       "[0.5, 0.8)  -0.303995  0.010263   0.14631  0.157153  0.170292      0.8  \n",
       "[0.8, 0.9)  -0.150010  0.001971   0.14631  0.170292  0.170292      0.9  \n",
       "[0.9, 1.0)   0.265883  0.015548   0.14631  0.111814  0.170292      1.0  \n",
       "[1.0, inf)   0.648885  0.055168   0.14631  0.026794  0.170292      inf  \n",
       "special      0.000000  0.000000   0.14631  0.026794  0.170292  special  \n",
       "missing      0.147224  0.003945   0.14631  0.000000  0.170292  missing  "
      ]
     },
     "execution_count": 23,
     "metadata": {},
     "output_type": "execute_result"
    }
   ],
   "source": [
    "bins.bins['Bureau_Var1033']"
   ]
  },
  {
   "cell_type": "markdown",
   "metadata": {},
   "source": [
    "对分箱结果进行展示,bins.breaks_list作为bm.varReport的入参可以将分箱结果输出并绘制报告,方法woe_plot在于输出特征分析图"
   ]
  },
  {
   "cell_type": "code",
   "execution_count": 24,
   "metadata": {},
   "outputs": [],
   "source": [
    "f_figs=bm.varReport(bins.breaks_list).fit(X_train_1,y_train).woe_plot()"
   ]
  },
  {
   "cell_type": "code",
   "execution_count": 25,
   "metadata": {},
   "outputs": [
    {
     "data": {
      "image/png": "[encoded data removed]",
      "text/plain": [
       "<Figure size 640x480 with 2 Axes>"
      ]
     },
     "execution_count": 25,
     "metadata": {},
     "output_type": "execute_result"
    }
   ],
   "source": [
    "f_figs['Bureau_Var1033'] #以Bureau_Var1033为例，显示授信使用率越大客户违约风险越大"
   ]
  },
  {
   "cell_type": "markdown",
   "metadata": {},
   "source": [
    "#### 4.2.2 交互分箱调整"
   ]
  },
  {
   "cell_type": "markdown",
   "metadata": {},
   "source": [
    "分箱应尽可能保证稳定性、可解释性与足够的信息含量，而无论何种算法的分箱结果往往都只是参考，进行交互分箱可以以专家经验调整分箱结果至合理区间\n",
    "bm.binAdjuster提供了交互分箱的功能"
   ]
  },
  {
   "cell_type": "code",
   "execution_count": 26,
   "metadata": {},
   "outputs": [],
   "source": [
    "X=pd.concat(\n",
    "    [\n",
    "        X_train_1.assign(split='train'), #增加组特征train\n",
    "        X_test_1.assign(split='test') #增加组特征test\n",
    "    ],axis=0\n",
    ")\n",
    "\n",
    "y=pd.concat(\n",
    "    [\n",
    "        y_train,\n",
    "        y_test\n",
    "    ],axis=0\n",
    ")"
   ]
  },
  {
   "cell_type": "markdown",
   "metadata": {},
   "source": [
    "交互分箱中的5个选项:\n",
    "\n",
    "```\n",
    "1: next:当前特征分箱完毕,跳转到下个特征\n",
    "2: yes:调整当前特征分箱:\n",
    "    输入需调整的分箱:\n",
    "        + 连续:输入[数值1,数值2,...]调整分段继续，\n",
    "            - 分段中不用写最大/最小值\n",
    "            - 若输入空白则会在全数据上进行最优分箱\n",
    "        + 分类:输入[字符1,字符2,...]调整分段继续，\n",
    "            - 其中若合并分类特征写成“字符3%,%字符4”\n",
    "            - 其中字符必须涵盖该分类特征的所有水平,若有遗漏则将被转换为missing            \n",
    "3: back :返回前一个特征并进行调整\n",
    "4: remove :当前特征分箱无法调整至合理水平,在调整最终结果中剔除该特征信息\n",
    "        + 只要某特征被选择为remove,那么该特征无论调整了多少次分箱都会被最终从结果中剔除\n",
    "0: exit:终止分箱程序\n",
    "    + 输入\"y\"终止,其他则继续\n",
    "```\n",
    "\n",
    "最终分箱结果将被保存在类属性breaks_list_adj中,使用bin_adj.breaks_list_adj进行调用"
   ]
  },
  {
   "cell_type": "code",
   "execution_count": 27,
   "metadata": {},
   "outputs": [
    {
     "name": "stdout",
     "output_type": "stream",
     "text": [
      "----Adjusting Age...----\n",
      "Current breaks: [32.0, 37.0, 54.0, 58.0]...\n",
      "PSI at current breaks:[('train', 0.0), ('test', 0.0011)]\n"
     ]
    },
    {
     "data": {
      "image/png": "[encoded data removed]",
      "text/plain": [
       "<Figure size 2000x500 with 3 Axes>"
      ]
     },
     "metadata": {},
     "output_type": "display_data"
    },
    {
     "name": "stdout",
     "output_type": "stream",
     "text": [
      ">>> Adjust breaks for (1/81) Age?\n",
      "1: next \n",
      "2: yes \n",
      "3: back \n",
      "4: remove \n",
      "0: exit\n",
      "Selection: 0\n",
      "Adjustion has not been completed yet,are you sure?\n",
      "Input 'y' to exit or other to continue :y\n",
      "Stop adjusting...,result store in global variables \"breaks_list_adj\" and \"vtabs_dict_adj\"\n"
     ]
    }
   ],
   "source": [
    "bin_adj=bm.binAdjuster(bins.breaks_list,\n",
    "                       column='split',\n",
    "                       sort_column=['train','test'],\n",
    "                       psi_base='split==\"train\"',figure_size=(20,5)).fit(X,y)"
   ]
  },
  {
   "cell_type": "markdown",
   "metadata": {},
   "source": [
    "这里因篇幅所限不做过多展示，读者可自行研究"
   ]
  },
  {
   "cell_type": "markdown",
   "metadata": {},
   "source": [
    "## 5 WOE编码"
   ]
  },
  {
   "cell_type": "markdown",
   "metadata": {},
   "source": [
    "bm.woeTransformer提供了woe编码功能,其主要入参为bins.bins即特征分析报告字典结构\n",
    "\n",
    "+ 参数woe_missing用于当比例低于distr_limit时missing的WOE编码结果,这是因为当missing箱样本量极少时，woe值可能不具备代表性，此时可调整varbin中的woe替换值至合理水平，例如设定为0,其被保存在woe.varbin中待用\n",
    "\n",
    "+ 其他参数请见帮助文档"
   ]
  },
  {
   "cell_type": "code",
   "execution_count": 28,
   "metadata": {},
   "outputs": [],
   "source": [
    "woe=bm.woeTransformer(bins.bins,woe_missing=0,distr_limit=0.05).fit(X_train,y_train)\n",
    "X_train_woe=woe.transform(X_train)\n",
    "X_test_woe=woe.transform(X_test)"
   ]
  },
  {
   "cell_type": "markdown",
   "metadata": {},
   "source": [
    "## 6 特征聚类"
   ]
  },
  {
   "cell_type": "markdown",
   "metadata": {},
   "source": [
    "经过编码后的数据会作为最终的模型输入,一般在经典评分卡中,需避免多重共线性,这里可使用变量聚类进行筛选"
   ]
  },
  {
   "cell_type": "markdown",
   "metadata": {},
   "source": [
    "### 6.1 特征聚类"
   ]
  },
  {
   "cell_type": "markdown",
   "metadata": {},
   "source": [
    "特征聚类可以提供相关性较强的特征组信息,进而能够让建模者对各个特征在各个组里的情况一目了然。\n",
    "\n",
    "+ bm.faSelector提供了基于sklearn层次聚类的列聚类算法实现,并用于高相关特征组的变量筛选,\n",
    "    + 此算法适合在在特征数量不多的情况下筛选高相关特征\n",
    "        + 层次聚类算法详见sklearn.cluster.FeatureAgglomeration(自底向上逐步合并的层次聚类算法)\n",
    "        + 对距离矩阵进行预计算再进行拟合(FeatureAgglomeration(affinity='precomputed').fit(distance_matrix))\n",
    "            + 可选距离度量:\n",
    "                + 1.Pearson相关性距离,即Pearson相关系数绝对值的相反数      \n",
    "                + 2.Spearman相关性距离,即Spearman相关系数绝对值的相反数\n",
    "                + 3.R2距离，即r2值的相反数\n",
    "\n",
    "    + 此算法非SAS的变量聚类,但想达到的目的是一致的\n",
    "    + 参数n_clusters用于指定聚类个数,为\"auto\"时结合参数corr_limit将自动确定聚类数量:\n",
    "       + 使用相关性分析对原始数据中可能出现的特征类个数进行估计,corr_limit越高特征类个数越多,反之越少\n",
    "       + 经验上corr_limit=0.7左右下的分群列特征值最大的前两个主成分累积解释占比在0.6-0.7以上,\n",
    "           + corr_limit越大前两个主成分累积解释占比越大,同时聚类数量越多\n",
    "    + 参数distance_metrics用于指定列距离度量方式,默认将使用pearson距离(pearson相关系数绝对值的相反数)\n",
    "    + 参数by用于指定筛选方式,\n",
    "       + 默认'r2-ratio',类似于SAS的变量聚类,将筛选每一类特征集中r2-ratio最小的特征输出\n",
    "       + 可指定任意权重用于筛选变量,例如iv,ks等"
   ]
  },
  {
   "cell_type": "code",
   "execution_count": 29,
   "metadata": {
    "scrolled": true
   },
   "outputs": [
    {
     "name": "stdout",
     "output_type": "stream",
     "text": [
      "n_clusters set to 46\n"
     ]
    }
   ],
   "source": [
    "fa=bm.faSelector(n_clusters='auto',corr_limit=0.8,by='r2-ratio').fit(X_train_woe,y_train)"
   ]
  },
  {
   "cell_type": "markdown",
   "metadata": {},
   "source": [
    "属性components_infos记录了:\n",
    "\n",
    "   + 每一个特征类的类信息(cluster)\n",
    "   + 类变量个数(n_vars)\n",
    "   + 前两大特征值(eigval1,eigval2)\n",
    "   + 前两大特征值累积解释比例(explained_ratio)\n",
    "   \n",
    "一般认为explained_ratio最少需大于0.7的类的聚类效果较好"
   ]
  },
  {
   "cell_type": "code",
   "execution_count": 30,
   "metadata": {},
   "outputs": [
    {
     "data": {
      "text/html": [
       "<div>\n",
       "<style scoped>\n",
       "    .dataframe tbody tr th:only-of-type {\n",
       "        vertical-align: middle;\n",
       "    }\n",
       "\n",
       "    .dataframe tbody tr th {\n",
       "        vertical-align: top;\n",
       "    }\n",
       "\n",
       "    .dataframe thead th {\n",
       "        text-align: right;\n",
       "    }\n",
       "</style>\n",
       "<table border=\"1\" class=\"dataframe\">\n",
       "  <thead>\n",
       "    <tr style=\"text-align: right;\">\n",
       "      <th></th>\n",
       "      <th>cluster</th>\n",
       "      <th>n_vars</th>\n",
       "      <th>eigval1</th>\n",
       "      <th>eigval2</th>\n",
       "      <th>explained_ratio</th>\n",
       "    </tr>\n",
       "  </thead>\n",
       "  <tbody>\n",
       "    <tr>\n",
       "      <th>0</th>\n",
       "      <td>0</td>\n",
       "      <td>3</td>\n",
       "      <td>0.198536</td>\n",
       "      <td>0.021825</td>\n",
       "      <td>0.859994</td>\n",
       "    </tr>\n",
       "    <tr>\n",
       "      <th>1</th>\n",
       "      <td>1</td>\n",
       "      <td>8</td>\n",
       "      <td>0.223928</td>\n",
       "      <td>0.016738</td>\n",
       "      <td>0.865080</td>\n",
       "    </tr>\n",
       "    <tr>\n",
       "      <th>14</th>\n",
       "      <td>14</td>\n",
       "      <td>4</td>\n",
       "      <td>0.186517</td>\n",
       "      <td>0.013714</td>\n",
       "      <td>0.887123</td>\n",
       "    </tr>\n",
       "    <tr>\n",
       "      <th>3</th>\n",
       "      <td>3</td>\n",
       "      <td>4</td>\n",
       "      <td>0.139956</td>\n",
       "      <td>0.009960</td>\n",
       "      <td>0.887444</td>\n",
       "    </tr>\n",
       "    <tr>\n",
       "      <th>2</th>\n",
       "      <td>2</td>\n",
       "      <td>5</td>\n",
       "      <td>0.210765</td>\n",
       "      <td>0.015853</td>\n",
       "      <td>0.889757</td>\n",
       "    </tr>\n",
       "  </tbody>\n",
       "</table>\n",
       "</div>"
      ],
      "text/plain": [
       "    cluster  n_vars   eigval1   eigval2  explained_ratio\n",
       "0         0       3  0.198536  0.021825         0.859994\n",
       "1         1       8  0.223928  0.016738         0.865080\n",
       "14       14       4  0.186517  0.013714         0.887123\n",
       "3         3       4  0.139956  0.009960         0.887444\n",
       "2         2       5  0.210765  0.015853         0.889757"
      ]
     },
     "execution_count": 30,
     "metadata": {},
     "output_type": "execute_result"
    }
   ],
   "source": [
    "fa.components_infos.sort_values('explained_ratio').head()"
   ]
  },
  {
   "cell_type": "markdown",
   "metadata": {},
   "source": [
    "属性rsquare_infos记录了:\n",
    "\n",
    "   + 每一个特征类的类信息(Cluster)\n",
    "   + 特征的类内R方(R2_Featrues),特征与其类最大主成分的R2指标\n",
    "   + 特征的类间R方(R2_Neigbor),特征与最邻近类的主成分的R2指标\n",
    "   + 1-R2Ratio:(1-R2_Featrues)/(1-R2_Neigbor) \n",
    "       + 分子指该特征在组内的异质度，值越小说明特征与该组的信息重叠较多\n",
    "       + 分母指该特征在最临近组的异质度，值越小说明特征与最临近组的信息重叠较多\n",
    "       + 1-R2Ratio值越小则说明变量越能够代表该类\n",
    "       "
   ]
  },
  {
   "cell_type": "code",
   "execution_count": 31,
   "metadata": {},
   "outputs": [
    {
     "data": {
      "text/html": [
       "<div>\n",
       "<style scoped>\n",
       "    .dataframe tbody tr th:only-of-type {\n",
       "        vertical-align: middle;\n",
       "    }\n",
       "\n",
       "    .dataframe tbody tr th {\n",
       "        vertical-align: top;\n",
       "    }\n",
       "\n",
       "    .dataframe thead th {\n",
       "        text-align: right;\n",
       "    }\n",
       "</style>\n",
       "<table border=\"1\" class=\"dataframe\">\n",
       "  <thead>\n",
       "    <tr style=\"text-align: right;\">\n",
       "      <th></th>\n",
       "      <th>Cluster</th>\n",
       "      <th>R2_Featrues</th>\n",
       "      <th>R2_Neigbor</th>\n",
       "      <th>1-R2Ratio</th>\n",
       "    </tr>\n",
       "  </thead>\n",
       "  <tbody>\n",
       "    <tr>\n",
       "      <th>Age</th>\n",
       "      <td>27</td>\n",
       "      <td>1.0</td>\n",
       "      <td>0.271839</td>\n",
       "      <td>0.000000e+00</td>\n",
       "    </tr>\n",
       "    <tr>\n",
       "      <th>Bureau_Var102</th>\n",
       "      <td>41</td>\n",
       "      <td>1.0</td>\n",
       "      <td>0.556499</td>\n",
       "      <td>0.000000e+00</td>\n",
       "    </tr>\n",
       "    <tr>\n",
       "      <th>Bureau_Var1033</th>\n",
       "      <td>43</td>\n",
       "      <td>1.0</td>\n",
       "      <td>0.560379</td>\n",
       "      <td>0.000000e+00</td>\n",
       "    </tr>\n",
       "    <tr>\n",
       "      <th>Bureau_Var1036</th>\n",
       "      <td>36</td>\n",
       "      <td>1.0</td>\n",
       "      <td>0.560379</td>\n",
       "      <td>5.050815e-16</td>\n",
       "    </tr>\n",
       "    <tr>\n",
       "      <th>Bureau_Var1044</th>\n",
       "      <td>42</td>\n",
       "      <td>1.0</td>\n",
       "      <td>0.557009</td>\n",
       "      <td>0.000000e+00</td>\n",
       "    </tr>\n",
       "    <tr>\n",
       "      <th>...</th>\n",
       "      <td>...</td>\n",
       "      <td>...</td>\n",
       "      <td>...</td>\n",
       "      <td>...</td>\n",
       "    </tr>\n",
       "    <tr>\n",
       "      <th>Previous_Var49</th>\n",
       "      <td>19</td>\n",
       "      <td>1.0</td>\n",
       "      <td>0.122023</td>\n",
       "      <td>5.058097e-16</td>\n",
       "    </tr>\n",
       "    <tr>\n",
       "      <th>Previous_Var545</th>\n",
       "      <td>9</td>\n",
       "      <td>1.0</td>\n",
       "      <td>0.122023</td>\n",
       "      <td>0.000000e+00</td>\n",
       "    </tr>\n",
       "    <tr>\n",
       "      <th>Score1</th>\n",
       "      <td>10</td>\n",
       "      <td>1.0</td>\n",
       "      <td>0.038155</td>\n",
       "      <td>0.000000e+00</td>\n",
       "    </tr>\n",
       "    <tr>\n",
       "      <th>Score2</th>\n",
       "      <td>32</td>\n",
       "      <td>1.0</td>\n",
       "      <td>0.092383</td>\n",
       "      <td>0.000000e+00</td>\n",
       "    </tr>\n",
       "    <tr>\n",
       "      <th>Score3</th>\n",
       "      <td>13</td>\n",
       "      <td>1.0</td>\n",
       "      <td>0.139496</td>\n",
       "      <td>0.000000e+00</td>\n",
       "    </tr>\n",
       "  </tbody>\n",
       "</table>\n",
       "<p>81 rows × 4 columns</p>\n",
       "</div>"
      ],
      "text/plain": [
       "                 Cluster  R2_Featrues  R2_Neigbor     1-R2Ratio\n",
       "Age                   27          1.0    0.271839  0.000000e+00\n",
       "Bureau_Var102         41          1.0    0.556499  0.000000e+00\n",
       "Bureau_Var1033        43          1.0    0.560379  0.000000e+00\n",
       "Bureau_Var1036        36          1.0    0.560379  5.050815e-16\n",
       "Bureau_Var1044        42          1.0    0.557009  0.000000e+00\n",
       "...                  ...          ...         ...           ...\n",
       "Previous_Var49        19          1.0    0.122023  5.058097e-16\n",
       "Previous_Var545        9          1.0    0.122023  0.000000e+00\n",
       "Score1                10          1.0    0.038155  0.000000e+00\n",
       "Score2                32          1.0    0.092383  0.000000e+00\n",
       "Score3                13          1.0    0.139496  0.000000e+00\n",
       "\n",
       "[81 rows x 4 columns]"
      ]
     },
     "execution_count": 31,
     "metadata": {},
     "output_type": "execute_result"
    }
   ],
   "source": [
    "fa.rsquare_infos"
   ]
  },
  {
   "cell_type": "markdown",
   "metadata": {},
   "source": [
    "在筛选上:\n",
    "+ 1.根据统计指标筛选,请注意这种方式过于机械与粗暴且会损失一些重要特征\n",
    "    + 例如选择每一组的1-R2Ratio越小的变量作为最终的筛选标准\n",
    "    + 通过用户定义的权重(iv等)作为最终的筛选标准(by参数指定)"
   ]
  },
  {
   "cell_type": "code",
   "execution_count": 32,
   "metadata": {},
   "outputs": [],
   "source": [
    "X_train_woe_fa=fa.transform(X_train_woe) #直接得到基于1-R2Ratio的筛选特征\n",
    "X_test_woe_fa=fa.transform(X_test_woe)"
   ]
  },
  {
   "cell_type": "markdown",
   "metadata": {},
   "source": [
    "\n",
    "+ 2.根据每一个组变量集中的特征的业务理解进行筛选"
   ]
  },
  {
   "cell_type": "code",
   "execution_count": 33,
   "metadata": {},
   "outputs": [
    {
     "data": {
      "text/html": [
       "<div>\n",
       "<style scoped>\n",
       "    .dataframe tbody tr th:only-of-type {\n",
       "        vertical-align: middle;\n",
       "    }\n",
       "\n",
       "    .dataframe tbody tr th {\n",
       "        vertical-align: top;\n",
       "    }\n",
       "\n",
       "    .dataframe thead th {\n",
       "        text-align: right;\n",
       "    }\n",
       "</style>\n",
       "<table border=\"1\" class=\"dataframe\">\n",
       "  <thead>\n",
       "    <tr style=\"text-align: right;\">\n",
       "      <th></th>\n",
       "      <th>Cluster</th>\n",
       "      <th>R2_Featrues</th>\n",
       "      <th>R2_Neigbor</th>\n",
       "      <th>1-R2Ratio</th>\n",
       "    </tr>\n",
       "  </thead>\n",
       "  <tbody>\n",
       "    <tr>\n",
       "      <th>Previous_Var545</th>\n",
       "      <td>9</td>\n",
       "      <td>1.0</td>\n",
       "      <td>0.122023</td>\n",
       "      <td>0.0</td>\n",
       "    </tr>\n",
       "  </tbody>\n",
       "</table>\n",
       "</div>"
      ],
      "text/plain": [
       "                 Cluster  R2_Featrues  R2_Neigbor  1-R2Ratio\n",
       "Previous_Var545        9          1.0    0.122023        0.0"
      ]
     },
     "execution_count": 33,
     "metadata": {},
     "output_type": "execute_result"
    }
   ],
   "source": [
    "fa.rsquare_infos.query(\"Cluster==9\") #某个特征组的情况"
   ]
  },
  {
   "cell_type": "code",
   "execution_count": 34,
   "metadata": {},
   "outputs": [
    {
     "data": {
      "text/html": [
       "<div>\n",
       "<style scoped>\n",
       "    .dataframe tbody tr th:only-of-type {\n",
       "        vertical-align: middle;\n",
       "    }\n",
       "\n",
       "    .dataframe tbody tr th {\n",
       "        vertical-align: top;\n",
       "    }\n",
       "\n",
       "    .dataframe thead th {\n",
       "        text-align: right;\n",
       "    }\n",
       "</style>\n",
       "<table border=\"1\" class=\"dataframe\">\n",
       "  <thead>\n",
       "    <tr style=\"text-align: right;\">\n",
       "      <th></th>\n",
       "      <th>Previous_Var545</th>\n",
       "    </tr>\n",
       "  </thead>\n",
       "  <tbody>\n",
       "    <tr>\n",
       "      <th>Previous_Var545</th>\n",
       "      <td>1.0</td>\n",
       "    </tr>\n",
       "  </tbody>\n",
       "</table>\n",
       "</div>"
      ],
      "text/plain": [
       "                 Previous_Var545\n",
       "Previous_Var545              1.0"
      ]
     },
     "execution_count": 34,
     "metadata": {},
     "output_type": "execute_result"
    }
   ],
   "source": [
    "X_train_woe[fa.rsquare_infos.query(\"Cluster==9\").index].corr() #某个特征组的内部相关性情况"
   ]
  },
  {
   "cell_type": "markdown",
   "metadata": {},
   "source": [
    "## 7.Logistic建模"
   ]
  },
  {
   "cell_type": "markdown",
   "metadata": {},
   "source": [
    "### 7.1 逐步回归"
   ]
  },
  {
   "cell_type": "markdown",
   "metadata": {},
   "source": [
    "bm.stepLogit提供了基于经典统计回归的逐步回归实现\n",
    "\n",
    "逐步回归过程:\n",
    "\n",
    "    +首先尝试加入:\n",
    "        + 从潜在特征集合remaining中尝试所有特征并选择出使指标(aic,bic)优化的特征逐次加入selected集合中\n",
    "        + 将remaining的相应特征剔除\n",
    "\n",
    "    + 再进行剔除:\n",
    "        + 在selected集合模型中的若p值过高(大于p_value_enter),那么新加入selected集合的特征将被剔除\n",
    "\n",
    "    循环上述过程直到:\n",
    "    + remaining不存在任何特征\n",
    "    + remaining不存在任何特征可使指标(aic,bic)优化\n",
    "    + 达到最大迭代次数"
   ]
  },
  {
   "cell_type": "markdown",
   "metadata": {},
   "source": [
    "参数criterion可为aic或bic,实际效果上bic会比aic筛选掉更多的特征\n",
    "\n",
    "参数custom_columns用于指定需进行逐步回归的列"
   ]
  },
  {
   "cell_type": "code",
   "execution_count": 37,
   "metadata": {},
   "outputs": [],
   "source": [
    "custom_columns=X_train_woe_fa.columns.tolist()\n",
    "custom_columns.remove('Bureau_Var117') #改变量的回归系数符号有问题,这里先剔除掉"
   ]
  },
  {
   "cell_type": "code",
   "execution_count": 38,
   "metadata": {
    "scrolled": false
   },
   "outputs": [],
   "source": [
    "model=bm.stepLogit(custom_columns,show_step=False,criterion='aic',p_value_enter=0.01).fit(X_train_woe_fa,y_train)"
   ]
  },
  {
   "cell_type": "code",
   "execution_count": 39,
   "metadata": {},
   "outputs": [
    {
     "data": {
      "text/html": [
       "<table class=\"simpletable\">\n",
       "<caption>Generalized Linear Model Regression Results</caption>\n",
       "<tr>\n",
       "  <th>Dep. Variable:</th>        <td>TARGET</td>      <th>  No. Observations:  </th>  <td> 20100</td> \n",
       "</tr>\n",
       "<tr>\n",
       "  <th>Model:</th>                  <td>GLM</td>       <th>  Df Residuals:      </th>  <td> 20082</td> \n",
       "</tr>\n",
       "<tr>\n",
       "  <th>Model Family:</th>        <td>Binomial</td>     <th>  Df Model:          </th>  <td>    17</td> \n",
       "</tr>\n",
       "<tr>\n",
       "  <th>Link Function:</th>         <td>Logit</td>      <th>  Scale:             </th> <td>  1.0000</td>\n",
       "</tr>\n",
       "<tr>\n",
       "  <th>Method:</th>                <td>IRLS</td>       <th>  Log-Likelihood:    </th> <td> -4841.8</td>\n",
       "</tr>\n",
       "<tr>\n",
       "  <th>Date:</th>            <td>Thu, 07 Apr 2022</td> <th>  Deviance:          </th> <td>  9683.6</td>\n",
       "</tr>\n",
       "<tr>\n",
       "  <th>Time:</th>                <td>17:18:33</td>     <th>  Pearson chi2:      </th> <td>1.97e+04</td>\n",
       "</tr>\n",
       "<tr>\n",
       "  <th>No. Iterations:</th>          <td>6</td>        <th>  Pseudo R-squ. (CS):</th>  <td>0.06867</td>\n",
       "</tr>\n",
       "<tr>\n",
       "  <th>Covariance Type:</th>     <td>nonrobust</td>    <th>                     </th>     <td> </td>   \n",
       "</tr>\n",
       "</table>\n",
       "<table class=\"simpletable\">\n",
       "<tr>\n",
       "         <td></td>            <th>coef</th>     <th>std err</th>      <th>z</th>      <th>P>|z|</th>  <th>[0.025</th>    <th>0.975]</th>  \n",
       "</tr>\n",
       "<tr>\n",
       "  <th>Intercept</th>       <td>   -2.4600</td> <td>    0.029</td> <td>  -83.544</td> <td> 0.000</td> <td>   -2.518</td> <td>   -2.402</td>\n",
       "</tr>\n",
       "<tr>\n",
       "  <th>Score2</th>          <td>    0.7670</td> <td>    0.048</td> <td>   15.959</td> <td> 0.000</td> <td>    0.673</td> <td>    0.861</td>\n",
       "</tr>\n",
       "<tr>\n",
       "  <th>Score3</th>          <td>    0.5946</td> <td>    0.054</td> <td>   11.041</td> <td> 0.000</td> <td>    0.489</td> <td>    0.700</td>\n",
       "</tr>\n",
       "<tr>\n",
       "  <th>Score1</th>          <td>    0.5411</td> <td>    0.071</td> <td>    7.600</td> <td> 0.000</td> <td>    0.402</td> <td>    0.681</td>\n",
       "</tr>\n",
       "<tr>\n",
       "  <th>IP_Var24</th>        <td>    0.6618</td> <td>    0.096</td> <td>    6.874</td> <td> 0.000</td> <td>    0.473</td> <td>    0.851</td>\n",
       "</tr>\n",
       "<tr>\n",
       "  <th>Bureau_Var1048</th>  <td>    0.6969</td> <td>    0.090</td> <td>    7.705</td> <td> 0.000</td> <td>    0.520</td> <td>    0.874</td>\n",
       "</tr>\n",
       "<tr>\n",
       "  <th>DAYS_EMPLOYED</th>   <td>    0.5285</td> <td>    0.093</td> <td>    5.705</td> <td> 0.000</td> <td>    0.347</td> <td>    0.710</td>\n",
       "</tr>\n",
       "<tr>\n",
       "  <th>Bureau_Var24</th>    <td>    0.5867</td> <td>    0.144</td> <td>    4.071</td> <td> 0.000</td> <td>    0.304</td> <td>    0.869</td>\n",
       "</tr>\n",
       "<tr>\n",
       "  <th>EDULEVEL</th>        <td>    0.5712</td> <td>    0.135</td> <td>    4.222</td> <td> 0.000</td> <td>    0.306</td> <td>    0.836</td>\n",
       "</tr>\n",
       "<tr>\n",
       "  <th>Bureau_Var1153</th>  <td>    0.7655</td> <td>    0.180</td> <td>    4.254</td> <td> 0.000</td> <td>    0.413</td> <td>    1.118</td>\n",
       "</tr>\n",
       "<tr>\n",
       "  <th>Previous_Var545</th> <td>    0.7555</td> <td>    0.148</td> <td>    5.096</td> <td> 0.000</td> <td>    0.465</td> <td>    1.046</td>\n",
       "</tr>\n",
       "<tr>\n",
       "  <th>GENDER</th>          <td>    0.7535</td> <td>    0.136</td> <td>    5.558</td> <td> 0.000</td> <td>    0.488</td> <td>    1.019</td>\n",
       "</tr>\n",
       "<tr>\n",
       "  <th>OWN_CAR_AGE</th>     <td>    0.6112</td> <td>    0.178</td> <td>    3.427</td> <td> 0.001</td> <td>    0.262</td> <td>    0.961</td>\n",
       "</tr>\n",
       "<tr>\n",
       "  <th>Previous_Var22</th>  <td>    0.4376</td> <td>    0.153</td> <td>    2.852</td> <td> 0.004</td> <td>    0.137</td> <td>    0.738</td>\n",
       "</tr>\n",
       "<tr>\n",
       "  <th>CITY_RATING</th>     <td>    0.3489</td> <td>    0.120</td> <td>    2.919</td> <td> 0.004</td> <td>    0.115</td> <td>    0.583</td>\n",
       "</tr>\n",
       "<tr>\n",
       "  <th>Bureau_Var21</th>    <td>    0.3412</td> <td>    0.104</td> <td>    3.268</td> <td> 0.001</td> <td>    0.137</td> <td>    0.546</td>\n",
       "</tr>\n",
       "<tr>\n",
       "  <th>IP_Var31</th>        <td>    0.3911</td> <td>    0.139</td> <td>    2.818</td> <td> 0.005</td> <td>    0.119</td> <td>    0.663</td>\n",
       "</tr>\n",
       "<tr>\n",
       "  <th>Bureau_Var112</th>   <td>    0.6276</td> <td>    0.232</td> <td>    2.711</td> <td> 0.007</td> <td>    0.174</td> <td>    1.081</td>\n",
       "</tr>\n",
       "</table>"
      ],
      "text/plain": [
       "<class 'statsmodels.iolib.summary.Summary'>\n",
       "\"\"\"\n",
       "                 Generalized Linear Model Regression Results                  \n",
       "==============================================================================\n",
       "Dep. Variable:                 TARGET   No. Observations:                20100\n",
       "Model:                            GLM   Df Residuals:                    20082\n",
       "Model Family:                Binomial   Df Model:                           17\n",
       "Link Function:                  Logit   Scale:                          1.0000\n",
       "Method:                          IRLS   Log-Likelihood:                -4841.8\n",
       "Date:                Thu, 07 Apr 2022   Deviance:                       9683.6\n",
       "Time:                        17:18:33   Pearson chi2:                 1.97e+04\n",
       "No. Iterations:                     6   Pseudo R-squ. (CS):            0.06867\n",
       "Covariance Type:            nonrobust                                         \n",
       "===================================================================================\n",
       "                      coef    std err          z      P>|z|      [0.025      0.975]\n",
       "-----------------------------------------------------------------------------------\n",
       "Intercept          -2.4600      0.029    -83.544      0.000      -2.518      -2.402\n",
       "Score2              0.7670      0.048     15.959      0.000       0.673       0.861\n",
       "Score3              0.5946      0.054     11.041      0.000       0.489       0.700\n",
       "Score1              0.5411      0.071      7.600      0.000       0.402       0.681\n",
       "IP_Var24            0.6618      0.096      6.874      0.000       0.473       0.851\n",
       "Bureau_Var1048      0.6969      0.090      7.705      0.000       0.520       0.874\n",
       "DAYS_EMPLOYED       0.5285      0.093      5.705      0.000       0.347       0.710\n",
       "Bureau_Var24        0.5867      0.144      4.071      0.000       0.304       0.869\n",
       "EDULEVEL            0.5712      0.135      4.222      0.000       0.306       0.836\n",
       "Bureau_Var1153      0.7655      0.180      4.254      0.000       0.413       1.118\n",
       "Previous_Var545     0.7555      0.148      5.096      0.000       0.465       1.046\n",
       "GENDER              0.7535      0.136      5.558      0.000       0.488       1.019\n",
       "OWN_CAR_AGE         0.6112      0.178      3.427      0.001       0.262       0.961\n",
       "Previous_Var22      0.4376      0.153      2.852      0.004       0.137       0.738\n",
       "CITY_RATING         0.3489      0.120      2.919      0.004       0.115       0.583\n",
       "Bureau_Var21        0.3412      0.104      3.268      0.001       0.137       0.546\n",
       "IP_Var31            0.3911      0.139      2.818      0.005       0.119       0.663\n",
       "Bureau_Var112       0.6276      0.232      2.711      0.007       0.174       1.081\n",
       "===================================================================================\n",
       "\"\"\""
      ]
     },
     "execution_count": 39,
     "metadata": {},
     "output_type": "execute_result"
    }
   ],
   "source": [
    "model.model_info #打印回归信息"
   ]
  },
  {
   "cell_type": "markdown",
   "metadata": {},
   "source": [
    "### 7.2 vif信息"
   ]
  },
  {
   "cell_type": "code",
   "execution_count": 40,
   "metadata": {},
   "outputs": [
    {
     "data": {
      "text/html": [
       "<div>\n",
       "<style scoped>\n",
       "    .dataframe tbody tr th:only-of-type {\n",
       "        vertical-align: middle;\n",
       "    }\n",
       "\n",
       "    .dataframe tbody tr th {\n",
       "        vertical-align: top;\n",
       "    }\n",
       "\n",
       "    .dataframe thead th {\n",
       "        text-align: right;\n",
       "    }\n",
       "</style>\n",
       "<table border=\"1\" class=\"dataframe\">\n",
       "  <thead>\n",
       "    <tr style=\"text-align: right;\">\n",
       "      <th></th>\n",
       "      <th>VIF Factor</th>\n",
       "      <th>features</th>\n",
       "    </tr>\n",
       "  </thead>\n",
       "  <tbody>\n",
       "    <tr>\n",
       "      <th>0</th>\n",
       "      <td>1.204213</td>\n",
       "      <td>Score2</td>\n",
       "    </tr>\n",
       "    <tr>\n",
       "      <th>1</th>\n",
       "      <td>1.358426</td>\n",
       "      <td>Score3</td>\n",
       "    </tr>\n",
       "    <tr>\n",
       "      <th>2</th>\n",
       "      <td>1.129242</td>\n",
       "      <td>Score1</td>\n",
       "    </tr>\n",
       "    <tr>\n",
       "      <th>3</th>\n",
       "      <td>1.186729</td>\n",
       "      <td>IP_Var24</td>\n",
       "    </tr>\n",
       "    <tr>\n",
       "      <th>4</th>\n",
       "      <td>1.125908</td>\n",
       "      <td>Bureau_Var1048</td>\n",
       "    </tr>\n",
       "    <tr>\n",
       "      <th>5</th>\n",
       "      <td>1.093169</td>\n",
       "      <td>DAYS_EMPLOYED</td>\n",
       "    </tr>\n",
       "    <tr>\n",
       "      <th>6</th>\n",
       "      <td>1.472407</td>\n",
       "      <td>Bureau_Var24</td>\n",
       "    </tr>\n",
       "    <tr>\n",
       "      <th>7</th>\n",
       "      <td>1.072801</td>\n",
       "      <td>EDULEVEL</td>\n",
       "    </tr>\n",
       "    <tr>\n",
       "      <th>8</th>\n",
       "      <td>1.360258</td>\n",
       "      <td>Bureau_Var1153</td>\n",
       "    </tr>\n",
       "    <tr>\n",
       "      <th>9</th>\n",
       "      <td>1.053501</td>\n",
       "      <td>Previous_Var545</td>\n",
       "    </tr>\n",
       "    <tr>\n",
       "      <th>10</th>\n",
       "      <td>1.079770</td>\n",
       "      <td>GENDER</td>\n",
       "    </tr>\n",
       "    <tr>\n",
       "      <th>11</th>\n",
       "      <td>1.055915</td>\n",
       "      <td>OWN_CAR_AGE</td>\n",
       "    </tr>\n",
       "    <tr>\n",
       "      <th>12</th>\n",
       "      <td>1.092766</td>\n",
       "      <td>Previous_Var22</td>\n",
       "    </tr>\n",
       "    <tr>\n",
       "      <th>13</th>\n",
       "      <td>1.132791</td>\n",
       "      <td>CITY_RATING</td>\n",
       "    </tr>\n",
       "    <tr>\n",
       "      <th>14</th>\n",
       "      <td>1.636059</td>\n",
       "      <td>Bureau_Var21</td>\n",
       "    </tr>\n",
       "    <tr>\n",
       "      <th>15</th>\n",
       "      <td>1.178682</td>\n",
       "      <td>IP_Var31</td>\n",
       "    </tr>\n",
       "    <tr>\n",
       "      <th>16</th>\n",
       "      <td>1.312984</td>\n",
       "      <td>Bureau_Var112</td>\n",
       "    </tr>\n",
       "  </tbody>\n",
       "</table>\n",
       "</div>"
      ],
      "text/plain": [
       "    VIF Factor         features\n",
       "0     1.204213           Score2\n",
       "1     1.358426           Score3\n",
       "2     1.129242           Score1\n",
       "3     1.186729         IP_Var24\n",
       "4     1.125908   Bureau_Var1048\n",
       "5     1.093169    DAYS_EMPLOYED\n",
       "6     1.472407     Bureau_Var24\n",
       "7     1.072801         EDULEVEL\n",
       "8     1.360258   Bureau_Var1153\n",
       "9     1.053501  Previous_Var545\n",
       "10    1.079770           GENDER\n",
       "11    1.055915      OWN_CAR_AGE\n",
       "12    1.092766   Previous_Var22\n",
       "13    1.132791      CITY_RATING\n",
       "14    1.636059     Bureau_Var21\n",
       "15    1.178682         IP_Var31\n",
       "16    1.312984    Bureau_Var112"
      ]
     },
     "execution_count": 40,
     "metadata": {},
     "output_type": "execute_result"
    }
   ],
   "source": [
    "model.vif_info"
   ]
  },
  {
   "cell_type": "markdown",
   "metadata": {},
   "source": [
    "### 7.3 模型评估"
   ]
  },
  {
   "cell_type": "markdown",
   "metadata": {},
   "source": [
    "+ bm.perfEval可用于模型评估"
   ]
  },
  {
   "cell_type": "code",
   "execution_count": 41,
   "metadata": {},
   "outputs": [
    {
     "data": {
      "image/png": "[encoded data removed]",
      "text/plain": [
       "<Figure size 600x603.896 with 1 Axes>"
      ]
     },
     "metadata": {},
     "output_type": "display_data"
    },
    {
     "data": {
      "image/png": "[encoded data removed]",
      "text/plain": [
       "<Figure size 600x603.896 with 1 Axes>"
      ]
     },
     "metadata": {},
     "output_type": "display_data"
    },
    {
     "data": {
      "text/plain": [
       "{'ks': <ggplot: (8762163973690)>, 'roc': <ggplot: (8762163933956)>}"
      ]
     },
     "execution_count": 41,
     "metadata": {},
     "output_type": "execute_result"
    }
   ],
   "source": [
    "y=pd.concat([\n",
    "    y_train,\n",
    "    y_test]\n",
    ")\n",
    "\n",
    "pred=pd.concat([\n",
    "    pd.Series(model.predict_proba(X_train_woe_fa),index=X_train.index),\n",
    "    pd.Series(model.predict_proba(X_test_woe_fa),index=X_test.index)]\n",
    ")\n",
    "\n",
    "group=pd.concat([\n",
    "    pd.Series('train',index=X_train.index),\n",
    "    pd.Series('test',index=X_test.index)]\n",
    ")\n",
    "\n",
    "bm.perfEval(show_plot=('ks','roc')).plot(pred,y,group,figure_size=(6,6)) "
   ]
  },
  {
   "cell_type": "markdown",
   "metadata": {},
   "source": [
    "## 8.制作评分卡"
   ]
  },
  {
   "cell_type": "markdown",
   "metadata": {},
   "source": [
    "### 8.1 产生评分卡"
   ]
  },
  {
   "cell_type": "markdown",
   "metadata": {},
   "source": [
    "bm.cardScorer提供了制作评分卡功能\n",
    "\n",
    "+ 注意演示中头两个参数\n",
    "    + model.logit_model回归模型对象,可支持statsmodel与sklearn的回归模型\n",
    "    + woe.varbin,进行woe编码时产生的特征分析报告字典\n",
    "+ odds,pdo,points0分别代表了制作评分卡刻度的三个参数,即发生比、评分翻倍的分数间隔、基础分\n",
    "+ 其他参数请见帮助文档"
   ]
  },
  {
   "cell_type": "code",
   "execution_count": 42,
   "metadata": {},
   "outputs": [],
   "source": [
    "card=bm.cardScorer(model.logit_model,woe.varbin,odds0=0.08,pdo=60,points0=600,digit=0).fit(X_train_woe_fa)"
   ]
  },
  {
   "cell_type": "markdown",
   "metadata": {},
   "source": [
    "经过fit后,产生属性scorecard即评分卡"
   ]
  },
  {
   "cell_type": "code",
   "execution_count": 43,
   "metadata": {
    "scrolled": false
   },
   "outputs": [
    {
     "data": {
      "text/html": [
       "<div>\n",
       "<style scoped>\n",
       "    .dataframe tbody tr th:only-of-type {\n",
       "        vertical-align: middle;\n",
       "    }\n",
       "\n",
       "    .dataframe tbody tr th {\n",
       "        vertical-align: top;\n",
       "    }\n",
       "\n",
       "    .dataframe thead th {\n",
       "        text-align: right;\n",
       "    }\n",
       "</style>\n",
       "<table border=\"1\" class=\"dataframe\">\n",
       "  <thead>\n",
       "    <tr style=\"text-align: right;\">\n",
       "      <th></th>\n",
       "      <th></th>\n",
       "      <th>variable</th>\n",
       "      <th>points</th>\n",
       "      <th>woe</th>\n",
       "      <th>breaks</th>\n",
       "    </tr>\n",
       "  </thead>\n",
       "  <tbody>\n",
       "    <tr>\n",
       "      <th>intercept</th>\n",
       "      <th>intercept</th>\n",
       "      <td>intercept</td>\n",
       "      <td>594.0</td>\n",
       "      <td>NaN</td>\n",
       "      <td>NaN</td>\n",
       "    </tr>\n",
       "    <tr>\n",
       "      <th rowspan=\"4\" valign=\"top\">Score2</th>\n",
       "      <th>[-inf, 0.18)</th>\n",
       "      <td>Score2</td>\n",
       "      <td>-72.0</td>\n",
       "      <td>1.087775</td>\n",
       "      <td>0.18</td>\n",
       "    </tr>\n",
       "    <tr>\n",
       "      <th>[0.18, 0.46)</th>\n",
       "      <td>Score2</td>\n",
       "      <td>-27.0</td>\n",
       "      <td>0.406076</td>\n",
       "      <td>0.46</td>\n",
       "    </tr>\n",
       "    <tr>\n",
       "      <th>[0.46, 0.64)</th>\n",
       "      <td>Score2</td>\n",
       "      <td>15.0</td>\n",
       "      <td>-0.220465</td>\n",
       "      <td>0.64</td>\n",
       "    </tr>\n",
       "    <tr>\n",
       "      <th>[0.64, 0.7)</th>\n",
       "      <td>Score2</td>\n",
       "      <td>42.0</td>\n",
       "      <td>-0.638849</td>\n",
       "      <td>0.7</td>\n",
       "    </tr>\n",
       "    <tr>\n",
       "      <th>...</th>\n",
       "      <th>...</th>\n",
       "      <td>...</td>\n",
       "      <td>...</td>\n",
       "      <td>...</td>\n",
       "      <td>...</td>\n",
       "    </tr>\n",
       "    <tr>\n",
       "      <th rowspan=\"5\" valign=\"top\">Bureau_Var112</th>\n",
       "      <th>[-inf, 60000.0)</th>\n",
       "      <td>Bureau_Var112</td>\n",
       "      <td>-7.0</td>\n",
       "      <td>0.130901</td>\n",
       "      <td>60000.0</td>\n",
       "    </tr>\n",
       "    <tr>\n",
       "      <th>[60000.0, 920000.0)</th>\n",
       "      <td>Bureau_Var112</td>\n",
       "      <td>2.0</td>\n",
       "      <td>-0.040507</td>\n",
       "      <td>920000.0</td>\n",
       "    </tr>\n",
       "    <tr>\n",
       "      <th>[920000.0, inf)</th>\n",
       "      <td>Bureau_Var112</td>\n",
       "      <td>21.0</td>\n",
       "      <td>-0.388374</td>\n",
       "      <td>inf</td>\n",
       "    </tr>\n",
       "    <tr>\n",
       "      <th>special</th>\n",
       "      <td>Bureau_Var112</td>\n",
       "      <td>-0.0</td>\n",
       "      <td>0.000000</td>\n",
       "      <td>special</td>\n",
       "    </tr>\n",
       "    <tr>\n",
       "      <th>missing</th>\n",
       "      <td>Bureau_Var112</td>\n",
       "      <td>-13.0</td>\n",
       "      <td>0.238458</td>\n",
       "      <td>missing</td>\n",
       "    </tr>\n",
       "  </tbody>\n",
       "</table>\n",
       "<p>102 rows × 4 columns</p>\n",
       "</div>"
      ],
      "text/plain": [
       "                                        variable  points       woe    breaks\n",
       "intercept     intercept                intercept   594.0       NaN       NaN\n",
       "Score2        [-inf, 0.18)                Score2   -72.0  1.087775      0.18\n",
       "              [0.18, 0.46)                Score2   -27.0  0.406076      0.46\n",
       "              [0.46, 0.64)                Score2    15.0 -0.220465      0.64\n",
       "              [0.64, 0.7)                 Score2    42.0 -0.638849       0.7\n",
       "...                                          ...     ...       ...       ...\n",
       "Bureau_Var112 [-inf, 60000.0)      Bureau_Var112    -7.0  0.130901   60000.0\n",
       "              [60000.0, 920000.0)  Bureau_Var112     2.0 -0.040507  920000.0\n",
       "              [920000.0, inf)      Bureau_Var112    21.0 -0.388374       inf\n",
       "              special              Bureau_Var112    -0.0  0.000000   special\n",
       "              missing              Bureau_Var112   -13.0  0.238458   missing\n",
       "\n",
       "[102 rows x 4 columns]"
      ]
     },
     "execution_count": 43,
     "metadata": {},
     "output_type": "execute_result"
    }
   ],
   "source": [
    "pd.concat(card.scorecard)"
   ]
  },
  {
   "cell_type": "markdown",
   "metadata": {},
   "source": [
    "### 8.2 产生评分"
   ]
  },
  {
   "cell_type": "markdown",
   "metadata": {},
   "source": [
    "方法transform可以用于产生评分,注意transform后接原始数据"
   ]
  },
  {
   "cell_type": "code",
   "execution_count": 44,
   "metadata": {},
   "outputs": [],
   "source": [
    "X_train_score=card.transform(X_train)\n",
    "X_test_score=card.transform(X_test)"
   ]
  },
  {
   "cell_type": "code",
   "execution_count": 45,
   "metadata": {},
   "outputs": [
    {
     "data": {
      "text/html": [
       "<div>\n",
       "<style scoped>\n",
       "    .dataframe tbody tr th:only-of-type {\n",
       "        vertical-align: middle;\n",
       "    }\n",
       "\n",
       "    .dataframe tbody tr th {\n",
       "        vertical-align: top;\n",
       "    }\n",
       "\n",
       "    .dataframe thead th {\n",
       "        text-align: right;\n",
       "    }\n",
       "</style>\n",
       "<table border=\"1\" class=\"dataframe\">\n",
       "  <thead>\n",
       "    <tr style=\"text-align: right;\">\n",
       "      <th></th>\n",
       "      <th>Score2</th>\n",
       "      <th>Score3</th>\n",
       "      <th>Score1</th>\n",
       "      <th>IP_Var24</th>\n",
       "      <th>Bureau_Var1048</th>\n",
       "      <th>DAYS_EMPLOYED</th>\n",
       "      <th>Bureau_Var24</th>\n",
       "      <th>EDULEVEL</th>\n",
       "      <th>Bureau_Var1153</th>\n",
       "      <th>Previous_Var545</th>\n",
       "      <th>GENDER</th>\n",
       "      <th>OWN_CAR_AGE</th>\n",
       "      <th>Previous_Var22</th>\n",
       "      <th>CITY_RATING</th>\n",
       "      <th>Bureau_Var21</th>\n",
       "      <th>IP_Var31</th>\n",
       "      <th>Bureau_Var112</th>\n",
       "      <th>score</th>\n",
       "    </tr>\n",
       "    <tr>\n",
       "      <th>ID</th>\n",
       "      <th></th>\n",
       "      <th></th>\n",
       "      <th></th>\n",
       "      <th></th>\n",
       "      <th></th>\n",
       "      <th></th>\n",
       "      <th></th>\n",
       "      <th></th>\n",
       "      <th></th>\n",
       "      <th></th>\n",
       "      <th></th>\n",
       "      <th></th>\n",
       "      <th></th>\n",
       "      <th></th>\n",
       "      <th></th>\n",
       "      <th></th>\n",
       "      <th></th>\n",
       "      <th></th>\n",
       "    </tr>\n",
       "  </thead>\n",
       "  <tbody>\n",
       "    <tr>\n",
       "      <th>454807</th>\n",
       "      <td>15.0</td>\n",
       "      <td>-3.0</td>\n",
       "      <td>-3.0</td>\n",
       "      <td>12.0</td>\n",
       "      <td>10.0</td>\n",
       "      <td>19.0</td>\n",
       "      <td>1.0</td>\n",
       "      <td>-5.0</td>\n",
       "      <td>-16.0</td>\n",
       "      <td>-9.0</td>\n",
       "      <td>11.0</td>\n",
       "      <td>-2.0</td>\n",
       "      <td>5.0</td>\n",
       "      <td>1.0</td>\n",
       "      <td>6.0</td>\n",
       "      <td>7.0</td>\n",
       "      <td>-13.0</td>\n",
       "      <td>630.0</td>\n",
       "    </tr>\n",
       "    <tr>\n",
       "      <th>267170</th>\n",
       "      <td>-27.0</td>\n",
       "      <td>48.0</td>\n",
       "      <td>34.0</td>\n",
       "      <td>-35.0</td>\n",
       "      <td>-33.0</td>\n",
       "      <td>19.0</td>\n",
       "      <td>11.0</td>\n",
       "      <td>-5.0</td>\n",
       "      <td>7.0</td>\n",
       "      <td>21.0</td>\n",
       "      <td>11.0</td>\n",
       "      <td>-2.0</td>\n",
       "      <td>-4.0</td>\n",
       "      <td>1.0</td>\n",
       "      <td>2.0</td>\n",
       "      <td>-1.0</td>\n",
       "      <td>2.0</td>\n",
       "      <td>643.0</td>\n",
       "    </tr>\n",
       "    <tr>\n",
       "      <th>405274</th>\n",
       "      <td>-27.0</td>\n",
       "      <td>48.0</td>\n",
       "      <td>-3.0</td>\n",
       "      <td>3.0</td>\n",
       "      <td>10.0</td>\n",
       "      <td>-10.0</td>\n",
       "      <td>11.0</td>\n",
       "      <td>-5.0</td>\n",
       "      <td>9.0</td>\n",
       "      <td>7.0</td>\n",
       "      <td>11.0</td>\n",
       "      <td>-2.0</td>\n",
       "      <td>3.0</td>\n",
       "      <td>1.0</td>\n",
       "      <td>6.0</td>\n",
       "      <td>7.0</td>\n",
       "      <td>2.0</td>\n",
       "      <td>665.0</td>\n",
       "    </tr>\n",
       "    <tr>\n",
       "      <th>210570</th>\n",
       "      <td>-27.0</td>\n",
       "      <td>-3.0</td>\n",
       "      <td>11.0</td>\n",
       "      <td>12.0</td>\n",
       "      <td>10.0</td>\n",
       "      <td>-10.0</td>\n",
       "      <td>1.0</td>\n",
       "      <td>-5.0</td>\n",
       "      <td>-16.0</td>\n",
       "      <td>-21.0</td>\n",
       "      <td>11.0</td>\n",
       "      <td>-2.0</td>\n",
       "      <td>-4.0</td>\n",
       "      <td>1.0</td>\n",
       "      <td>6.0</td>\n",
       "      <td>-1.0</td>\n",
       "      <td>-13.0</td>\n",
       "      <td>544.0</td>\n",
       "    </tr>\n",
       "    <tr>\n",
       "      <th>397070</th>\n",
       "      <td>65.0</td>\n",
       "      <td>29.0</td>\n",
       "      <td>-3.0</td>\n",
       "      <td>-7.0</td>\n",
       "      <td>10.0</td>\n",
       "      <td>11.0</td>\n",
       "      <td>-9.0</td>\n",
       "      <td>-5.0</td>\n",
       "      <td>9.0</td>\n",
       "      <td>21.0</td>\n",
       "      <td>-17.0</td>\n",
       "      <td>-2.0</td>\n",
       "      <td>1.0</td>\n",
       "      <td>18.0</td>\n",
       "      <td>6.0</td>\n",
       "      <td>-9.0</td>\n",
       "      <td>2.0</td>\n",
       "      <td>714.0</td>\n",
       "    </tr>\n",
       "  </tbody>\n",
       "</table>\n",
       "</div>"
      ],
      "text/plain": [
       "        Score2  Score3  Score1  IP_Var24  Bureau_Var1048  DAYS_EMPLOYED  \\\n",
       "ID                                                                        \n",
       "454807    15.0    -3.0    -3.0      12.0            10.0           19.0   \n",
       "267170   -27.0    48.0    34.0     -35.0           -33.0           19.0   \n",
       "405274   -27.0    48.0    -3.0       3.0            10.0          -10.0   \n",
       "210570   -27.0    -3.0    11.0      12.0            10.0          -10.0   \n",
       "397070    65.0    29.0    -3.0      -7.0            10.0           11.0   \n",
       "\n",
       "        Bureau_Var24  EDULEVEL  Bureau_Var1153  Previous_Var545  GENDER  \\\n",
       "ID                                                                        \n",
       "454807           1.0      -5.0           -16.0             -9.0    11.0   \n",
       "267170          11.0      -5.0             7.0             21.0    11.0   \n",
       "405274          11.0      -5.0             9.0              7.0    11.0   \n",
       "210570           1.0      -5.0           -16.0            -21.0    11.0   \n",
       "397070          -9.0      -5.0             9.0             21.0   -17.0   \n",
       "\n",
       "        OWN_CAR_AGE  Previous_Var22  CITY_RATING  Bureau_Var21  IP_Var31  \\\n",
       "ID                                                                         \n",
       "454807         -2.0             5.0          1.0           6.0       7.0   \n",
       "267170         -2.0            -4.0          1.0           2.0      -1.0   \n",
       "405274         -2.0             3.0          1.0           6.0       7.0   \n",
       "210570         -2.0            -4.0          1.0           6.0      -1.0   \n",
       "397070         -2.0             1.0         18.0           6.0      -9.0   \n",
       "\n",
       "        Bureau_Var112  score  \n",
       "ID                            \n",
       "454807          -13.0  630.0  \n",
       "267170            2.0  643.0  \n",
       "405274            2.0  665.0  \n",
       "210570          -13.0  544.0  \n",
       "397070            2.0  714.0  "
      ]
     },
     "execution_count": 45,
     "metadata": {},
     "output_type": "execute_result"
    }
   ],
   "source": [
    "X_train_score.head()"
   ]
  },
  {
   "cell_type": "markdown",
   "metadata": {},
   "source": [
    "### 8.3 评分表现"
   ]
  },
  {
   "cell_type": "markdown",
   "metadata": {},
   "source": [
    "bm.varGroupsReport可用于产生评分表现,其具体用法请参考帮助文档"
   ]
  },
  {
   "cell_type": "code",
   "execution_count": 46,
   "metadata": {},
   "outputs": [],
   "source": [
    "X_score=pd.concat(\n",
    "    [\n",
    "        X_train_score.join(y_train).assign(split='train'),\n",
    "        X_test_score.join(y_test).assign(split='test')\n",
    "    ]\n",
    ")"
   ]
  },
  {
   "cell_type": "code",
   "execution_count": 47,
   "metadata": {
    "scrolled": true
   },
   "outputs": [
    {
     "data": {
      "text/plain": [
       "{'score': [512.0, 555.0, 584.0, 610.0, 634.0, 656.0, 680.0, 708.0, 744.0]}"
      ]
     },
     "execution_count": 47,
     "metadata": {},
     "output_type": "execute_result"
    }
   ],
   "source": [
    "bm.binFreq(X_train_score[['score']],y_train,bin_num_limit=10)[0] #等频分箱结果"
   ]
  },
  {
   "cell_type": "code",
   "execution_count": 48,
   "metadata": {},
   "outputs": [],
   "source": [
    "scoreperf=bm.varGroupsReport(\n",
    "                   breaks_list_dict=bm.binFreq(X_train_score[['score']],y_train,bin_num_limit=10)[0],\n",
    "                   columns=['split'],\n",
    "                   sort_columns={'split':['train','test']},\n",
    "                   output_psi=True,\n",
    "                   psi_base='split==\"train\"',\n",
    "                   target='TARGET',n_jobs=1\n",
    "                  ).fit(X_score)"
   ]
  },
  {
   "cell_type": "markdown",
   "metadata": {},
   "source": [
    "+ 评分表现(简版)"
   ]
  },
  {
   "cell_type": "code",
   "execution_count": 49,
   "metadata": {},
   "outputs": [
    {
     "data": {
      "text/html": [
       "<div>\n",
       "<style scoped>\n",
       "    .dataframe tbody tr th:only-of-type {\n",
       "        vertical-align: middle;\n",
       "    }\n",
       "\n",
       "    .dataframe tbody tr th {\n",
       "        vertical-align: top;\n",
       "    }\n",
       "\n",
       "    .dataframe thead tr th {\n",
       "        text-align: left;\n",
       "    }\n",
       "</style>\n",
       "<table border=\"1\" class=\"dataframe\">\n",
       "  <thead>\n",
       "    <tr>\n",
       "      <th></th>\n",
       "      <th>variable</th>\n",
       "      <th>bin</th>\n",
       "      <th colspan=\"5\" halign=\"left\">train</th>\n",
       "      <th colspan=\"5\" halign=\"left\">test</th>\n",
       "    </tr>\n",
       "    <tr>\n",
       "      <th></th>\n",
       "      <th></th>\n",
       "      <th></th>\n",
       "      <th>count</th>\n",
       "      <th>badprob</th>\n",
       "      <th>woe</th>\n",
       "      <th>total_iv</th>\n",
       "      <th>ks_max</th>\n",
       "      <th>count</th>\n",
       "      <th>badprob</th>\n",
       "      <th>woe</th>\n",
       "      <th>total_iv</th>\n",
       "      <th>ks_max</th>\n",
       "    </tr>\n",
       "  </thead>\n",
       "  <tbody>\n",
       "    <tr>\n",
       "      <th>0</th>\n",
       "      <td>score</td>\n",
       "      <td>[-inf, 512.0)</td>\n",
       "      <td>2002</td>\n",
       "      <td>0.280220</td>\n",
       "      <td>1.511889</td>\n",
       "      <td>1.031554</td>\n",
       "      <td>0.387557</td>\n",
       "      <td>967</td>\n",
       "      <td>0.236815</td>\n",
       "      <td>1.284542</td>\n",
       "      <td>0.800219</td>\n",
       "      <td>0.381045</td>\n",
       "    </tr>\n",
       "    <tr>\n",
       "      <th>1</th>\n",
       "      <td>score</td>\n",
       "      <td>[512.0, 555.0)</td>\n",
       "      <td>1995</td>\n",
       "      <td>0.136842</td>\n",
       "      <td>0.613490</td>\n",
       "      <td>1.031554</td>\n",
       "      <td>0.387557</td>\n",
       "      <td>1013</td>\n",
       "      <td>0.154985</td>\n",
       "      <td>0.758739</td>\n",
       "      <td>0.800219</td>\n",
       "      <td>0.381045</td>\n",
       "    </tr>\n",
       "    <tr>\n",
       "      <th>2</th>\n",
       "      <td>score</td>\n",
       "      <td>[555.0, 584.0)</td>\n",
       "      <td>1966</td>\n",
       "      <td>0.099695</td>\n",
       "      <td>0.254640</td>\n",
       "      <td>1.031554</td>\n",
       "      <td>0.387557</td>\n",
       "      <td>969</td>\n",
       "      <td>0.125903</td>\n",
       "      <td>0.517084</td>\n",
       "      <td>0.800219</td>\n",
       "      <td>0.381045</td>\n",
       "    </tr>\n",
       "    <tr>\n",
       "      <th>3</th>\n",
       "      <td>score</td>\n",
       "      <td>[584.0, 610.0)</td>\n",
       "      <td>2017</td>\n",
       "      <td>0.083292</td>\n",
       "      <td>0.056824</td>\n",
       "      <td>1.031554</td>\n",
       "      <td>0.387557</td>\n",
       "      <td>1007</td>\n",
       "      <td>0.077458</td>\n",
       "      <td>-0.022637</td>\n",
       "      <td>0.800219</td>\n",
       "      <td>0.381045</td>\n",
       "    </tr>\n",
       "    <tr>\n",
       "      <th>4</th>\n",
       "      <td>score</td>\n",
       "      <td>[610.0, 634.0)</td>\n",
       "      <td>2049</td>\n",
       "      <td>0.055149</td>\n",
       "      <td>-0.385731</td>\n",
       "      <td>1.031554</td>\n",
       "      <td>0.387557</td>\n",
       "      <td>993</td>\n",
       "      <td>0.056395</td>\n",
       "      <td>-0.362568</td>\n",
       "      <td>0.800219</td>\n",
       "      <td>0.381045</td>\n",
       "    </tr>\n",
       "    <tr>\n",
       "      <th>5</th>\n",
       "      <td>score</td>\n",
       "      <td>[634.0, 656.0)</td>\n",
       "      <td>1943</td>\n",
       "      <td>0.046835</td>\n",
       "      <td>-0.557902</td>\n",
       "      <td>1.031554</td>\n",
       "      <td>0.387557</td>\n",
       "      <td>950</td>\n",
       "      <td>0.037895</td>\n",
       "      <td>-0.779548</td>\n",
       "      <td>0.800219</td>\n",
       "      <td>0.381045</td>\n",
       "    </tr>\n",
       "    <tr>\n",
       "      <th>6</th>\n",
       "      <td>score</td>\n",
       "      <td>[656.0, 680.0)</td>\n",
       "      <td>2045</td>\n",
       "      <td>0.034719</td>\n",
       "      <td>-0.869877</td>\n",
       "      <td>1.031554</td>\n",
       "      <td>0.387557</td>\n",
       "      <td>1057</td>\n",
       "      <td>0.032167</td>\n",
       "      <td>-0.949371</td>\n",
       "      <td>0.800219</td>\n",
       "      <td>0.381045</td>\n",
       "    </tr>\n",
       "    <tr>\n",
       "      <th>7</th>\n",
       "      <td>score</td>\n",
       "      <td>[680.0, 708.0)</td>\n",
       "      <td>2046</td>\n",
       "      <td>0.030792</td>\n",
       "      <td>-0.993971</td>\n",
       "      <td>1.031554</td>\n",
       "      <td>0.387557</td>\n",
       "      <td>1002</td>\n",
       "      <td>0.031936</td>\n",
       "      <td>-0.956797</td>\n",
       "      <td>0.800219</td>\n",
       "      <td>0.381045</td>\n",
       "    </tr>\n",
       "    <tr>\n",
       "      <th>8</th>\n",
       "      <td>score</td>\n",
       "      <td>[708.0, 744.0)</td>\n",
       "      <td>2000</td>\n",
       "      <td>0.021500</td>\n",
       "      <td>-1.362708</td>\n",
       "      <td>1.031554</td>\n",
       "      <td>0.387557</td>\n",
       "      <td>947</td>\n",
       "      <td>0.024287</td>\n",
       "      <td>-1.238454</td>\n",
       "      <td>0.800219</td>\n",
       "      <td>0.381045</td>\n",
       "    </tr>\n",
       "    <tr>\n",
       "      <th>9</th>\n",
       "      <td>score</td>\n",
       "      <td>[744.0, inf)</td>\n",
       "      <td>2037</td>\n",
       "      <td>0.004909</td>\n",
       "      <td>-2.856467</td>\n",
       "      <td>1.031554</td>\n",
       "      <td>0.387557</td>\n",
       "      <td>995</td>\n",
       "      <td>0.016080</td>\n",
       "      <td>-1.659180</td>\n",
       "      <td>0.800219</td>\n",
       "      <td>0.381045</td>\n",
       "    </tr>\n",
       "    <tr>\n",
       "      <th>10</th>\n",
       "      <td>score</td>\n",
       "      <td>special</td>\n",
       "      <td>0</td>\n",
       "      <td>NaN</td>\n",
       "      <td>0.000000</td>\n",
       "      <td>1.031554</td>\n",
       "      <td>0.387557</td>\n",
       "      <td>0</td>\n",
       "      <td>NaN</td>\n",
       "      <td>0.000000</td>\n",
       "      <td>0.800219</td>\n",
       "      <td>0.381045</td>\n",
       "    </tr>\n",
       "    <tr>\n",
       "      <th>11</th>\n",
       "      <td>score</td>\n",
       "      <td>missing</td>\n",
       "      <td>0</td>\n",
       "      <td>NaN</td>\n",
       "      <td>0.000000</td>\n",
       "      <td>1.031554</td>\n",
       "      <td>0.387557</td>\n",
       "      <td>0</td>\n",
       "      <td>NaN</td>\n",
       "      <td>0.000000</td>\n",
       "      <td>0.800219</td>\n",
       "      <td>0.381045</td>\n",
       "    </tr>\n",
       "  </tbody>\n",
       "</table>\n",
       "</div>"
      ],
      "text/plain": [
       "   variable             bin train                                          \\\n",
       "                            count   badprob       woe  total_iv    ks_max   \n",
       "0     score   [-inf, 512.0)  2002  0.280220  1.511889  1.031554  0.387557   \n",
       "1     score  [512.0, 555.0)  1995  0.136842  0.613490  1.031554  0.387557   \n",
       "2     score  [555.0, 584.0)  1966  0.099695  0.254640  1.031554  0.387557   \n",
       "3     score  [584.0, 610.0)  2017  0.083292  0.056824  1.031554  0.387557   \n",
       "4     score  [610.0, 634.0)  2049  0.055149 -0.385731  1.031554  0.387557   \n",
       "5     score  [634.0, 656.0)  1943  0.046835 -0.557902  1.031554  0.387557   \n",
       "6     score  [656.0, 680.0)  2045  0.034719 -0.869877  1.031554  0.387557   \n",
       "7     score  [680.0, 708.0)  2046  0.030792 -0.993971  1.031554  0.387557   \n",
       "8     score  [708.0, 744.0)  2000  0.021500 -1.362708  1.031554  0.387557   \n",
       "9     score    [744.0, inf)  2037  0.004909 -2.856467  1.031554  0.387557   \n",
       "10    score         special     0       NaN  0.000000  1.031554  0.387557   \n",
       "11    score         missing     0       NaN  0.000000  1.031554  0.387557   \n",
       "\n",
       "    test                                          \n",
       "   count   badprob       woe  total_iv    ks_max  \n",
       "0    967  0.236815  1.284542  0.800219  0.381045  \n",
       "1   1013  0.154985  0.758739  0.800219  0.381045  \n",
       "2    969  0.125903  0.517084  0.800219  0.381045  \n",
       "3   1007  0.077458 -0.022637  0.800219  0.381045  \n",
       "4    993  0.056395 -0.362568  0.800219  0.381045  \n",
       "5    950  0.037895 -0.779548  0.800219  0.381045  \n",
       "6   1057  0.032167 -0.949371  0.800219  0.381045  \n",
       "7   1002  0.031936 -0.956797  0.800219  0.381045  \n",
       "8    947  0.024287 -1.238454  0.800219  0.381045  \n",
       "9    995  0.016080 -1.659180  0.800219  0.381045  \n",
       "10     0       NaN  0.000000  0.800219  0.381045  \n",
       "11     0       NaN  0.000000  0.800219  0.381045  "
      ]
     },
     "execution_count": 49,
     "metadata": {},
     "output_type": "execute_result"
    }
   ],
   "source": [
    "scoreperf.report_dict['report_brief']"
   ]
  },
  {
   "cell_type": "markdown",
   "metadata": {},
   "source": [
    "+ 评分表现(PSI)"
   ]
  },
  {
   "cell_type": "code",
   "execution_count": 50,
   "metadata": {},
   "outputs": [
    {
     "data": {
      "text/html": [
       "<div>\n",
       "<style scoped>\n",
       "    .dataframe tbody tr th:only-of-type {\n",
       "        vertical-align: middle;\n",
       "    }\n",
       "\n",
       "    .dataframe tbody tr th {\n",
       "        vertical-align: top;\n",
       "    }\n",
       "\n",
       "    .dataframe thead tr th {\n",
       "        text-align: left;\n",
       "    }\n",
       "</style>\n",
       "<table border=\"1\" class=\"dataframe\">\n",
       "  <thead>\n",
       "    <tr>\n",
       "      <th></th>\n",
       "      <th>variable</th>\n",
       "      <th>bin</th>\n",
       "      <th>train</th>\n",
       "      <th>test</th>\n",
       "    </tr>\n",
       "    <tr>\n",
       "      <th></th>\n",
       "      <th></th>\n",
       "      <th></th>\n",
       "      <th>count_distr</th>\n",
       "      <th>count_distr</th>\n",
       "    </tr>\n",
       "  </thead>\n",
       "  <tbody>\n",
       "    <tr>\n",
       "      <th>0</th>\n",
       "      <td>score</td>\n",
       "      <td>[-inf, 512.0)</td>\n",
       "      <td>0.099602</td>\n",
       "      <td>0.097677</td>\n",
       "    </tr>\n",
       "    <tr>\n",
       "      <th>1</th>\n",
       "      <td>score</td>\n",
       "      <td>[512.0, 555.0)</td>\n",
       "      <td>0.099254</td>\n",
       "      <td>0.102323</td>\n",
       "    </tr>\n",
       "    <tr>\n",
       "      <th>2</th>\n",
       "      <td>score</td>\n",
       "      <td>[555.0, 584.0)</td>\n",
       "      <td>0.097811</td>\n",
       "      <td>0.097879</td>\n",
       "    </tr>\n",
       "    <tr>\n",
       "      <th>3</th>\n",
       "      <td>score</td>\n",
       "      <td>[584.0, 610.0)</td>\n",
       "      <td>0.100348</td>\n",
       "      <td>0.101717</td>\n",
       "    </tr>\n",
       "    <tr>\n",
       "      <th>4</th>\n",
       "      <td>score</td>\n",
       "      <td>[610.0, 634.0)</td>\n",
       "      <td>0.101940</td>\n",
       "      <td>0.100303</td>\n",
       "    </tr>\n",
       "    <tr>\n",
       "      <th>5</th>\n",
       "      <td>score</td>\n",
       "      <td>[634.0, 656.0)</td>\n",
       "      <td>0.096667</td>\n",
       "      <td>0.095960</td>\n",
       "    </tr>\n",
       "    <tr>\n",
       "      <th>6</th>\n",
       "      <td>score</td>\n",
       "      <td>[656.0, 680.0)</td>\n",
       "      <td>0.101741</td>\n",
       "      <td>0.106768</td>\n",
       "    </tr>\n",
       "    <tr>\n",
       "      <th>7</th>\n",
       "      <td>score</td>\n",
       "      <td>[680.0, 708.0)</td>\n",
       "      <td>0.101791</td>\n",
       "      <td>0.101212</td>\n",
       "    </tr>\n",
       "    <tr>\n",
       "      <th>8</th>\n",
       "      <td>score</td>\n",
       "      <td>[708.0, 744.0)</td>\n",
       "      <td>0.099502</td>\n",
       "      <td>0.095657</td>\n",
       "    </tr>\n",
       "    <tr>\n",
       "      <th>9</th>\n",
       "      <td>score</td>\n",
       "      <td>[744.0, inf)</td>\n",
       "      <td>0.101343</td>\n",
       "      <td>0.100505</td>\n",
       "    </tr>\n",
       "    <tr>\n",
       "      <th>10</th>\n",
       "      <td>score</td>\n",
       "      <td>missing</td>\n",
       "      <td>0.000000</td>\n",
       "      <td>0.000000</td>\n",
       "    </tr>\n",
       "    <tr>\n",
       "      <th>11</th>\n",
       "      <td>score</td>\n",
       "      <td>psi</td>\n",
       "      <td>0.000000</td>\n",
       "      <td>0.000586</td>\n",
       "    </tr>\n",
       "    <tr>\n",
       "      <th>12</th>\n",
       "      <td>score</td>\n",
       "      <td>special</td>\n",
       "      <td>0.000000</td>\n",
       "      <td>0.000000</td>\n",
       "    </tr>\n",
       "  </tbody>\n",
       "</table>\n",
       "</div>"
      ],
      "text/plain": [
       "   variable             bin       train        test\n",
       "                            count_distr count_distr\n",
       "0     score   [-inf, 512.0)    0.099602    0.097677\n",
       "1     score  [512.0, 555.0)    0.099254    0.102323\n",
       "2     score  [555.0, 584.0)    0.097811    0.097879\n",
       "3     score  [584.0, 610.0)    0.100348    0.101717\n",
       "4     score  [610.0, 634.0)    0.101940    0.100303\n",
       "5     score  [634.0, 656.0)    0.096667    0.095960\n",
       "6     score  [656.0, 680.0)    0.101741    0.106768\n",
       "7     score  [680.0, 708.0)    0.101791    0.101212\n",
       "8     score  [708.0, 744.0)    0.099502    0.095657\n",
       "9     score    [744.0, inf)    0.101343    0.100505\n",
       "10    score         missing    0.000000    0.000000\n",
       "11    score             psi    0.000000    0.000586\n",
       "12    score         special    0.000000    0.000000"
      ]
     },
     "execution_count": 50,
     "metadata": {},
     "output_type": "execute_result"
    }
   ],
   "source": [
    "scoreperf.report_dict['report_psi']"
   ]
  },
  {
   "cell_type": "markdown",
   "metadata": {},
   "source": [
    "+ 评分表现(绘图)"
   ]
  },
  {
   "cell_type": "markdown",
   "metadata": {},
   "source": [
    "bm.varGroupsPlot提供了组特征分析报告的绘图，在此可以绘制评分表现的图"
   ]
  },
  {
   "cell_type": "code",
   "execution_count": 51,
   "metadata": {},
   "outputs": [
    {
     "data": {
      "image/png": "[encoded data removed]",
      "text/plain": [
       "<Figure size 1500x600 with 3 Axes>"
      ]
     },
     "execution_count": 51,
     "metadata": {},
     "output_type": "execute_result"
    }
   ],
   "source": [
    "figs=bm.varGroupsPlot(breaks_list=bm.binFreq(X_train_score[['score']],y_train,bin_num_limit=5)[0],#10箱字太小,设定为5箱\n",
    "                  column='split',\n",
    "                  target='TARGET',\n",
    "                  sort_column=['train','test'],\n",
    "                  n_jobs=1\n",
    "                 ).plot(X_score,figure_size=(15,6))\n",
    "figs['score']"
   ]
  }
 ],
 "metadata": {
  "kernelspec": {
   "display_name": "Python 3 (ipykernel)",
   "language": "python",
   "name": "python3"
  },
  "language_info": {
   "codemirror_mode": {
    "name": "ipython",
    "version": 3
   },
   "file_extension": ".py",
   "mimetype": "text/x-python",
   "name": "python",
   "nbconvert_exporter": "python",
   "pygments_lexer": "ipython3",
   "version": "3.9.7"
  },
  "toc": {
   "base_numbering": 1,
   "nav_menu": {},
   "number_sections": true,
   "sideBar": true,
   "skip_h1_title": false,
   "title_cell": "Table of Contents",
   "title_sidebar": "Contents",
   "toc_cell": false,
   "toc_position": {
    "height": "calc(100% - 180px)",
    "left": "10px",
    "top": "150px",
    "width": "165px"
   },
   "toc_section_display": true,
   "toc_window_display": true
  }
 },
 "nbformat": 4,
 "nbformat_minor": 2
}
