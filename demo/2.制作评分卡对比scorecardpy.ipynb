{
 "cells": [
  {
   "cell_type": "markdown",
   "id": "7ab1e9a9",
   "metadata": {},
   "source": [
    "# BDMLtools制作评分卡并与scorecardpy对比  <font size=3 >by 曾珂</font>"
   ]
  },
  {
   "cell_type": "code",
   "execution_count": 1,
   "id": "5bb112ca",
   "metadata": {},
   "outputs": [],
   "source": [
    "import scorecardpy as sc\n",
    "import BDMLtools as bm\n",
    "import pandas as pd"
   ]
  },
  {
   "cell_type": "code",
   "execution_count": 2,
   "id": "80ff2641",
   "metadata": {},
   "outputs": [
    {
     "data": {
      "text/plain": [
       "'0.1.8'"
      ]
     },
     "execution_count": 2,
     "metadata": {},
     "output_type": "execute_result"
    }
   ],
   "source": [
    "bm.__version__"
   ]
  },
  {
   "cell_type": "code",
   "execution_count": 3,
   "id": "88b633a3",
   "metadata": {},
   "outputs": [
    {
     "data": {
      "text/plain": [
       "'0.1.9.2'"
      ]
     },
     "execution_count": 3,
     "metadata": {},
     "output_type": "execute_result"
    }
   ],
   "source": [
    "sc.__version__"
   ]
  },
  {
   "cell_type": "markdown",
   "id": "5b852b63",
   "metadata": {},
   "source": [
    "+ load germancredit data"
   ]
  },
  {
   "cell_type": "code",
   "execution_count": 4,
   "id": "64408b4a",
   "metadata": {},
   "outputs": [],
   "source": [
    "dt=sc.germancredit().copy()\n",
    "dt['creditability']=dt['creditability'].map({'good':0,'bad':1})"
   ]
  },
  {
   "cell_type": "markdown",
   "id": "bf96c47e",
   "metadata": {},
   "source": [
    "+ 将germancredit的有序category类型转换为有序数值类型"
   ]
  },
  {
   "cell_type": "code",
   "execution_count": 5,
   "id": "bd1bcbf8",
   "metadata": {},
   "outputs": [],
   "source": [
    "da=bm.dtypeAllocator().fit(dt)\n",
    "dt=da.transform(dt)"
   ]
  },
  {
   "cell_type": "code",
   "execution_count": 6,
   "id": "e9d292e3",
   "metadata": {},
   "outputs": [],
   "source": [
    "X=dt.drop('creditability',axis=1)\n",
    "y=dt['creditability']"
   ]
  },
  {
   "cell_type": "markdown",
   "id": "6ac366d9",
   "metadata": {},
   "source": [
    "## 制作评分卡"
   ]
  },
  {
   "cell_type": "markdown",
   "id": "a029f332",
   "metadata": {},
   "source": [
    "### 产生特征分析报告"
   ]
  },
  {
   "cell_type": "code",
   "execution_count": 7,
   "id": "0e5b9a71",
   "metadata": {},
   "outputs": [],
   "source": [
    "breaks_list_user={'age.in.years': [26.0, 30.0, 35.0],\n",
    " 'credit.amount': [4000.0, 6200.0, 8000.0],\n",
    " 'credit.history': [2.0, 3.0, 4.0],\n",
    " 'duration.in.month': [8.0, 16.0, 44.0],\n",
    " 'foreign.worker': [1],\n",
    " 'housing': [1.0],\n",
    " 'installment.rate.in.percentage.of.disposable.income': [2.0, 3.0, 4.0],\n",
    " 'job': [2.0, 3.0],\n",
    " 'number.of.existing.credits.at.this.bank': [2.0],\n",
    " 'number.of.people.being.liable.to.provide.maintenance.for': [2.0],\n",
    " 'other.debtors.or.guarantors': [2.0],\n",
    " 'other.installment.plans': [2.0],\n",
    " 'personal.status.and.sex': [2.0, 3.0],\n",
    " 'present.employment.since': [2.0, 3.0],\n",
    " 'present.residence.since': [2.0],\n",
    " 'property': [1.0, 2.0, 3.0],\n",
    " 'purpose': ['retraining%,%car (used)',\n",
    "  'radio/television',\n",
    "  'furniture/equipment%,%domestic appliances%,%business',\n",
    "  'repairs%,%car (new)%,%others%,%education'],\n",
    " 'savings.account.and.bonds': [1.0, 2.0, 3.0],\n",
    " 'status.of.existing.checking.account': [1.0, 2.0, 3.0],\n",
    " 'telephone': [1.0]}"
   ]
  },
  {
   "cell_type": "code",
   "execution_count": 8,
   "id": "63e100ec",
   "metadata": {},
   "outputs": [
    {
     "name": "stdout",
     "output_type": "stream",
     "text": [
      "[INFO] creating woe binning ...\n",
      "CPU times: user 526 ms, sys: 8.41 ms, total: 535 ms\n",
      "Wall time: 539 ms\n"
     ]
    }
   ],
   "source": [
    "%%time\n",
    "bin_sc=sc.woebin(dt,y='creditability',breaks_list=breaks_list_user,no_cores=1)"
   ]
  },
  {
   "cell_type": "code",
   "execution_count": 9,
   "id": "d01b3ded",
   "metadata": {},
   "outputs": [],
   "source": [
    "import numpy as np"
   ]
  },
  {
   "cell_type": "code",
   "execution_count": 10,
   "id": "6af1073a",
   "metadata": {},
   "outputs": [
    {
     "name": "stdout",
     "output_type": "stream",
     "text": [
      "CPU times: user 238 ms, sys: 5.38 ms, total: 243 ms\n",
      "Wall time: 240 ms\n"
     ]
    }
   ],
   "source": [
    "%%time\n",
    "bin_bm=bm.varReport(breaks_list_dict=breaks_list_user,n_jobs=1).fit(X,y).var_report_dict"
   ]
  },
  {
   "cell_type": "markdown",
   "id": "cff562c2",
   "metadata": {},
   "source": [
    "### woe编码"
   ]
  },
  {
   "cell_type": "code",
   "execution_count": 11,
   "id": "707e31bc",
   "metadata": {},
   "outputs": [
    {
     "name": "stdout",
     "output_type": "stream",
     "text": [
      "[INFO] converting into woe values ...\n",
      "CPU times: user 296 ms, sys: 8.66 ms, total: 304 ms\n",
      "Wall time: 300 ms\n"
     ]
    }
   ],
   "source": [
    "%%time\n",
    "dt_woe_sc = sc.woebin_ply(dt, bins=bin_sc,no_cores=1)"
   ]
  },
  {
   "cell_type": "code",
   "execution_count": 12,
   "id": "57e5f5e4",
   "metadata": {},
   "outputs": [
    {
     "name": "stdout",
     "output_type": "stream",
     "text": [
      "CPU times: user 66.6 ms, sys: 2.42 ms, total: 69.1 ms\n",
      "Wall time: 67.8 ms\n"
     ]
    }
   ],
   "source": [
    "%%time\n",
    "dt_woe_bm = bm.woeTransformer(varbin=bin_bm,n_jobs=1).transform(X,y)"
   ]
  },
  {
   "cell_type": "markdown",
   "id": "1b88ce37",
   "metadata": {},
   "source": [
    "+ 对比两份数据的编码结果"
   ]
  },
  {
   "cell_type": "code",
   "execution_count": 13,
   "id": "7dbdea44",
   "metadata": {},
   "outputs": [],
   "source": [
    "dt_woe_sc_1=dt_woe_sc.loc[:,dt_woe_sc.columns.str.contains('woe')]\n",
    "dt_woe_sc_1.columns=[i[:-4] for i in dt_woe_sc_1.columns]\n",
    "dt_woe_sc_1=dt_woe_sc_1[dt_woe_bm.columns]"
   ]
  },
  {
   "cell_type": "markdown",
   "id": "fa820b07",
   "metadata": {},
   "source": [
    "+ 两者数值上几乎无区别，低精度类型条件下数值相等"
   ]
  },
  {
   "cell_type": "code",
   "execution_count": 14,
   "id": "20e828ee",
   "metadata": {
    "scrolled": true
   },
   "outputs": [
    {
     "data": {
      "text/plain": [
       "True"
      ]
     },
     "execution_count": 14,
     "metadata": {},
     "output_type": "execute_result"
    }
   ],
   "source": [
    "dt_woe_sc_1.astype('float32').equals(dt_woe_bm.astype('float32')) #结果对比"
   ]
  },
  {
   "cell_type": "markdown",
   "id": "952560ed",
   "metadata": {},
   "source": [
    "### 回归建模"
   ]
  },
  {
   "cell_type": "code",
   "execution_count": 15,
   "id": "f84275da",
   "metadata": {},
   "outputs": [],
   "source": [
    "from sklearn.linear_model import LogisticRegression"
   ]
  },
  {
   "cell_type": "markdown",
   "id": "30d51538",
   "metadata": {},
   "source": [
    "+ 使用lr建模"
   ]
  },
  {
   "cell_type": "code",
   "execution_count": 16,
   "id": "2ad8dac0",
   "metadata": {},
   "outputs": [],
   "source": [
    "lr_sc = LogisticRegression(penalty='l1',C=0.9,solver='saga').fit(dt_woe_sc_1, y)"
   ]
  },
  {
   "cell_type": "code",
   "execution_count": 17,
   "id": "3efd929b",
   "metadata": {},
   "outputs": [],
   "source": [
    "lr_bm = LogisticRegression(penalty='l1',C=0.9,solver='saga').fit(dt_woe_bm, y)"
   ]
  },
  {
   "cell_type": "markdown",
   "id": "7abbd06a",
   "metadata": {},
   "source": [
    "BDMLtools的woe值转化数据dt_woe_bm(float64)与scorecardpy的woe转化数据dt_woe_sc(float64)有精度上细微的差别,,因此回归系数在会有细微差别"
   ]
  },
  {
   "cell_type": "code",
   "execution_count": 18,
   "id": "f1dfa247",
   "metadata": {},
   "outputs": [
    {
     "data": {
      "text/plain": [
       "array([[0.61136833, 0.88740226, 0.64829701, 0.6422049 , 0.72717359,\n",
       "        0.72096231, 1.65427363, 0.        , 0.        , 0.        ,\n",
       "        0.96038592, 0.63854304, 0.        , 0.55413423, 0.        ,\n",
       "        0.40905193, 1.01360447, 0.77094897, 0.78980351, 0.58570739]])"
      ]
     },
     "execution_count": 18,
     "metadata": {},
     "output_type": "execute_result"
    }
   ],
   "source": [
    "lr_sc.coef_"
   ]
  },
  {
   "cell_type": "code",
   "execution_count": 19,
   "id": "15871edf",
   "metadata": {},
   "outputs": [
    {
     "data": {
      "text/plain": [
       "array([[0.61137423, 0.88738566, 0.64828619, 0.64220131, 0.72711178,\n",
       "        0.72100676, 1.65428838, 0.        , 0.        , 0.        ,\n",
       "        0.96039284, 0.63857966, 0.        , 0.55408399, 0.        ,\n",
       "        0.40907007, 1.01362508, 0.7709723 , 0.78982361, 0.5857749 ]])"
      ]
     },
     "execution_count": 19,
     "metadata": {},
     "output_type": "execute_result"
    }
   ],
   "source": [
    "lr_bm.coef_"
   ]
  },
  {
   "cell_type": "code",
   "execution_count": 20,
   "id": "6d553f49",
   "metadata": {},
   "outputs": [
    {
     "data": {
      "text/plain": [
       "array(['job', 'number.of.existing.credits.at.this.bank',\n",
       "       'number.of.people.being.liable.to.provide.maintenance.for',\n",
       "       'personal.status.and.sex', 'present.residence.since'], dtype=object)"
      ]
     },
     "execution_count": 20,
     "metadata": {},
     "output_type": "execute_result"
    }
   ],
   "source": [
    "lr_sc.feature_names_in_[lr_bm.coef_[0]==0]"
   ]
  },
  {
   "cell_type": "markdown",
   "id": "e79fd3cf",
   "metadata": {},
   "source": [
    "+ 制作评分卡\n",
    "\n",
    "    这里scorecardpy产生评分卡时会去掉系数为0的特征,而bm会保留这些特征\n",
    "    + 这种区别不会对后续打分带来任何影响,因为系数为0时score_point也为0"
   ]
  },
  {
   "cell_type": "code",
   "execution_count": 21,
   "id": "5dc7f6eb",
   "metadata": {},
   "outputs": [],
   "source": [
    "card_sc = sc.scorecard(bin_sc, lr_sc, dt_woe_sc_1.columns,\n",
    "                           points0=600,\n",
    "                           odds0=0.05263157894736842,\n",
    "                           pdo=50)"
   ]
  },
  {
   "cell_type": "code",
   "execution_count": 22,
   "id": "09910be4",
   "metadata": {},
   "outputs": [],
   "source": [
    "card_obj = bm.cardScorer(lr_bm,bin_bm,\n",
    "                        odds0=0.05263157894736842,\n",
    "                        pdo=50,\n",
    "                        points0=600).fit(X)\n",
    "\n",
    "#bm.cardScorer可支持sklearn的LogisticRegression,也可支持statsmodels的glm-logit回归或logit回归\n",
    "\n",
    "card_bm = card_obj.scorecard"
   ]
  },
  {
   "cell_type": "code",
   "execution_count": 23,
   "id": "186b5b3f",
   "metadata": {},
   "outputs": [
    {
     "name": "stdout",
     "output_type": "stream",
     "text": [
      "16 21\n"
     ]
    }
   ],
   "source": [
    "print(len(card_sc),len(card_bm))"
   ]
  },
  {
   "cell_type": "markdown",
   "id": "81b74d9a",
   "metadata": {},
   "source": [
    "+ BDMLtools的特征分析报告文件中,任何变量都会存在missing水平,用以标示缺失值或特殊值,\n",
    "\n",
    "    + 数据无缺失的时missing的woe为0,因此points为0,不会对打分产生任何影响\n",
    "    + 若希望赋予missing值特殊的woe(比如woe较高(风险较大)),可以通过bm.cardScorer的woe_missing参数设定,这也是BMDLtools的特色\n",
    "    + 更多细节请参考帮助文档"
   ]
  },
  {
   "cell_type": "code",
   "execution_count": 24,
   "id": "c7f3f6b7",
   "metadata": {},
   "outputs": [
    {
     "data": {
      "text/html": [
       "<div>\n",
       "<style scoped>\n",
       "    .dataframe tbody tr th:only-of-type {\n",
       "        vertical-align: middle;\n",
       "    }\n",
       "\n",
       "    .dataframe tbody tr th {\n",
       "        vertical-align: top;\n",
       "    }\n",
       "\n",
       "    .dataframe thead th {\n",
       "        text-align: right;\n",
       "    }\n",
       "</style>\n",
       "<table border=\"1\" class=\"dataframe\">\n",
       "  <thead>\n",
       "    <tr style=\"text-align: right;\">\n",
       "      <th></th>\n",
       "      <th></th>\n",
       "      <th>points</th>\n",
       "    </tr>\n",
       "  </thead>\n",
       "  <tbody>\n",
       "    <tr>\n",
       "      <th>intercept</th>\n",
       "      <th>intercept</th>\n",
       "      <td>449.0</td>\n",
       "    </tr>\n",
       "    <tr>\n",
       "      <th rowspan=\"6\" valign=\"top\">age.in.years</th>\n",
       "      <th>[-inf, 26.0)</th>\n",
       "      <td>-23.0</td>\n",
       "    </tr>\n",
       "    <tr>\n",
       "      <th>[26.0, 30.0)</th>\n",
       "      <td>-3.0</td>\n",
       "    </tr>\n",
       "    <tr>\n",
       "      <th>[30.0, 35.0)</th>\n",
       "      <td>-2.0</td>\n",
       "    </tr>\n",
       "    <tr>\n",
       "      <th>[35.0, inf)</th>\n",
       "      <td>14.0</td>\n",
       "    </tr>\n",
       "    <tr>\n",
       "      <th>special</th>\n",
       "      <td>-0.0</td>\n",
       "    </tr>\n",
       "    <tr>\n",
       "      <th>missing</th>\n",
       "      <td>-0.0</td>\n",
       "    </tr>\n",
       "    <tr>\n",
       "      <th rowspan=\"6\" valign=\"top\">credit.amount</th>\n",
       "      <th>[-inf, 4000.0)</th>\n",
       "      <td>13.0</td>\n",
       "    </tr>\n",
       "    <tr>\n",
       "      <th>[4000.0, 6200.0)</th>\n",
       "      <td>-22.0</td>\n",
       "    </tr>\n",
       "    <tr>\n",
       "      <th>[6200.0, 8000.0)</th>\n",
       "      <td>-25.0</td>\n",
       "    </tr>\n",
       "    <tr>\n",
       "      <th>[8000.0, inf)</th>\n",
       "      <td>-65.0</td>\n",
       "    </tr>\n",
       "    <tr>\n",
       "      <th>special</th>\n",
       "      <td>-0.0</td>\n",
       "    </tr>\n",
       "    <tr>\n",
       "      <th>missing</th>\n",
       "      <td>-0.0</td>\n",
       "    </tr>\n",
       "  </tbody>\n",
       "</table>\n",
       "</div>"
      ],
      "text/plain": [
       "                                points\n",
       "intercept     intercept          449.0\n",
       "age.in.years  [-inf, 26.0)       -23.0\n",
       "              [26.0, 30.0)        -3.0\n",
       "              [30.0, 35.0)        -2.0\n",
       "              [35.0, inf)         14.0\n",
       "              special             -0.0\n",
       "              missing             -0.0\n",
       "credit.amount [-inf, 4000.0)      13.0\n",
       "              [4000.0, 6200.0)   -22.0\n",
       "              [6200.0, 8000.0)   -25.0\n",
       "              [8000.0, inf)      -65.0\n",
       "              special             -0.0\n",
       "              missing             -0.0"
      ]
     },
     "execution_count": 24,
     "metadata": {},
     "output_type": "execute_result"
    }
   ],
   "source": [
    "pd.concat(card_bm)[['points']].head(13)"
   ]
  },
  {
   "cell_type": "code",
   "execution_count": 25,
   "id": "3692219d",
   "metadata": {},
   "outputs": [
    {
     "data": {
      "text/html": [
       "<div>\n",
       "<style scoped>\n",
       "    .dataframe tbody tr th:only-of-type {\n",
       "        vertical-align: middle;\n",
       "    }\n",
       "\n",
       "    .dataframe tbody tr th {\n",
       "        vertical-align: top;\n",
       "    }\n",
       "\n",
       "    .dataframe thead th {\n",
       "        text-align: right;\n",
       "    }\n",
       "</style>\n",
       "<table border=\"1\" class=\"dataframe\">\n",
       "  <thead>\n",
       "    <tr style=\"text-align: right;\">\n",
       "      <th></th>\n",
       "      <th></th>\n",
       "      <th>variable</th>\n",
       "      <th>bin</th>\n",
       "      <th>points</th>\n",
       "    </tr>\n",
       "  </thead>\n",
       "  <tbody>\n",
       "    <tr>\n",
       "      <th>basepoints</th>\n",
       "      <th>0</th>\n",
       "      <td>basepoints</td>\n",
       "      <td>NaN</td>\n",
       "      <td>449.0</td>\n",
       "    </tr>\n",
       "    <tr>\n",
       "      <th rowspan=\"4\" valign=\"top\">age.in.years</th>\n",
       "      <th>55</th>\n",
       "      <td>age.in.years</td>\n",
       "      <td>[-inf,26.0)</td>\n",
       "      <td>-23.0</td>\n",
       "    </tr>\n",
       "    <tr>\n",
       "      <th>56</th>\n",
       "      <td>age.in.years</td>\n",
       "      <td>[26.0,30.0)</td>\n",
       "      <td>-3.0</td>\n",
       "    </tr>\n",
       "    <tr>\n",
       "      <th>57</th>\n",
       "      <td>age.in.years</td>\n",
       "      <td>[30.0,35.0)</td>\n",
       "      <td>-2.0</td>\n",
       "    </tr>\n",
       "    <tr>\n",
       "      <th>58</th>\n",
       "      <td>age.in.years</td>\n",
       "      <td>[35.0,inf)</td>\n",
       "      <td>14.0</td>\n",
       "    </tr>\n",
       "    <tr>\n",
       "      <th rowspan=\"4\" valign=\"top\">credit.amount</th>\n",
       "      <th>4</th>\n",
       "      <td>credit.amount</td>\n",
       "      <td>[-inf,4000.0)</td>\n",
       "      <td>13.0</td>\n",
       "    </tr>\n",
       "    <tr>\n",
       "      <th>5</th>\n",
       "      <td>credit.amount</td>\n",
       "      <td>[4000.0,6200.0)</td>\n",
       "      <td>-22.0</td>\n",
       "    </tr>\n",
       "    <tr>\n",
       "      <th>6</th>\n",
       "      <td>credit.amount</td>\n",
       "      <td>[6200.0,8000.0)</td>\n",
       "      <td>-25.0</td>\n",
       "    </tr>\n",
       "    <tr>\n",
       "      <th>7</th>\n",
       "      <td>credit.amount</td>\n",
       "      <td>[8000.0,inf)</td>\n",
       "      <td>-65.0</td>\n",
       "    </tr>\n",
       "  </tbody>\n",
       "</table>\n",
       "</div>"
      ],
      "text/plain": [
       "                       variable              bin  points\n",
       "basepoints    0      basepoints              NaN   449.0\n",
       "age.in.years  55   age.in.years      [-inf,26.0)   -23.0\n",
       "              56   age.in.years      [26.0,30.0)    -3.0\n",
       "              57   age.in.years      [30.0,35.0)    -2.0\n",
       "              58   age.in.years       [35.0,inf)    14.0\n",
       "credit.amount 4   credit.amount    [-inf,4000.0)    13.0\n",
       "              5   credit.amount  [4000.0,6200.0)   -22.0\n",
       "              6   credit.amount  [6200.0,8000.0)   -25.0\n",
       "              7   credit.amount     [8000.0,inf)   -65.0"
      ]
     },
     "execution_count": 25,
     "metadata": {},
     "output_type": "execute_result"
    }
   ],
   "source": [
    "pd.concat(card_sc)[['variable','bin','points']].head(9)"
   ]
  },
  {
   "cell_type": "markdown",
   "id": "2245f927",
   "metadata": {},
   "source": [
    "+ 对比得分结果"
   ]
  },
  {
   "cell_type": "code",
   "execution_count": 26,
   "id": "5eff1d34",
   "metadata": {},
   "outputs": [
    {
     "name": "stdout",
     "output_type": "stream",
     "text": [
      "CPU times: user 233 ms, sys: 6.71 ms, total: 239 ms\n",
      "Wall time: 238 ms\n"
     ]
    },
    {
     "name": "stderr",
     "output_type": "stream",
     "text": [
      "\n",
      "A value is trying to be set on a copy of a slice from a DataFrame.\n",
      "Try using .loc[row_indexer,col_indexer] = value instead\n",
      "\n",
      "See the caveats in the documentation: https://pandas.pydata.org/pandas-docs/stable/user_guide/indexing.html#returning-a-view-versus-a-copy\n"
     ]
    }
   ],
   "source": [
    "%%time\n",
    "dt_score_sc=sc.scorecard_ply(dt,card_sc)"
   ]
  },
  {
   "cell_type": "code",
   "execution_count": 27,
   "id": "18f2078e",
   "metadata": {},
   "outputs": [
    {
     "name": "stdout",
     "output_type": "stream",
     "text": [
      "CPU times: user 65 ms, sys: 3.53 ms, total: 68.5 ms\n",
      "Wall time: 65.8 ms\n"
     ]
    }
   ],
   "source": [
    "%%time\n",
    "dt_score_bm=card_obj.transform(X)"
   ]
  },
  {
   "cell_type": "code",
   "execution_count": 28,
   "id": "d6a80926",
   "metadata": {},
   "outputs": [
    {
     "data": {
      "text/plain": [
       "True"
      ]
     },
     "execution_count": 28,
     "metadata": {},
     "output_type": "execute_result"
    }
   ],
   "source": [
    "dt_score_sc['score'].equals(dt_score_bm['score'])"
   ]
  }
 ],
 "metadata": {
  "kernelspec": {
   "display_name": "Python 3 (ipykernel)",
   "language": "python",
   "name": "python3"
  },
  "language_info": {
   "codemirror_mode": {
    "name": "ipython",
    "version": 3
   },
   "file_extension": ".py",
   "mimetype": "text/x-python",
   "name": "python",
   "nbconvert_exporter": "python",
   "pygments_lexer": "ipython3",
   "version": "3.9.7"
  },
  "toc": {
   "base_numbering": 1,
   "nav_menu": {},
   "number_sections": true,
   "sideBar": true,
   "skip_h1_title": false,
   "title_cell": "Table of Contents",
   "title_sidebar": "Contents",
   "toc_cell": false,
   "toc_position": {},
   "toc_section_display": true,
   "toc_window_display": false
  }
 },
 "nbformat": 4,
 "nbformat_minor": 5
}
